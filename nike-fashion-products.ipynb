{
 "cells": [
  {
   "cell_type": "code",
   "execution_count": 1,
   "id": "9298c3df",
   "metadata": {
    "_cell_guid": "b1076dfc-b9ad-4769-8c92-a6c4dae69d19",
    "_uuid": "8f2839f25d086af736a60e9eeb907d3b93b6e0e5",
    "execution": {
     "iopub.execute_input": "2022-09-27T08:35:42.414488Z",
     "iopub.status.busy": "2022-09-27T08:35:42.413808Z",
     "iopub.status.idle": "2022-09-27T08:35:43.679631Z",
     "shell.execute_reply": "2022-09-27T08:35:43.678130Z"
    },
    "papermill": {
     "duration": 1.279543,
     "end_time": "2022-09-27T08:35:43.683603",
     "exception": false,
     "start_time": "2022-09-27T08:35:42.404060",
     "status": "completed"
    },
    "tags": []
   },
   "outputs": [
    {
     "name": "stdout",
     "output_type": "stream",
     "text": [
      "/kaggle/input/nike-fashion-products-dataset/nike_data_2022_09.csv\n"
     ]
    }
   ],
   "source": [
    "# This Python 3 environment comes with many helpful analytics libraries installed\n",
    "# It is defined by the kaggle/python Docker image: https://github.com/kaggle/docker-python\n",
    "# For example, here's several helpful packages to load\n",
    "\n",
    "import numpy as np # linear algebra\n",
    "import pandas as pd # data processing, CSV file I/O (e.g. pd.read_csv)\n",
    "import matplotlib.pyplot as plt\n",
    "import seaborn as sns\n",
    "# Input data files are available in the read-only \"../input/\" directory\n",
    "# For example, running this (by clicking run or pressing Shift+Enter) will list all files under the input directory\n",
    "\n",
    "import os\n",
    "for dirname, _, filenames in os.walk('/kaggle/input'):\n",
    "    for filename in filenames:\n",
    "        print(os.path.join(dirname, filename))\n",
    "\n",
    "# You can write up to 20GB to the current directory (/kaggle/working/) that gets preserved as output when you create a version using \"Save & Run All\" \n",
    "# You can also write temporary files to /kaggle/temp/, but they won't be saved outside of the current session"
   ]
  },
  {
   "cell_type": "markdown",
   "id": "3f40a9e7",
   "metadata": {
    "papermill": {
     "duration": 0.005069,
     "end_time": "2022-09-27T08:35:43.694798",
     "exception": false,
     "start_time": "2022-09-27T08:35:43.689729",
     "status": "completed"
    },
    "tags": []
   },
   "source": [
    "# Loading Data"
   ]
  },
  {
   "cell_type": "code",
   "execution_count": 2,
   "id": "7f4be0d8",
   "metadata": {
    "execution": {
     "iopub.execute_input": "2022-09-27T08:35:43.706806Z",
     "iopub.status.busy": "2022-09-27T08:35:43.706409Z",
     "iopub.status.idle": "2022-09-27T08:35:43.739512Z",
     "shell.execute_reply": "2022-09-27T08:35:43.738262Z"
    },
    "papermill": {
     "duration": 0.042243,
     "end_time": "2022-09-27T08:35:43.742252",
     "exception": false,
     "start_time": "2022-09-27T08:35:43.700009",
     "status": "completed"
    },
    "tags": []
   },
   "outputs": [],
   "source": [
    "data = pd.read_csv('/kaggle/input/nike-fashion-products-dataset/nike_data_2022_09.csv')"
   ]
  },
  {
   "cell_type": "code",
   "execution_count": 3,
   "id": "9842f8a3",
   "metadata": {
    "execution": {
     "iopub.execute_input": "2022-09-27T08:35:43.755140Z",
     "iopub.status.busy": "2022-09-27T08:35:43.754345Z",
     "iopub.status.idle": "2022-09-27T08:35:43.817374Z",
     "shell.execute_reply": "2022-09-27T08:35:43.816101Z"
    },
    "papermill": {
     "duration": 0.073562,
     "end_time": "2022-09-27T08:35:43.821172",
     "exception": false,
     "start_time": "2022-09-27T08:35:43.747610",
     "status": "completed"
    },
    "tags": []
   },
   "outputs": [
    {
     "name": "stdout",
     "output_type": "stream",
     "text": [
      "(112, 17)\n",
      "-----------\n",
      "url                 object\n",
      "name                object\n",
      "sub_title           object\n",
      "brand               object\n",
      "model                int64\n",
      "color               object\n",
      "price              float64\n",
      "currency            object\n",
      "availability        object\n",
      "description         object\n",
      "raw_description     object\n",
      "avg_rating         float64\n",
      "review_count       float64\n",
      "images              object\n",
      "available_sizes     object\n",
      "uniq_id             object\n",
      "scraped_at          object\n",
      "dtype: object\n",
      "-----------\n",
      "              model       price  avg_rating  review_count\n",
      "count  1.120000e+02  112.000000   23.000000     23.000000\n",
      "mean   9.298439e+07   61.506250    4.773913     31.391304\n",
      "std    2.698557e+08   39.887738    0.336043     72.942530\n",
      "min    1.013351e+07    9.970000    3.800000      1.000000\n",
      "25%    1.329489e+07   31.720000    4.750000      1.000000\n",
      "50%    1.389103e+07   45.000000    4.800000      5.000000\n",
      "75%    1.406539e+07   85.242500    5.000000     13.000000\n",
      "max    1.007648e+09  175.000000    5.000000    316.000000\n",
      "-----------\n",
      "<class 'pandas.core.frame.DataFrame'>\n",
      "RangeIndex: 112 entries, 0 to 111\n",
      "Data columns (total 17 columns):\n",
      " #   Column           Non-Null Count  Dtype  \n",
      "---  ------           --------------  -----  \n",
      " 0   url              112 non-null    object \n",
      " 1   name             112 non-null    object \n",
      " 2   sub_title        112 non-null    object \n",
      " 3   brand            112 non-null    object \n",
      " 4   model            112 non-null    int64  \n",
      " 5   color            110 non-null    object \n",
      " 6   price            112 non-null    float64\n",
      " 7   currency         112 non-null    object \n",
      " 8   availability     108 non-null    object \n",
      " 9   description      112 non-null    object \n",
      " 10  raw_description  112 non-null    object \n",
      " 11  avg_rating       23 non-null     float64\n",
      " 12  review_count     23 non-null     float64\n",
      " 13  images           108 non-null    object \n",
      " 14  available_sizes  56 non-null     object \n",
      " 15  uniq_id          112 non-null    object \n",
      " 16  scraped_at       112 non-null    object \n",
      "dtypes: float64(3), int64(1), object(13)\n",
      "memory usage: 15.0+ KB\n",
      "None\n",
      "-----------\n",
      "       url   name  sub_title  brand  model  color  price  currency  \\\n",
      "0    False  False      False  False  False  False  False     False   \n",
      "1    False  False      False  False  False  False  False     False   \n",
      "2    False  False      False  False  False  False  False     False   \n",
      "3    False  False      False  False  False  False  False     False   \n",
      "4    False  False      False  False  False  False  False     False   \n",
      "..     ...    ...        ...    ...    ...    ...    ...       ...   \n",
      "107  False  False      False  False  False  False  False     False   \n",
      "108  False  False      False  False  False  False  False     False   \n",
      "109  False  False      False  False  False  False  False     False   \n",
      "110  False  False      False  False  False  False  False     False   \n",
      "111  False  False      False  False  False  False  False     False   \n",
      "\n",
      "     availability  description  raw_description  avg_rating  review_count  \\\n",
      "0           False        False            False        True          True   \n",
      "1           False        False            False       False         False   \n",
      "2           False        False            False       False         False   \n",
      "3           False        False            False        True          True   \n",
      "4           False        False            False        True          True   \n",
      "..            ...          ...              ...         ...           ...   \n",
      "107         False        False            False        True          True   \n",
      "108         False        False            False        True          True   \n",
      "109         False        False            False        True          True   \n",
      "110         False        False            False        True          True   \n",
      "111         False        False            False        True          True   \n",
      "\n",
      "     images  available_sizes  uniq_id  scraped_at  \n",
      "0     False            False    False       False  \n",
      "1     False            False    False       False  \n",
      "2     False             True    False       False  \n",
      "3     False             True    False       False  \n",
      "4     False            False    False       False  \n",
      "..      ...              ...      ...         ...  \n",
      "107   False             True    False       False  \n",
      "108   False            False    False       False  \n",
      "109   False             True    False       False  \n",
      "110   False            False    False       False  \n",
      "111   False             True    False       False  \n",
      "\n",
      "[112 rows x 17 columns]\n"
     ]
    }
   ],
   "source": [
    "print(data.shape)\n",
    "print(\"-----------\")\n",
    "print(data.dtypes)\n",
    "print(\"-----------\")\n",
    "print(data.describe()) \n",
    "print(\"-----------\")\n",
    "print(data.info()) \n",
    "print(\"-----------\")\n",
    "print(data.isnull())"
   ]
  },
  {
   "cell_type": "code",
   "execution_count": 4,
   "id": "1fef3912",
   "metadata": {
    "execution": {
     "iopub.execute_input": "2022-09-27T08:35:43.839462Z",
     "iopub.status.busy": "2022-09-27T08:35:43.838748Z",
     "iopub.status.idle": "2022-09-27T08:35:43.862523Z",
     "shell.execute_reply": "2022-09-27T08:35:43.861722Z"
    },
    "papermill": {
     "duration": 0.036129,
     "end_time": "2022-09-27T08:35:43.865519",
     "exception": false,
     "start_time": "2022-09-27T08:35:43.829390",
     "status": "completed"
    },
    "tags": []
   },
   "outputs": [
    {
     "data": {
      "text/html": [
       "<div>\n",
       "<style scoped>\n",
       "    .dataframe tbody tr th:only-of-type {\n",
       "        vertical-align: middle;\n",
       "    }\n",
       "\n",
       "    .dataframe tbody tr th {\n",
       "        vertical-align: top;\n",
       "    }\n",
       "\n",
       "    .dataframe thead th {\n",
       "        text-align: right;\n",
       "    }\n",
       "</style>\n",
       "<table border=\"1\" class=\"dataframe\">\n",
       "  <thead>\n",
       "    <tr style=\"text-align: right;\">\n",
       "      <th></th>\n",
       "      <th>url</th>\n",
       "      <th>name</th>\n",
       "      <th>sub_title</th>\n",
       "      <th>brand</th>\n",
       "      <th>model</th>\n",
       "      <th>color</th>\n",
       "      <th>price</th>\n",
       "      <th>currency</th>\n",
       "      <th>availability</th>\n",
       "      <th>description</th>\n",
       "      <th>raw_description</th>\n",
       "      <th>avg_rating</th>\n",
       "      <th>review_count</th>\n",
       "      <th>images</th>\n",
       "      <th>available_sizes</th>\n",
       "      <th>uniq_id</th>\n",
       "      <th>scraped_at</th>\n",
       "    </tr>\n",
       "  </thead>\n",
       "  <tbody>\n",
       "    <tr>\n",
       "      <th>0</th>\n",
       "      <td>https://www.nike.com/t/dri-fit-team-minnesota-...</td>\n",
       "      <td>Nike Dri-FIT Team (MLB Minnesota Twins)</td>\n",
       "      <td>Men's Long-Sleeve T-Shirt</td>\n",
       "      <td>Nike</td>\n",
       "      <td>14226571</td>\n",
       "      <td>Navy</td>\n",
       "      <td>40.0</td>\n",
       "      <td>USD</td>\n",
       "      <td>InStock</td>\n",
       "      <td>SWEAT-WICKING COMFORT.The Nike Dri-FIT Team (M...</td>\n",
       "      <td>&lt;div class=\"pi-pdpmainbody\"&gt;&lt;p&gt;&lt;b class=\"headl...</td>\n",
       "      <td>0.0</td>\n",
       "      <td>0.0</td>\n",
       "      <td>https://static.nike.com/a/images/t_PDP_1280_v1...</td>\n",
       "      <td>S | M | L | XL | 2XL</td>\n",
       "      <td>c3229e54-aa58-5fdd-9f71-fbe66366b2b2</td>\n",
       "      <td>20/09/2022 23:32:28</td>\n",
       "    </tr>\n",
       "    <tr>\n",
       "      <th>1</th>\n",
       "      <td>https://www.nike.com/t/club-américa-womens-dri...</td>\n",
       "      <td>Club América</td>\n",
       "      <td>Women's Nike Dri-FIT Soccer Jersey Dress</td>\n",
       "      <td>Nike</td>\n",
       "      <td>13814665</td>\n",
       "      <td>Black/Black</td>\n",
       "      <td>90.0</td>\n",
       "      <td>USD</td>\n",
       "      <td>InStock</td>\n",
       "      <td>Inspired by traditional soccer jerseys, the Cl...</td>\n",
       "      <td>&lt;div class=\"pi-pdpmainbody\"&gt;&lt;br/&gt;&lt;p&gt;Inspired b...</td>\n",
       "      <td>5.0</td>\n",
       "      <td>1.0</td>\n",
       "      <td>https://static.nike.com/a/images/t_PDP_1280_v1...</td>\n",
       "      <td>L (12–14)</td>\n",
       "      <td>f8ebb2ed-17ae-5719-b750-5ea3ec69b75c</td>\n",
       "      <td>20/09/2022 23:32:40</td>\n",
       "    </tr>\n",
       "    <tr>\n",
       "      <th>2</th>\n",
       "      <td>https://www.nike.com/t/sportswear-swoosh-mens-...</td>\n",
       "      <td>Nike Sportswear Swoosh</td>\n",
       "      <td>Men's Overalls</td>\n",
       "      <td>Nike</td>\n",
       "      <td>13015648</td>\n",
       "      <td>Black/White</td>\n",
       "      <td>140.0</td>\n",
       "      <td>USD</td>\n",
       "      <td>OutOfStock</td>\n",
       "      <td>WORKING HARD TO KEEP YOU COMFORTABLE.The Nike ...</td>\n",
       "      <td>&lt;div class=\"pi-pdpmainbody\"&gt;&lt;p&gt;&lt;b class=\"headl...</td>\n",
       "      <td>4.9</td>\n",
       "      <td>11.0</td>\n",
       "      <td>https://static.nike.com/a/images/t_PDP_1280_v1...</td>\n",
       "      <td>0</td>\n",
       "      <td>88120081-e6cb-5399-b9dc-a2d3d5dd5206</td>\n",
       "      <td>20/09/2022 23:33:16</td>\n",
       "    </tr>\n",
       "  </tbody>\n",
       "</table>\n",
       "</div>"
      ],
      "text/plain": [
       "                                                 url  \\\n",
       "0  https://www.nike.com/t/dri-fit-team-minnesota-...   \n",
       "1  https://www.nike.com/t/club-américa-womens-dri...   \n",
       "2  https://www.nike.com/t/sportswear-swoosh-mens-...   \n",
       "\n",
       "                                      name  \\\n",
       "0  Nike Dri-FIT Team (MLB Minnesota Twins)   \n",
       "1                             Club América   \n",
       "2                   Nike Sportswear Swoosh   \n",
       "\n",
       "                                  sub_title brand     model        color  \\\n",
       "0                 Men's Long-Sleeve T-Shirt  Nike  14226571         Navy   \n",
       "1  Women's Nike Dri-FIT Soccer Jersey Dress  Nike  13814665  Black/Black   \n",
       "2                            Men's Overalls  Nike  13015648  Black/White   \n",
       "\n",
       "   price currency availability  \\\n",
       "0   40.0      USD      InStock   \n",
       "1   90.0      USD      InStock   \n",
       "2  140.0      USD   OutOfStock   \n",
       "\n",
       "                                         description  \\\n",
       "0  SWEAT-WICKING COMFORT.The Nike Dri-FIT Team (M...   \n",
       "1  Inspired by traditional soccer jerseys, the Cl...   \n",
       "2  WORKING HARD TO KEEP YOU COMFORTABLE.The Nike ...   \n",
       "\n",
       "                                     raw_description  avg_rating  \\\n",
       "0  <div class=\"pi-pdpmainbody\"><p><b class=\"headl...         0.0   \n",
       "1  <div class=\"pi-pdpmainbody\"><br/><p>Inspired b...         5.0   \n",
       "2  <div class=\"pi-pdpmainbody\"><p><b class=\"headl...         4.9   \n",
       "\n",
       "   review_count                                             images  \\\n",
       "0           0.0  https://static.nike.com/a/images/t_PDP_1280_v1...   \n",
       "1           1.0  https://static.nike.com/a/images/t_PDP_1280_v1...   \n",
       "2          11.0  https://static.nike.com/a/images/t_PDP_1280_v1...   \n",
       "\n",
       "        available_sizes                               uniq_id  \\\n",
       "0  S | M | L | XL | 2XL  c3229e54-aa58-5fdd-9f71-fbe66366b2b2   \n",
       "1             L (12–14)  f8ebb2ed-17ae-5719-b750-5ea3ec69b75c   \n",
       "2                     0  88120081-e6cb-5399-b9dc-a2d3d5dd5206   \n",
       "\n",
       "            scraped_at  \n",
       "0  20/09/2022 23:32:28  \n",
       "1  20/09/2022 23:32:40  \n",
       "2  20/09/2022 23:33:16  "
      ]
     },
     "execution_count": 4,
     "metadata": {},
     "output_type": "execute_result"
    }
   ],
   "source": [
    "data = data.fillna(0)\n",
    "data.head(3)"
   ]
  },
  {
   "cell_type": "code",
   "execution_count": 5,
   "id": "89af19f7",
   "metadata": {
    "execution": {
     "iopub.execute_input": "2022-09-27T08:35:43.883303Z",
     "iopub.status.busy": "2022-09-27T08:35:43.882413Z",
     "iopub.status.idle": "2022-09-27T08:35:43.906662Z",
     "shell.execute_reply": "2022-09-27T08:35:43.905481Z"
    },
    "papermill": {
     "duration": 0.035267,
     "end_time": "2022-09-27T08:35:43.909595",
     "exception": false,
     "start_time": "2022-09-27T08:35:43.874328",
     "status": "completed"
    },
    "tags": []
   },
   "outputs": [
    {
     "data": {
      "text/html": [
       "<div>\n",
       "<style scoped>\n",
       "    .dataframe tbody tr th:only-of-type {\n",
       "        vertical-align: middle;\n",
       "    }\n",
       "\n",
       "    .dataframe tbody tr th {\n",
       "        vertical-align: top;\n",
       "    }\n",
       "\n",
       "    .dataframe thead th {\n",
       "        text-align: right;\n",
       "    }\n",
       "</style>\n",
       "<table border=\"1\" class=\"dataframe\">\n",
       "  <thead>\n",
       "    <tr style=\"text-align: right;\">\n",
       "      <th></th>\n",
       "      <th>name</th>\n",
       "      <th>sub_title</th>\n",
       "      <th>brand</th>\n",
       "      <th>model</th>\n",
       "      <th>color</th>\n",
       "      <th>price</th>\n",
       "      <th>currency</th>\n",
       "      <th>availability</th>\n",
       "      <th>description</th>\n",
       "      <th>avg_rating</th>\n",
       "      <th>review_count</th>\n",
       "      <th>available_sizes</th>\n",
       "      <th>uniq_id</th>\n",
       "    </tr>\n",
       "  </thead>\n",
       "  <tbody>\n",
       "    <tr>\n",
       "      <th>0</th>\n",
       "      <td>Nike Dri-FIT Team (MLB Minnesota Twins)</td>\n",
       "      <td>Men's Long-Sleeve T-Shirt</td>\n",
       "      <td>Nike</td>\n",
       "      <td>14226571</td>\n",
       "      <td>Navy</td>\n",
       "      <td>40.00</td>\n",
       "      <td>USD</td>\n",
       "      <td>InStock</td>\n",
       "      <td>SWEAT-WICKING COMFORT.The Nike Dri-FIT Team (M...</td>\n",
       "      <td>0.0</td>\n",
       "      <td>0.0</td>\n",
       "      <td>S | M | L | XL | 2XL</td>\n",
       "      <td>c3229e54-aa58-5fdd-9f71-fbe66366b2b2</td>\n",
       "    </tr>\n",
       "    <tr>\n",
       "      <th>1</th>\n",
       "      <td>Club América</td>\n",
       "      <td>Women's Nike Dri-FIT Soccer Jersey Dress</td>\n",
       "      <td>Nike</td>\n",
       "      <td>13814665</td>\n",
       "      <td>Black/Black</td>\n",
       "      <td>90.00</td>\n",
       "      <td>USD</td>\n",
       "      <td>InStock</td>\n",
       "      <td>Inspired by traditional soccer jerseys, the Cl...</td>\n",
       "      <td>5.0</td>\n",
       "      <td>1.0</td>\n",
       "      <td>L (12–14)</td>\n",
       "      <td>f8ebb2ed-17ae-5719-b750-5ea3ec69b75c</td>\n",
       "    </tr>\n",
       "    <tr>\n",
       "      <th>2</th>\n",
       "      <td>Nike Sportswear Swoosh</td>\n",
       "      <td>Men's Overalls</td>\n",
       "      <td>Nike</td>\n",
       "      <td>13015648</td>\n",
       "      <td>Black/White</td>\n",
       "      <td>140.00</td>\n",
       "      <td>USD</td>\n",
       "      <td>OutOfStock</td>\n",
       "      <td>WORKING HARD TO KEEP YOU COMFORTABLE.The Nike ...</td>\n",
       "      <td>4.9</td>\n",
       "      <td>11.0</td>\n",
       "      <td>0</td>\n",
       "      <td>88120081-e6cb-5399-b9dc-a2d3d5dd5206</td>\n",
       "    </tr>\n",
       "    <tr>\n",
       "      <th>3</th>\n",
       "      <td>Nike Dri-FIT One Luxe</td>\n",
       "      <td>Big Kids' (Girls') Printed Tights (Extended Size)</td>\n",
       "      <td>Nike</td>\n",
       "      <td>13809796</td>\n",
       "      <td>Black/Rush Pink</td>\n",
       "      <td>22.97</td>\n",
       "      <td>USD</td>\n",
       "      <td>OutOfStock</td>\n",
       "      <td>ELEVATED COMFORT GOES FULL BLOOM.The Nike Dri-...</td>\n",
       "      <td>0.0</td>\n",
       "      <td>0.0</td>\n",
       "      <td>0</td>\n",
       "      <td>98348cc5-1520-5b6e-a5f6-c42547b6a092</td>\n",
       "    </tr>\n",
       "    <tr>\n",
       "      <th>4</th>\n",
       "      <td>Paris Saint-Germain Repel Academy AWF</td>\n",
       "      <td>Big Kids' Soccer Jacket</td>\n",
       "      <td>Nike</td>\n",
       "      <td>13327415</td>\n",
       "      <td>Dark Grey/Black/Siren Red/Siren Red</td>\n",
       "      <td>70.00</td>\n",
       "      <td>USD</td>\n",
       "      <td>InStock</td>\n",
       "      <td>WATER-REPELLENT COVERAGE GETS PSG DETAILS.The ...</td>\n",
       "      <td>0.0</td>\n",
       "      <td>0.0</td>\n",
       "      <td>XS | S | M | L | XL</td>\n",
       "      <td>f15981a5-d8c9-53fa-880d-80606be188fe</td>\n",
       "    </tr>\n",
       "  </tbody>\n",
       "</table>\n",
       "</div>"
      ],
      "text/plain": [
       "                                      name  \\\n",
       "0  Nike Dri-FIT Team (MLB Minnesota Twins)   \n",
       "1                             Club América   \n",
       "2                   Nike Sportswear Swoosh   \n",
       "3                    Nike Dri-FIT One Luxe   \n",
       "4    Paris Saint-Germain Repel Academy AWF   \n",
       "\n",
       "                                           sub_title brand     model  \\\n",
       "0                          Men's Long-Sleeve T-Shirt  Nike  14226571   \n",
       "1           Women's Nike Dri-FIT Soccer Jersey Dress  Nike  13814665   \n",
       "2                                     Men's Overalls  Nike  13015648   \n",
       "3  Big Kids' (Girls') Printed Tights (Extended Size)  Nike  13809796   \n",
       "4                            Big Kids' Soccer Jacket  Nike  13327415   \n",
       "\n",
       "                                 color   price currency availability  \\\n",
       "0                                 Navy   40.00      USD      InStock   \n",
       "1                          Black/Black   90.00      USD      InStock   \n",
       "2                          Black/White  140.00      USD   OutOfStock   \n",
       "3                      Black/Rush Pink   22.97      USD   OutOfStock   \n",
       "4  Dark Grey/Black/Siren Red/Siren Red   70.00      USD      InStock   \n",
       "\n",
       "                                         description  avg_rating  \\\n",
       "0  SWEAT-WICKING COMFORT.The Nike Dri-FIT Team (M...         0.0   \n",
       "1  Inspired by traditional soccer jerseys, the Cl...         5.0   \n",
       "2  WORKING HARD TO KEEP YOU COMFORTABLE.The Nike ...         4.9   \n",
       "3  ELEVATED COMFORT GOES FULL BLOOM.The Nike Dri-...         0.0   \n",
       "4  WATER-REPELLENT COVERAGE GETS PSG DETAILS.The ...         0.0   \n",
       "\n",
       "   review_count       available_sizes                               uniq_id  \n",
       "0           0.0  S | M | L | XL | 2XL  c3229e54-aa58-5fdd-9f71-fbe66366b2b2  \n",
       "1           1.0             L (12–14)  f8ebb2ed-17ae-5719-b750-5ea3ec69b75c  \n",
       "2          11.0                     0  88120081-e6cb-5399-b9dc-a2d3d5dd5206  \n",
       "3           0.0                     0  98348cc5-1520-5b6e-a5f6-c42547b6a092  \n",
       "4           0.0   XS | S | M | L | XL  f15981a5-d8c9-53fa-880d-80606be188fe  "
      ]
     },
     "execution_count": 5,
     "metadata": {},
     "output_type": "execute_result"
    }
   ],
   "source": [
    "data = data.drop(['url','raw_description','images','scraped_at'], axis=1)\n",
    "data.head()"
   ]
  },
  {
   "cell_type": "code",
   "execution_count": 6,
   "id": "4301b899",
   "metadata": {
    "execution": {
     "iopub.execute_input": "2022-09-27T08:35:43.929417Z",
     "iopub.status.busy": "2022-09-27T08:35:43.929014Z",
     "iopub.status.idle": "2022-09-27T08:35:43.935967Z",
     "shell.execute_reply": "2022-09-27T08:35:43.934950Z"
    },
    "papermill": {
     "duration": 0.019947,
     "end_time": "2022-09-27T08:35:43.938736",
     "exception": false,
     "start_time": "2022-09-27T08:35:43.918789",
     "status": "completed"
    },
    "tags": []
   },
   "outputs": [],
   "source": [
    "unique_sub_title = data.sub_title.unique()\n",
    "value_counts_sub_title = data.sub_title.value_counts()"
   ]
  },
  {
   "cell_type": "markdown",
   "id": "bea07f38",
   "metadata": {
    "papermill": {
     "duration": 0.00752,
     "end_time": "2022-09-27T08:35:43.955213",
     "exception": false,
     "start_time": "2022-09-27T08:35:43.947693",
     "status": "completed"
    },
    "tags": []
   },
   "source": [
    "# NIKE Sub_Title Barchart"
   ]
  },
  {
   "cell_type": "code",
   "execution_count": 7,
   "id": "3fbadbf8",
   "metadata": {
    "execution": {
     "iopub.execute_input": "2022-09-27T08:35:43.969626Z",
     "iopub.status.busy": "2022-09-27T08:35:43.968763Z",
     "iopub.status.idle": "2022-09-27T08:35:46.302000Z",
     "shell.execute_reply": "2022-09-27T08:35:46.300826Z"
    },
    "papermill": {
     "duration": 2.343501,
     "end_time": "2022-09-27T08:35:46.304692",
     "exception": false,
     "start_time": "2022-09-27T08:35:43.961191",
     "status": "completed"
    },
    "tags": []
   },
   "outputs": [
    {
     "data": {
      "text/html": [
       "        <script type=\"text/javascript\">\n",
       "        window.PlotlyConfig = {MathJaxConfig: 'local'};\n",
       "        if (window.MathJax && window.MathJax.Hub && window.MathJax.Hub.Config) {window.MathJax.Hub.Config({SVG: {font: \"STIX-Web\"}});}\n",
       "        if (typeof require !== 'undefined') {\n",
       "        require.undef(\"plotly\");\n",
       "        requirejs.config({\n",
       "            paths: {\n",
       "                'plotly': ['https://cdn.plot.ly/plotly-2.14.0.min']\n",
       "            }\n",
       "        });\n",
       "        require(['plotly'], function(Plotly) {\n",
       "            window._Plotly = Plotly;\n",
       "        });\n",
       "        }\n",
       "        </script>\n",
       "        "
      ]
     },
     "metadata": {},
     "output_type": "display_data"
    },
    {
     "data": {
      "application/vnd.plotly.v1+json": {
       "config": {
        "plotlyServerURL": "https://plot.ly"
       },
       "data": [
        {
         "alignmentgroup": "True",
         "hovertemplate": "x=%{x}<br>y=%{y}<extra></extra>",
         "legendgroup": "",
         "marker": {
          "color": "#636efa",
          "pattern": {
           "shape": ""
          }
         },
         "name": "",
         "offsetgroup": "",
         "orientation": "v",
         "showlegend": false,
         "textposition": "auto",
         "type": "bar",
         "x": [
          "Men's Long-Sleeve T-Shirt",
          "Women's Nike Dri-FIT Soccer Jersey Dress",
          "Men's Overalls",
          "Big Kids' (Girls') Printed Tights (Extended Size)",
          "Big Kids' Soccer Jacket",
          "Men's Game Football Jersey",
          "Nike NBA Swingman Jersey",
          "Men's Max 90 T-Shirt",
          "Men's Logo T-Shirt",
          "Men's Pullover Hoodie",
          "Little Kids' Joggers",
          "Big Kids' Nike Dri-FIT Short-Sleeve Soccer Top",
          "Women's Nike Dri-FIT Soccer Jersey",
          "Men's Full-Zip Hoodie",
          "Men's Shorts",
          "Men's T-Shirt",
          "Women's Long-Sleeve 1/2-Zip Fleece",
          "Men's Nike Dri-FIT Soccer Shorts",
          "Hat",
          "Men's NBA T-Shirt",
          "Boys' Board Shorts",
          "Men's Limited Football Jersey",
          "Shoes",
          "Men's Shoes",
          "Women's Boxy T-Shirt",
          "Little Kids' JDI Hat",
          "Men's Printed Headband",
          "Sunglasses",
          "Women's Pullover Hoodie",
          "Big Kids' Shoes",
          "Men's Nike Dri-FIT Soccer Track Jacket",
          "Women's Replica Baseball Jersey",
          "Men's Replica Baseball Jersey",
          "Toddler T-Shirt and Shorts Set",
          "Men's Basketball Shoes",
          "Little Kids' Hoodie",
          "Women's T-Shirt",
          "Little Kids' T-Shirt and Shorts Set",
          "Nike Dri-FIT WNBA Victory Jersey",
          "Big Kids' (Boys') Pullover Hoodie",
          "Big Kids' Nike Dri-FIT Soccer Jersey",
          "Men's Polo",
          "Men's Tank Top",
          "Men's Tights",
          "Tactical Boot",
          "Toddler Top and Leggings Set",
          "Adjustable Cap",
          "Ball Pump",
          "Women's Twist Mesh Headband",
          "Nike Dri-FIT NBA Cap",
          "Strength Training Ball",
          "Men's Coaches' Jacket",
          "Women's High-Rise Fleece Dance Shorts",
          "Women's Cropped T-Shirt",
          "Men's Jordan NBA T-Shirt",
          "Printed Tennis T-Shirt",
          "Men's 1/2-Zip Jacket",
          "Little Kids' High-Waisted Leggings",
          "Big Kids’ (Boys’) Crew-Neck Training Sweatshirt",
          "Kids' Scrunchie",
          "Men's Nike NBA Shorts",
          "Men's Punk Crew",
          "Women's Nike NBA Cropped T-Shirt",
          "Women's 7/8 Leggings",
          "Printed Training Backpack (Extra Large, 30L)",
          "Men's Soccer Jacket",
          "Big Kids' (Boys') Training Top",
          "Men's Basketball Shorts",
          "Women's Tank Top",
          "Little Kids' Base Layer Top",
          "Men's Golf Polo",
          "Big Kids' (Girls') Reversible Printed Sports Bra",
          "Men's Nike NBA Swingman Shorts",
          "Cap",
          "Nike NBA Beanie",
          "Men's Long-Sleeve Hooded T-Shirt",
          "Calf Sleeves",
          "Ponytail Holder (9-Pack)",
          "Basketball Shoes",
          "Big Kids' (Boys') Full-Zip Jacket"
         ],
         "xaxis": "x",
         "y": [
          5,
          5,
          4,
          4,
          4,
          3,
          3,
          2,
          2,
          2,
          2,
          2,
          2,
          2,
          2,
          2,
          2,
          2,
          1,
          1,
          1,
          1,
          1,
          1,
          1,
          1,
          1,
          1,
          1,
          1,
          1,
          1,
          1,
          1,
          1,
          1,
          1,
          1,
          1,
          1,
          1,
          1,
          1,
          1,
          1,
          1,
          1,
          1,
          1,
          1,
          1,
          1,
          1,
          1,
          1,
          1,
          1,
          1,
          1,
          1,
          1,
          1,
          1,
          1,
          1,
          1,
          1,
          1,
          1,
          1,
          1,
          1,
          1,
          1,
          1,
          1,
          1,
          1,
          1,
          1
         ],
         "yaxis": "y"
        }
       ],
       "layout": {
        "barmode": "relative",
        "height": 700,
        "legend": {
         "tracegroupgap": 0
        },
        "margin": {
         "t": 60
        },
        "template": {
         "data": {
          "bar": [
           {
            "error_x": {
             "color": "#2a3f5f"
            },
            "error_y": {
             "color": "#2a3f5f"
            },
            "marker": {
             "line": {
              "color": "#E5ECF6",
              "width": 0.5
             },
             "pattern": {
              "fillmode": "overlay",
              "size": 10,
              "solidity": 0.2
             }
            },
            "type": "bar"
           }
          ],
          "barpolar": [
           {
            "marker": {
             "line": {
              "color": "#E5ECF6",
              "width": 0.5
             },
             "pattern": {
              "fillmode": "overlay",
              "size": 10,
              "solidity": 0.2
             }
            },
            "type": "barpolar"
           }
          ],
          "carpet": [
           {
            "aaxis": {
             "endlinecolor": "#2a3f5f",
             "gridcolor": "white",
             "linecolor": "white",
             "minorgridcolor": "white",
             "startlinecolor": "#2a3f5f"
            },
            "baxis": {
             "endlinecolor": "#2a3f5f",
             "gridcolor": "white",
             "linecolor": "white",
             "minorgridcolor": "white",
             "startlinecolor": "#2a3f5f"
            },
            "type": "carpet"
           }
          ],
          "choropleth": [
           {
            "colorbar": {
             "outlinewidth": 0,
             "ticks": ""
            },
            "type": "choropleth"
           }
          ],
          "contour": [
           {
            "colorbar": {
             "outlinewidth": 0,
             "ticks": ""
            },
            "colorscale": [
             [
              0.0,
              "#0d0887"
             ],
             [
              0.1111111111111111,
              "#46039f"
             ],
             [
              0.2222222222222222,
              "#7201a8"
             ],
             [
              0.3333333333333333,
              "#9c179e"
             ],
             [
              0.4444444444444444,
              "#bd3786"
             ],
             [
              0.5555555555555556,
              "#d8576b"
             ],
             [
              0.6666666666666666,
              "#ed7953"
             ],
             [
              0.7777777777777778,
              "#fb9f3a"
             ],
             [
              0.8888888888888888,
              "#fdca26"
             ],
             [
              1.0,
              "#f0f921"
             ]
            ],
            "type": "contour"
           }
          ],
          "contourcarpet": [
           {
            "colorbar": {
             "outlinewidth": 0,
             "ticks": ""
            },
            "type": "contourcarpet"
           }
          ],
          "heatmap": [
           {
            "colorbar": {
             "outlinewidth": 0,
             "ticks": ""
            },
            "colorscale": [
             [
              0.0,
              "#0d0887"
             ],
             [
              0.1111111111111111,
              "#46039f"
             ],
             [
              0.2222222222222222,
              "#7201a8"
             ],
             [
              0.3333333333333333,
              "#9c179e"
             ],
             [
              0.4444444444444444,
              "#bd3786"
             ],
             [
              0.5555555555555556,
              "#d8576b"
             ],
             [
              0.6666666666666666,
              "#ed7953"
             ],
             [
              0.7777777777777778,
              "#fb9f3a"
             ],
             [
              0.8888888888888888,
              "#fdca26"
             ],
             [
              1.0,
              "#f0f921"
             ]
            ],
            "type": "heatmap"
           }
          ],
          "heatmapgl": [
           {
            "colorbar": {
             "outlinewidth": 0,
             "ticks": ""
            },
            "colorscale": [
             [
              0.0,
              "#0d0887"
             ],
             [
              0.1111111111111111,
              "#46039f"
             ],
             [
              0.2222222222222222,
              "#7201a8"
             ],
             [
              0.3333333333333333,
              "#9c179e"
             ],
             [
              0.4444444444444444,
              "#bd3786"
             ],
             [
              0.5555555555555556,
              "#d8576b"
             ],
             [
              0.6666666666666666,
              "#ed7953"
             ],
             [
              0.7777777777777778,
              "#fb9f3a"
             ],
             [
              0.8888888888888888,
              "#fdca26"
             ],
             [
              1.0,
              "#f0f921"
             ]
            ],
            "type": "heatmapgl"
           }
          ],
          "histogram": [
           {
            "marker": {
             "pattern": {
              "fillmode": "overlay",
              "size": 10,
              "solidity": 0.2
             }
            },
            "type": "histogram"
           }
          ],
          "histogram2d": [
           {
            "colorbar": {
             "outlinewidth": 0,
             "ticks": ""
            },
            "colorscale": [
             [
              0.0,
              "#0d0887"
             ],
             [
              0.1111111111111111,
              "#46039f"
             ],
             [
              0.2222222222222222,
              "#7201a8"
             ],
             [
              0.3333333333333333,
              "#9c179e"
             ],
             [
              0.4444444444444444,
              "#bd3786"
             ],
             [
              0.5555555555555556,
              "#d8576b"
             ],
             [
              0.6666666666666666,
              "#ed7953"
             ],
             [
              0.7777777777777778,
              "#fb9f3a"
             ],
             [
              0.8888888888888888,
              "#fdca26"
             ],
             [
              1.0,
              "#f0f921"
             ]
            ],
            "type": "histogram2d"
           }
          ],
          "histogram2dcontour": [
           {
            "colorbar": {
             "outlinewidth": 0,
             "ticks": ""
            },
            "colorscale": [
             [
              0.0,
              "#0d0887"
             ],
             [
              0.1111111111111111,
              "#46039f"
             ],
             [
              0.2222222222222222,
              "#7201a8"
             ],
             [
              0.3333333333333333,
              "#9c179e"
             ],
             [
              0.4444444444444444,
              "#bd3786"
             ],
             [
              0.5555555555555556,
              "#d8576b"
             ],
             [
              0.6666666666666666,
              "#ed7953"
             ],
             [
              0.7777777777777778,
              "#fb9f3a"
             ],
             [
              0.8888888888888888,
              "#fdca26"
             ],
             [
              1.0,
              "#f0f921"
             ]
            ],
            "type": "histogram2dcontour"
           }
          ],
          "mesh3d": [
           {
            "colorbar": {
             "outlinewidth": 0,
             "ticks": ""
            },
            "type": "mesh3d"
           }
          ],
          "parcoords": [
           {
            "line": {
             "colorbar": {
              "outlinewidth": 0,
              "ticks": ""
             }
            },
            "type": "parcoords"
           }
          ],
          "pie": [
           {
            "automargin": true,
            "type": "pie"
           }
          ],
          "scatter": [
           {
            "fillpattern": {
             "fillmode": "overlay",
             "size": 10,
             "solidity": 0.2
            },
            "type": "scatter"
           }
          ],
          "scatter3d": [
           {
            "line": {
             "colorbar": {
              "outlinewidth": 0,
              "ticks": ""
             }
            },
            "marker": {
             "colorbar": {
              "outlinewidth": 0,
              "ticks": ""
             }
            },
            "type": "scatter3d"
           }
          ],
          "scattercarpet": [
           {
            "marker": {
             "colorbar": {
              "outlinewidth": 0,
              "ticks": ""
             }
            },
            "type": "scattercarpet"
           }
          ],
          "scattergeo": [
           {
            "marker": {
             "colorbar": {
              "outlinewidth": 0,
              "ticks": ""
             }
            },
            "type": "scattergeo"
           }
          ],
          "scattergl": [
           {
            "marker": {
             "colorbar": {
              "outlinewidth": 0,
              "ticks": ""
             }
            },
            "type": "scattergl"
           }
          ],
          "scattermapbox": [
           {
            "marker": {
             "colorbar": {
              "outlinewidth": 0,
              "ticks": ""
             }
            },
            "type": "scattermapbox"
           }
          ],
          "scatterpolar": [
           {
            "marker": {
             "colorbar": {
              "outlinewidth": 0,
              "ticks": ""
             }
            },
            "type": "scatterpolar"
           }
          ],
          "scatterpolargl": [
           {
            "marker": {
             "colorbar": {
              "outlinewidth": 0,
              "ticks": ""
             }
            },
            "type": "scatterpolargl"
           }
          ],
          "scatterternary": [
           {
            "marker": {
             "colorbar": {
              "outlinewidth": 0,
              "ticks": ""
             }
            },
            "type": "scatterternary"
           }
          ],
          "surface": [
           {
            "colorbar": {
             "outlinewidth": 0,
             "ticks": ""
            },
            "colorscale": [
             [
              0.0,
              "#0d0887"
             ],
             [
              0.1111111111111111,
              "#46039f"
             ],
             [
              0.2222222222222222,
              "#7201a8"
             ],
             [
              0.3333333333333333,
              "#9c179e"
             ],
             [
              0.4444444444444444,
              "#bd3786"
             ],
             [
              0.5555555555555556,
              "#d8576b"
             ],
             [
              0.6666666666666666,
              "#ed7953"
             ],
             [
              0.7777777777777778,
              "#fb9f3a"
             ],
             [
              0.8888888888888888,
              "#fdca26"
             ],
             [
              1.0,
              "#f0f921"
             ]
            ],
            "type": "surface"
           }
          ],
          "table": [
           {
            "cells": {
             "fill": {
              "color": "#EBF0F8"
             },
             "line": {
              "color": "white"
             }
            },
            "header": {
             "fill": {
              "color": "#C8D4E3"
             },
             "line": {
              "color": "white"
             }
            },
            "type": "table"
           }
          ]
         },
         "layout": {
          "annotationdefaults": {
           "arrowcolor": "#2a3f5f",
           "arrowhead": 0,
           "arrowwidth": 1
          },
          "autotypenumbers": "strict",
          "coloraxis": {
           "colorbar": {
            "outlinewidth": 0,
            "ticks": ""
           }
          },
          "colorscale": {
           "diverging": [
            [
             0,
             "#8e0152"
            ],
            [
             0.1,
             "#c51b7d"
            ],
            [
             0.2,
             "#de77ae"
            ],
            [
             0.3,
             "#f1b6da"
            ],
            [
             0.4,
             "#fde0ef"
            ],
            [
             0.5,
             "#f7f7f7"
            ],
            [
             0.6,
             "#e6f5d0"
            ],
            [
             0.7,
             "#b8e186"
            ],
            [
             0.8,
             "#7fbc41"
            ],
            [
             0.9,
             "#4d9221"
            ],
            [
             1,
             "#276419"
            ]
           ],
           "sequential": [
            [
             0.0,
             "#0d0887"
            ],
            [
             0.1111111111111111,
             "#46039f"
            ],
            [
             0.2222222222222222,
             "#7201a8"
            ],
            [
             0.3333333333333333,
             "#9c179e"
            ],
            [
             0.4444444444444444,
             "#bd3786"
            ],
            [
             0.5555555555555556,
             "#d8576b"
            ],
            [
             0.6666666666666666,
             "#ed7953"
            ],
            [
             0.7777777777777778,
             "#fb9f3a"
            ],
            [
             0.8888888888888888,
             "#fdca26"
            ],
            [
             1.0,
             "#f0f921"
            ]
           ],
           "sequentialminus": [
            [
             0.0,
             "#0d0887"
            ],
            [
             0.1111111111111111,
             "#46039f"
            ],
            [
             0.2222222222222222,
             "#7201a8"
            ],
            [
             0.3333333333333333,
             "#9c179e"
            ],
            [
             0.4444444444444444,
             "#bd3786"
            ],
            [
             0.5555555555555556,
             "#d8576b"
            ],
            [
             0.6666666666666666,
             "#ed7953"
            ],
            [
             0.7777777777777778,
             "#fb9f3a"
            ],
            [
             0.8888888888888888,
             "#fdca26"
            ],
            [
             1.0,
             "#f0f921"
            ]
           ]
          },
          "colorway": [
           "#636efa",
           "#EF553B",
           "#00cc96",
           "#ab63fa",
           "#FFA15A",
           "#19d3f3",
           "#FF6692",
           "#B6E880",
           "#FF97FF",
           "#FECB52"
          ],
          "font": {
           "color": "#2a3f5f"
          },
          "geo": {
           "bgcolor": "white",
           "lakecolor": "white",
           "landcolor": "#E5ECF6",
           "showlakes": true,
           "showland": true,
           "subunitcolor": "white"
          },
          "hoverlabel": {
           "align": "left"
          },
          "hovermode": "closest",
          "mapbox": {
           "style": "light"
          },
          "paper_bgcolor": "white",
          "plot_bgcolor": "#E5ECF6",
          "polar": {
           "angularaxis": {
            "gridcolor": "white",
            "linecolor": "white",
            "ticks": ""
           },
           "bgcolor": "#E5ECF6",
           "radialaxis": {
            "gridcolor": "white",
            "linecolor": "white",
            "ticks": ""
           }
          },
          "scene": {
           "xaxis": {
            "backgroundcolor": "#E5ECF6",
            "gridcolor": "white",
            "gridwidth": 2,
            "linecolor": "white",
            "showbackground": true,
            "ticks": "",
            "zerolinecolor": "white"
           },
           "yaxis": {
            "backgroundcolor": "#E5ECF6",
            "gridcolor": "white",
            "gridwidth": 2,
            "linecolor": "white",
            "showbackground": true,
            "ticks": "",
            "zerolinecolor": "white"
           },
           "zaxis": {
            "backgroundcolor": "#E5ECF6",
            "gridcolor": "white",
            "gridwidth": 2,
            "linecolor": "white",
            "showbackground": true,
            "ticks": "",
            "zerolinecolor": "white"
           }
          },
          "shapedefaults": {
           "line": {
            "color": "#2a3f5f"
           }
          },
          "ternary": {
           "aaxis": {
            "gridcolor": "white",
            "linecolor": "white",
            "ticks": ""
           },
           "baxis": {
            "gridcolor": "white",
            "linecolor": "white",
            "ticks": ""
           },
           "bgcolor": "#E5ECF6",
           "caxis": {
            "gridcolor": "white",
            "linecolor": "white",
            "ticks": ""
           }
          },
          "title": {
           "x": 0.05
          },
          "xaxis": {
           "automargin": true,
           "gridcolor": "white",
           "linecolor": "white",
           "ticks": "",
           "title": {
            "standoff": 15
           },
           "zerolinecolor": "white",
           "zerolinewidth": 2
          },
          "yaxis": {
           "automargin": true,
           "gridcolor": "white",
           "linecolor": "white",
           "ticks": "",
           "title": {
            "standoff": 15
           },
           "zerolinecolor": "white",
           "zerolinewidth": 2
          }
         }
        },
        "xaxis": {
         "anchor": "y",
         "domain": [
          0.0,
          1.0
         ],
         "title": {
          "text": "x"
         }
        },
        "yaxis": {
         "anchor": "x",
         "domain": [
          0.0,
          1.0
         ],
         "title": {
          "text": "y"
         }
        }
       }
      },
      "text/html": [
       "<div>                            <div id=\"333aa05e-87bb-456b-8e05-766f5ff9a827\" class=\"plotly-graph-div\" style=\"height:700px; width:100%;\"></div>            <script type=\"text/javascript\">                require([\"plotly\"], function(Plotly) {                    window.PLOTLYENV=window.PLOTLYENV || {};                                    if (document.getElementById(\"333aa05e-87bb-456b-8e05-766f5ff9a827\")) {                    Plotly.newPlot(                        \"333aa05e-87bb-456b-8e05-766f5ff9a827\",                        [{\"alignmentgroup\":\"True\",\"hovertemplate\":\"x=%{x}<br>y=%{y}<extra></extra>\",\"legendgroup\":\"\",\"marker\":{\"color\":\"#636efa\",\"pattern\":{\"shape\":\"\"}},\"name\":\"\",\"offsetgroup\":\"\",\"orientation\":\"v\",\"showlegend\":false,\"textposition\":\"auto\",\"x\":[\"Men's Long-Sleeve T-Shirt\",\"Women's Nike Dri-FIT Soccer Jersey Dress\",\"Men's Overalls\",\"Big Kids' (Girls') Printed Tights (Extended Size)\",\"Big Kids' Soccer Jacket\",\"Men's Game Football Jersey\",\"Nike NBA Swingman Jersey\",\"Men's Max 90 T-Shirt\",\"Men's Logo T-Shirt\",\"Men's Pullover Hoodie\",\"Little Kids' Joggers\",\"Big Kids' Nike Dri-FIT Short-Sleeve Soccer Top\",\"Women's Nike Dri-FIT Soccer Jersey\",\"Men's Full-Zip Hoodie\",\"Men's Shorts\",\"Men's T-Shirt\",\"Women's Long-Sleeve 1/2-Zip Fleece\",\"Men's Nike Dri-FIT Soccer Shorts\",\"Hat\",\"Men's NBA T-Shirt\",\"Boys' Board Shorts\",\"Men's Limited Football Jersey\",\"Shoes\",\"Men's Shoes\",\"Women's Boxy T-Shirt\",\"Little Kids' JDI Hat\",\"Men's Printed Headband\",\"Sunglasses\",\"Women's Pullover Hoodie\",\"Big Kids' Shoes\",\"Men's Nike Dri-FIT Soccer Track Jacket\",\"Women's Replica Baseball Jersey\",\"Men's Replica Baseball Jersey\",\"Toddler T-Shirt and Shorts Set\",\"Men's Basketball Shoes\",\"Little Kids' Hoodie\",\"Women's T-Shirt\",\"Little Kids' T-Shirt and Shorts Set\",\"Nike Dri-FIT WNBA Victory Jersey\",\"Big Kids' (Boys') Pullover Hoodie\",\"Big Kids' Nike Dri-FIT Soccer Jersey\",\"Men's Polo\",\"Men's Tank Top\",\"Men's Tights\",\"Tactical Boot\",\"Toddler Top and Leggings Set\",\"Adjustable Cap\",\"Ball Pump\",\"Women's Twist Mesh Headband\",\"Nike Dri-FIT NBA Cap\",\"Strength Training Ball\",\"Men's Coaches' Jacket\",\"Women's High-Rise Fleece Dance Shorts\",\"Women's Cropped T-Shirt\",\"Men's Jordan NBA T-Shirt\",\"Printed Tennis T-Shirt\",\"Men's 1/2-Zip Jacket\",\"Little Kids' High-Waisted Leggings\",\"Big Kids’ (Boys’) Crew-Neck Training Sweatshirt\",\"Kids' Scrunchie\",\"Men's Nike NBA Shorts\",\"Men's Punk Crew\",\"Women's Nike NBA Cropped T-Shirt\",\"Women's 7/8 Leggings\",\"Printed Training Backpack (Extra Large, 30L)\",\"Men's Soccer Jacket\",\"Big Kids' (Boys') Training Top\",\"Men's Basketball Shorts\",\"Women's Tank Top\",\"Little Kids' Base Layer Top\",\"Men's Golf Polo\",\"Big Kids' (Girls') Reversible Printed Sports Bra\",\"Men's Nike NBA Swingman Shorts\",\"Cap\",\"Nike NBA Beanie\",\"Men's Long-Sleeve Hooded T-Shirt\",\"Calf Sleeves\",\"Ponytail Holder (9-Pack)\",\"Basketball Shoes\",\"Big Kids' (Boys') Full-Zip Jacket\"],\"xaxis\":\"x\",\"y\":[5,5,4,4,4,3,3,2,2,2,2,2,2,2,2,2,2,2,1,1,1,1,1,1,1,1,1,1,1,1,1,1,1,1,1,1,1,1,1,1,1,1,1,1,1,1,1,1,1,1,1,1,1,1,1,1,1,1,1,1,1,1,1,1,1,1,1,1,1,1,1,1,1,1,1,1,1,1,1,1],\"yaxis\":\"y\",\"type\":\"bar\"}],                        {\"template\":{\"data\":{\"histogram2dcontour\":[{\"type\":\"histogram2dcontour\",\"colorbar\":{\"outlinewidth\":0,\"ticks\":\"\"},\"colorscale\":[[0.0,\"#0d0887\"],[0.1111111111111111,\"#46039f\"],[0.2222222222222222,\"#7201a8\"],[0.3333333333333333,\"#9c179e\"],[0.4444444444444444,\"#bd3786\"],[0.5555555555555556,\"#d8576b\"],[0.6666666666666666,\"#ed7953\"],[0.7777777777777778,\"#fb9f3a\"],[0.8888888888888888,\"#fdca26\"],[1.0,\"#f0f921\"]]}],\"choropleth\":[{\"type\":\"choropleth\",\"colorbar\":{\"outlinewidth\":0,\"ticks\":\"\"}}],\"histogram2d\":[{\"type\":\"histogram2d\",\"colorbar\":{\"outlinewidth\":0,\"ticks\":\"\"},\"colorscale\":[[0.0,\"#0d0887\"],[0.1111111111111111,\"#46039f\"],[0.2222222222222222,\"#7201a8\"],[0.3333333333333333,\"#9c179e\"],[0.4444444444444444,\"#bd3786\"],[0.5555555555555556,\"#d8576b\"],[0.6666666666666666,\"#ed7953\"],[0.7777777777777778,\"#fb9f3a\"],[0.8888888888888888,\"#fdca26\"],[1.0,\"#f0f921\"]]}],\"heatmap\":[{\"type\":\"heatmap\",\"colorbar\":{\"outlinewidth\":0,\"ticks\":\"\"},\"colorscale\":[[0.0,\"#0d0887\"],[0.1111111111111111,\"#46039f\"],[0.2222222222222222,\"#7201a8\"],[0.3333333333333333,\"#9c179e\"],[0.4444444444444444,\"#bd3786\"],[0.5555555555555556,\"#d8576b\"],[0.6666666666666666,\"#ed7953\"],[0.7777777777777778,\"#fb9f3a\"],[0.8888888888888888,\"#fdca26\"],[1.0,\"#f0f921\"]]}],\"heatmapgl\":[{\"type\":\"heatmapgl\",\"colorbar\":{\"outlinewidth\":0,\"ticks\":\"\"},\"colorscale\":[[0.0,\"#0d0887\"],[0.1111111111111111,\"#46039f\"],[0.2222222222222222,\"#7201a8\"],[0.3333333333333333,\"#9c179e\"],[0.4444444444444444,\"#bd3786\"],[0.5555555555555556,\"#d8576b\"],[0.6666666666666666,\"#ed7953\"],[0.7777777777777778,\"#fb9f3a\"],[0.8888888888888888,\"#fdca26\"],[1.0,\"#f0f921\"]]}],\"contourcarpet\":[{\"type\":\"contourcarpet\",\"colorbar\":{\"outlinewidth\":0,\"ticks\":\"\"}}],\"contour\":[{\"type\":\"contour\",\"colorbar\":{\"outlinewidth\":0,\"ticks\":\"\"},\"colorscale\":[[0.0,\"#0d0887\"],[0.1111111111111111,\"#46039f\"],[0.2222222222222222,\"#7201a8\"],[0.3333333333333333,\"#9c179e\"],[0.4444444444444444,\"#bd3786\"],[0.5555555555555556,\"#d8576b\"],[0.6666666666666666,\"#ed7953\"],[0.7777777777777778,\"#fb9f3a\"],[0.8888888888888888,\"#fdca26\"],[1.0,\"#f0f921\"]]}],\"surface\":[{\"type\":\"surface\",\"colorbar\":{\"outlinewidth\":0,\"ticks\":\"\"},\"colorscale\":[[0.0,\"#0d0887\"],[0.1111111111111111,\"#46039f\"],[0.2222222222222222,\"#7201a8\"],[0.3333333333333333,\"#9c179e\"],[0.4444444444444444,\"#bd3786\"],[0.5555555555555556,\"#d8576b\"],[0.6666666666666666,\"#ed7953\"],[0.7777777777777778,\"#fb9f3a\"],[0.8888888888888888,\"#fdca26\"],[1.0,\"#f0f921\"]]}],\"mesh3d\":[{\"type\":\"mesh3d\",\"colorbar\":{\"outlinewidth\":0,\"ticks\":\"\"}}],\"scatter\":[{\"fillpattern\":{\"fillmode\":\"overlay\",\"size\":10,\"solidity\":0.2},\"type\":\"scatter\"}],\"parcoords\":[{\"type\":\"parcoords\",\"line\":{\"colorbar\":{\"outlinewidth\":0,\"ticks\":\"\"}}}],\"scatterpolargl\":[{\"type\":\"scatterpolargl\",\"marker\":{\"colorbar\":{\"outlinewidth\":0,\"ticks\":\"\"}}}],\"bar\":[{\"error_x\":{\"color\":\"#2a3f5f\"},\"error_y\":{\"color\":\"#2a3f5f\"},\"marker\":{\"line\":{\"color\":\"#E5ECF6\",\"width\":0.5},\"pattern\":{\"fillmode\":\"overlay\",\"size\":10,\"solidity\":0.2}},\"type\":\"bar\"}],\"scattergeo\":[{\"type\":\"scattergeo\",\"marker\":{\"colorbar\":{\"outlinewidth\":0,\"ticks\":\"\"}}}],\"scatterpolar\":[{\"type\":\"scatterpolar\",\"marker\":{\"colorbar\":{\"outlinewidth\":0,\"ticks\":\"\"}}}],\"histogram\":[{\"marker\":{\"pattern\":{\"fillmode\":\"overlay\",\"size\":10,\"solidity\":0.2}},\"type\":\"histogram\"}],\"scattergl\":[{\"type\":\"scattergl\",\"marker\":{\"colorbar\":{\"outlinewidth\":0,\"ticks\":\"\"}}}],\"scatter3d\":[{\"type\":\"scatter3d\",\"line\":{\"colorbar\":{\"outlinewidth\":0,\"ticks\":\"\"}},\"marker\":{\"colorbar\":{\"outlinewidth\":0,\"ticks\":\"\"}}}],\"scattermapbox\":[{\"type\":\"scattermapbox\",\"marker\":{\"colorbar\":{\"outlinewidth\":0,\"ticks\":\"\"}}}],\"scatterternary\":[{\"type\":\"scatterternary\",\"marker\":{\"colorbar\":{\"outlinewidth\":0,\"ticks\":\"\"}}}],\"scattercarpet\":[{\"type\":\"scattercarpet\",\"marker\":{\"colorbar\":{\"outlinewidth\":0,\"ticks\":\"\"}}}],\"carpet\":[{\"aaxis\":{\"endlinecolor\":\"#2a3f5f\",\"gridcolor\":\"white\",\"linecolor\":\"white\",\"minorgridcolor\":\"white\",\"startlinecolor\":\"#2a3f5f\"},\"baxis\":{\"endlinecolor\":\"#2a3f5f\",\"gridcolor\":\"white\",\"linecolor\":\"white\",\"minorgridcolor\":\"white\",\"startlinecolor\":\"#2a3f5f\"},\"type\":\"carpet\"}],\"table\":[{\"cells\":{\"fill\":{\"color\":\"#EBF0F8\"},\"line\":{\"color\":\"white\"}},\"header\":{\"fill\":{\"color\":\"#C8D4E3\"},\"line\":{\"color\":\"white\"}},\"type\":\"table\"}],\"barpolar\":[{\"marker\":{\"line\":{\"color\":\"#E5ECF6\",\"width\":0.5},\"pattern\":{\"fillmode\":\"overlay\",\"size\":10,\"solidity\":0.2}},\"type\":\"barpolar\"}],\"pie\":[{\"automargin\":true,\"type\":\"pie\"}]},\"layout\":{\"autotypenumbers\":\"strict\",\"colorway\":[\"#636efa\",\"#EF553B\",\"#00cc96\",\"#ab63fa\",\"#FFA15A\",\"#19d3f3\",\"#FF6692\",\"#B6E880\",\"#FF97FF\",\"#FECB52\"],\"font\":{\"color\":\"#2a3f5f\"},\"hovermode\":\"closest\",\"hoverlabel\":{\"align\":\"left\"},\"paper_bgcolor\":\"white\",\"plot_bgcolor\":\"#E5ECF6\",\"polar\":{\"bgcolor\":\"#E5ECF6\",\"angularaxis\":{\"gridcolor\":\"white\",\"linecolor\":\"white\",\"ticks\":\"\"},\"radialaxis\":{\"gridcolor\":\"white\",\"linecolor\":\"white\",\"ticks\":\"\"}},\"ternary\":{\"bgcolor\":\"#E5ECF6\",\"aaxis\":{\"gridcolor\":\"white\",\"linecolor\":\"white\",\"ticks\":\"\"},\"baxis\":{\"gridcolor\":\"white\",\"linecolor\":\"white\",\"ticks\":\"\"},\"caxis\":{\"gridcolor\":\"white\",\"linecolor\":\"white\",\"ticks\":\"\"}},\"coloraxis\":{\"colorbar\":{\"outlinewidth\":0,\"ticks\":\"\"}},\"colorscale\":{\"sequential\":[[0.0,\"#0d0887\"],[0.1111111111111111,\"#46039f\"],[0.2222222222222222,\"#7201a8\"],[0.3333333333333333,\"#9c179e\"],[0.4444444444444444,\"#bd3786\"],[0.5555555555555556,\"#d8576b\"],[0.6666666666666666,\"#ed7953\"],[0.7777777777777778,\"#fb9f3a\"],[0.8888888888888888,\"#fdca26\"],[1.0,\"#f0f921\"]],\"sequentialminus\":[[0.0,\"#0d0887\"],[0.1111111111111111,\"#46039f\"],[0.2222222222222222,\"#7201a8\"],[0.3333333333333333,\"#9c179e\"],[0.4444444444444444,\"#bd3786\"],[0.5555555555555556,\"#d8576b\"],[0.6666666666666666,\"#ed7953\"],[0.7777777777777778,\"#fb9f3a\"],[0.8888888888888888,\"#fdca26\"],[1.0,\"#f0f921\"]],\"diverging\":[[0,\"#8e0152\"],[0.1,\"#c51b7d\"],[0.2,\"#de77ae\"],[0.3,\"#f1b6da\"],[0.4,\"#fde0ef\"],[0.5,\"#f7f7f7\"],[0.6,\"#e6f5d0\"],[0.7,\"#b8e186\"],[0.8,\"#7fbc41\"],[0.9,\"#4d9221\"],[1,\"#276419\"]]},\"xaxis\":{\"gridcolor\":\"white\",\"linecolor\":\"white\",\"ticks\":\"\",\"title\":{\"standoff\":15},\"zerolinecolor\":\"white\",\"automargin\":true,\"zerolinewidth\":2},\"yaxis\":{\"gridcolor\":\"white\",\"linecolor\":\"white\",\"ticks\":\"\",\"title\":{\"standoff\":15},\"zerolinecolor\":\"white\",\"automargin\":true,\"zerolinewidth\":2},\"scene\":{\"xaxis\":{\"backgroundcolor\":\"#E5ECF6\",\"gridcolor\":\"white\",\"linecolor\":\"white\",\"showbackground\":true,\"ticks\":\"\",\"zerolinecolor\":\"white\",\"gridwidth\":2},\"yaxis\":{\"backgroundcolor\":\"#E5ECF6\",\"gridcolor\":\"white\",\"linecolor\":\"white\",\"showbackground\":true,\"ticks\":\"\",\"zerolinecolor\":\"white\",\"gridwidth\":2},\"zaxis\":{\"backgroundcolor\":\"#E5ECF6\",\"gridcolor\":\"white\",\"linecolor\":\"white\",\"showbackground\":true,\"ticks\":\"\",\"zerolinecolor\":\"white\",\"gridwidth\":2}},\"shapedefaults\":{\"line\":{\"color\":\"#2a3f5f\"}},\"annotationdefaults\":{\"arrowcolor\":\"#2a3f5f\",\"arrowhead\":0,\"arrowwidth\":1},\"geo\":{\"bgcolor\":\"white\",\"landcolor\":\"#E5ECF6\",\"subunitcolor\":\"white\",\"showland\":true,\"showlakes\":true,\"lakecolor\":\"white\"},\"title\":{\"x\":0.05},\"mapbox\":{\"style\":\"light\"}}},\"xaxis\":{\"anchor\":\"y\",\"domain\":[0.0,1.0],\"title\":{\"text\":\"x\"}},\"yaxis\":{\"anchor\":\"x\",\"domain\":[0.0,1.0],\"title\":{\"text\":\"y\"}},\"legend\":{\"tracegroupgap\":0},\"margin\":{\"t\":60},\"barmode\":\"relative\",\"height\":700},                        {\"responsive\": true}                    ).then(function(){\n",
       "                            \n",
       "var gd = document.getElementById('333aa05e-87bb-456b-8e05-766f5ff9a827');\n",
       "var x = new MutationObserver(function (mutations, observer) {{\n",
       "        var display = window.getComputedStyle(gd).display;\n",
       "        if (!display || display === 'none') {{\n",
       "            console.log([gd, 'removed!']);\n",
       "            Plotly.purge(gd);\n",
       "            observer.disconnect();\n",
       "        }}\n",
       "}});\n",
       "\n",
       "// Listen for the removal of the full notebook cells\n",
       "var notebookContainer = gd.closest('#notebook-container');\n",
       "if (notebookContainer) {{\n",
       "    x.observe(notebookContainer, {childList: true});\n",
       "}}\n",
       "\n",
       "// Listen for the clearing of the current output cell\n",
       "var outputEl = gd.closest('.output');\n",
       "if (outputEl) {{\n",
       "    x.observe(outputEl, {childList: true});\n",
       "}}\n",
       "\n",
       "                        })                };                });            </script>        </div>"
      ]
     },
     "metadata": {},
     "output_type": "display_data"
    }
   ],
   "source": [
    "import plotly.express as px\n",
    "\n",
    "# plotly express not showing issue\n",
    "from plotly.offline import init_notebook_mode, iplot\n",
    "init_notebook_mode(connected=True)\n",
    "\n",
    "fig = px.bar(data, x=unique_sub_title, y=value_counts_sub_title,height=700)\n",
    "fig.show()"
   ]
  },
  {
   "cell_type": "markdown",
   "id": "d2ad5bf4",
   "metadata": {
    "papermill": {
     "duration": 0.011831,
     "end_time": "2022-09-27T08:35:46.329828",
     "exception": false,
     "start_time": "2022-09-27T08:35:46.317997",
     "status": "completed"
    },
    "tags": []
   },
   "source": [
    "# Nike Male, Female, and Child Product Statistics"
   ]
  },
  {
   "cell_type": "code",
   "execution_count": 8,
   "id": "21d26cfe",
   "metadata": {
    "execution": {
     "iopub.execute_input": "2022-09-27T08:35:46.355099Z",
     "iopub.status.busy": "2022-09-27T08:35:46.354679Z",
     "iopub.status.idle": "2022-09-27T08:35:46.363523Z",
     "shell.execute_reply": "2022-09-27T08:35:46.362463Z"
    },
    "papermill": {
     "duration": 0.024125,
     "end_time": "2022-09-27T08:35:46.365757",
     "exception": false,
     "start_time": "2022-09-27T08:35:46.341632",
     "status": "completed"
    },
    "tags": []
   },
   "outputs": [],
   "source": [
    "nike_men =  data[data['sub_title'].str.contains('Men')]\n",
    "nike_women = data[data['sub_title'].str.contains('Women')]\n",
    "nike_kid = data[data['sub_title'].str.contains('Kid')]"
   ]
  },
  {
   "cell_type": "code",
   "execution_count": 9,
   "id": "eb8cadd1",
   "metadata": {
    "execution": {
     "iopub.execute_input": "2022-09-27T08:35:46.391663Z",
     "iopub.status.busy": "2022-09-27T08:35:46.391235Z",
     "iopub.status.idle": "2022-09-27T08:35:46.398711Z",
     "shell.execute_reply": "2022-09-27T08:35:46.397958Z"
    },
    "papermill": {
     "duration": 0.023004,
     "end_time": "2022-09-27T08:35:46.400953",
     "exception": false,
     "start_time": "2022-09-27T08:35:46.377949",
     "status": "completed"
    },
    "tags": []
   },
   "outputs": [
    {
     "data": {
      "text/plain": [
       "[49, 20, 21]"
      ]
     },
     "execution_count": 9,
     "metadata": {},
     "output_type": "execute_result"
    }
   ],
   "source": [
    "nike_total = [nike_men.sub_title,nike_women.sub_title,nike_kid.sub_title]\n",
    "nike_total_counts = [nike_men.sub_title.count(),nike_women.sub_title.count(),nike_kid.sub_title.count()]\n",
    "nike_total_counts"
   ]
  },
  {
   "cell_type": "code",
   "execution_count": 10,
   "id": "ab3d471d",
   "metadata": {
    "execution": {
     "iopub.execute_input": "2022-09-27T08:35:46.426668Z",
     "iopub.status.busy": "2022-09-27T08:35:46.426257Z",
     "iopub.status.idle": "2022-09-27T08:35:46.639204Z",
     "shell.execute_reply": "2022-09-27T08:35:46.638069Z"
    },
    "papermill": {
     "duration": 0.228624,
     "end_time": "2022-09-27T08:35:46.641669",
     "exception": false,
     "start_time": "2022-09-27T08:35:46.413045",
     "status": "completed"
    },
    "tags": []
   },
   "outputs": [
    {
     "data": {
      "application/vnd.plotly.v1+json": {
       "config": {
        "plotlyServerURL": "https://plot.ly"
       },
       "data": [
        {
         "domain": {
          "x": [
           0.0,
           1.0
          ],
          "y": [
           0.0,
           1.0
          ]
         },
         "hovertemplate": "label=%{label}<br>value=%{value}<extra></extra>",
         "labels": [
          "Men",
          "Women",
          "Kid"
         ],
         "legendgroup": "",
         "name": "",
         "showlegend": true,
         "textinfo": "percent+label",
         "textposition": "inside",
         "type": "pie",
         "values": [
          49,
          20,
          21
         ]
        }
       ],
       "layout": {
        "legend": {
         "tracegroupgap": 0
        },
        "piecolorway": [
         "rgb(103,0,31)",
         "rgb(178,24,43)",
         "rgb(214,96,77)",
         "rgb(244,165,130)",
         "rgb(253,219,199)",
         "rgb(247,247,247)",
         "rgb(209,229,240)",
         "rgb(146,197,222)",
         "rgb(67,147,195)",
         "rgb(33,102,172)",
         "rgb(5,48,97)"
        ],
        "template": {
         "data": {
          "bar": [
           {
            "error_x": {
             "color": "#2a3f5f"
            },
            "error_y": {
             "color": "#2a3f5f"
            },
            "marker": {
             "line": {
              "color": "#E5ECF6",
              "width": 0.5
             },
             "pattern": {
              "fillmode": "overlay",
              "size": 10,
              "solidity": 0.2
             }
            },
            "type": "bar"
           }
          ],
          "barpolar": [
           {
            "marker": {
             "line": {
              "color": "#E5ECF6",
              "width": 0.5
             },
             "pattern": {
              "fillmode": "overlay",
              "size": 10,
              "solidity": 0.2
             }
            },
            "type": "barpolar"
           }
          ],
          "carpet": [
           {
            "aaxis": {
             "endlinecolor": "#2a3f5f",
             "gridcolor": "white",
             "linecolor": "white",
             "minorgridcolor": "white",
             "startlinecolor": "#2a3f5f"
            },
            "baxis": {
             "endlinecolor": "#2a3f5f",
             "gridcolor": "white",
             "linecolor": "white",
             "minorgridcolor": "white",
             "startlinecolor": "#2a3f5f"
            },
            "type": "carpet"
           }
          ],
          "choropleth": [
           {
            "colorbar": {
             "outlinewidth": 0,
             "ticks": ""
            },
            "type": "choropleth"
           }
          ],
          "contour": [
           {
            "colorbar": {
             "outlinewidth": 0,
             "ticks": ""
            },
            "colorscale": [
             [
              0.0,
              "#0d0887"
             ],
             [
              0.1111111111111111,
              "#46039f"
             ],
             [
              0.2222222222222222,
              "#7201a8"
             ],
             [
              0.3333333333333333,
              "#9c179e"
             ],
             [
              0.4444444444444444,
              "#bd3786"
             ],
             [
              0.5555555555555556,
              "#d8576b"
             ],
             [
              0.6666666666666666,
              "#ed7953"
             ],
             [
              0.7777777777777778,
              "#fb9f3a"
             ],
             [
              0.8888888888888888,
              "#fdca26"
             ],
             [
              1.0,
              "#f0f921"
             ]
            ],
            "type": "contour"
           }
          ],
          "contourcarpet": [
           {
            "colorbar": {
             "outlinewidth": 0,
             "ticks": ""
            },
            "type": "contourcarpet"
           }
          ],
          "heatmap": [
           {
            "colorbar": {
             "outlinewidth": 0,
             "ticks": ""
            },
            "colorscale": [
             [
              0.0,
              "#0d0887"
             ],
             [
              0.1111111111111111,
              "#46039f"
             ],
             [
              0.2222222222222222,
              "#7201a8"
             ],
             [
              0.3333333333333333,
              "#9c179e"
             ],
             [
              0.4444444444444444,
              "#bd3786"
             ],
             [
              0.5555555555555556,
              "#d8576b"
             ],
             [
              0.6666666666666666,
              "#ed7953"
             ],
             [
              0.7777777777777778,
              "#fb9f3a"
             ],
             [
              0.8888888888888888,
              "#fdca26"
             ],
             [
              1.0,
              "#f0f921"
             ]
            ],
            "type": "heatmap"
           }
          ],
          "heatmapgl": [
           {
            "colorbar": {
             "outlinewidth": 0,
             "ticks": ""
            },
            "colorscale": [
             [
              0.0,
              "#0d0887"
             ],
             [
              0.1111111111111111,
              "#46039f"
             ],
             [
              0.2222222222222222,
              "#7201a8"
             ],
             [
              0.3333333333333333,
              "#9c179e"
             ],
             [
              0.4444444444444444,
              "#bd3786"
             ],
             [
              0.5555555555555556,
              "#d8576b"
             ],
             [
              0.6666666666666666,
              "#ed7953"
             ],
             [
              0.7777777777777778,
              "#fb9f3a"
             ],
             [
              0.8888888888888888,
              "#fdca26"
             ],
             [
              1.0,
              "#f0f921"
             ]
            ],
            "type": "heatmapgl"
           }
          ],
          "histogram": [
           {
            "marker": {
             "pattern": {
              "fillmode": "overlay",
              "size": 10,
              "solidity": 0.2
             }
            },
            "type": "histogram"
           }
          ],
          "histogram2d": [
           {
            "colorbar": {
             "outlinewidth": 0,
             "ticks": ""
            },
            "colorscale": [
             [
              0.0,
              "#0d0887"
             ],
             [
              0.1111111111111111,
              "#46039f"
             ],
             [
              0.2222222222222222,
              "#7201a8"
             ],
             [
              0.3333333333333333,
              "#9c179e"
             ],
             [
              0.4444444444444444,
              "#bd3786"
             ],
             [
              0.5555555555555556,
              "#d8576b"
             ],
             [
              0.6666666666666666,
              "#ed7953"
             ],
             [
              0.7777777777777778,
              "#fb9f3a"
             ],
             [
              0.8888888888888888,
              "#fdca26"
             ],
             [
              1.0,
              "#f0f921"
             ]
            ],
            "type": "histogram2d"
           }
          ],
          "histogram2dcontour": [
           {
            "colorbar": {
             "outlinewidth": 0,
             "ticks": ""
            },
            "colorscale": [
             [
              0.0,
              "#0d0887"
             ],
             [
              0.1111111111111111,
              "#46039f"
             ],
             [
              0.2222222222222222,
              "#7201a8"
             ],
             [
              0.3333333333333333,
              "#9c179e"
             ],
             [
              0.4444444444444444,
              "#bd3786"
             ],
             [
              0.5555555555555556,
              "#d8576b"
             ],
             [
              0.6666666666666666,
              "#ed7953"
             ],
             [
              0.7777777777777778,
              "#fb9f3a"
             ],
             [
              0.8888888888888888,
              "#fdca26"
             ],
             [
              1.0,
              "#f0f921"
             ]
            ],
            "type": "histogram2dcontour"
           }
          ],
          "mesh3d": [
           {
            "colorbar": {
             "outlinewidth": 0,
             "ticks": ""
            },
            "type": "mesh3d"
           }
          ],
          "parcoords": [
           {
            "line": {
             "colorbar": {
              "outlinewidth": 0,
              "ticks": ""
             }
            },
            "type": "parcoords"
           }
          ],
          "pie": [
           {
            "automargin": true,
            "type": "pie"
           }
          ],
          "scatter": [
           {
            "fillpattern": {
             "fillmode": "overlay",
             "size": 10,
             "solidity": 0.2
            },
            "type": "scatter"
           }
          ],
          "scatter3d": [
           {
            "line": {
             "colorbar": {
              "outlinewidth": 0,
              "ticks": ""
             }
            },
            "marker": {
             "colorbar": {
              "outlinewidth": 0,
              "ticks": ""
             }
            },
            "type": "scatter3d"
           }
          ],
          "scattercarpet": [
           {
            "marker": {
             "colorbar": {
              "outlinewidth": 0,
              "ticks": ""
             }
            },
            "type": "scattercarpet"
           }
          ],
          "scattergeo": [
           {
            "marker": {
             "colorbar": {
              "outlinewidth": 0,
              "ticks": ""
             }
            },
            "type": "scattergeo"
           }
          ],
          "scattergl": [
           {
            "marker": {
             "colorbar": {
              "outlinewidth": 0,
              "ticks": ""
             }
            },
            "type": "scattergl"
           }
          ],
          "scattermapbox": [
           {
            "marker": {
             "colorbar": {
              "outlinewidth": 0,
              "ticks": ""
             }
            },
            "type": "scattermapbox"
           }
          ],
          "scatterpolar": [
           {
            "marker": {
             "colorbar": {
              "outlinewidth": 0,
              "ticks": ""
             }
            },
            "type": "scatterpolar"
           }
          ],
          "scatterpolargl": [
           {
            "marker": {
             "colorbar": {
              "outlinewidth": 0,
              "ticks": ""
             }
            },
            "type": "scatterpolargl"
           }
          ],
          "scatterternary": [
           {
            "marker": {
             "colorbar": {
              "outlinewidth": 0,
              "ticks": ""
             }
            },
            "type": "scatterternary"
           }
          ],
          "surface": [
           {
            "colorbar": {
             "outlinewidth": 0,
             "ticks": ""
            },
            "colorscale": [
             [
              0.0,
              "#0d0887"
             ],
             [
              0.1111111111111111,
              "#46039f"
             ],
             [
              0.2222222222222222,
              "#7201a8"
             ],
             [
              0.3333333333333333,
              "#9c179e"
             ],
             [
              0.4444444444444444,
              "#bd3786"
             ],
             [
              0.5555555555555556,
              "#d8576b"
             ],
             [
              0.6666666666666666,
              "#ed7953"
             ],
             [
              0.7777777777777778,
              "#fb9f3a"
             ],
             [
              0.8888888888888888,
              "#fdca26"
             ],
             [
              1.0,
              "#f0f921"
             ]
            ],
            "type": "surface"
           }
          ],
          "table": [
           {
            "cells": {
             "fill": {
              "color": "#EBF0F8"
             },
             "line": {
              "color": "white"
             }
            },
            "header": {
             "fill": {
              "color": "#C8D4E3"
             },
             "line": {
              "color": "white"
             }
            },
            "type": "table"
           }
          ]
         },
         "layout": {
          "annotationdefaults": {
           "arrowcolor": "#2a3f5f",
           "arrowhead": 0,
           "arrowwidth": 1
          },
          "autotypenumbers": "strict",
          "coloraxis": {
           "colorbar": {
            "outlinewidth": 0,
            "ticks": ""
           }
          },
          "colorscale": {
           "diverging": [
            [
             0,
             "#8e0152"
            ],
            [
             0.1,
             "#c51b7d"
            ],
            [
             0.2,
             "#de77ae"
            ],
            [
             0.3,
             "#f1b6da"
            ],
            [
             0.4,
             "#fde0ef"
            ],
            [
             0.5,
             "#f7f7f7"
            ],
            [
             0.6,
             "#e6f5d0"
            ],
            [
             0.7,
             "#b8e186"
            ],
            [
             0.8,
             "#7fbc41"
            ],
            [
             0.9,
             "#4d9221"
            ],
            [
             1,
             "#276419"
            ]
           ],
           "sequential": [
            [
             0.0,
             "#0d0887"
            ],
            [
             0.1111111111111111,
             "#46039f"
            ],
            [
             0.2222222222222222,
             "#7201a8"
            ],
            [
             0.3333333333333333,
             "#9c179e"
            ],
            [
             0.4444444444444444,
             "#bd3786"
            ],
            [
             0.5555555555555556,
             "#d8576b"
            ],
            [
             0.6666666666666666,
             "#ed7953"
            ],
            [
             0.7777777777777778,
             "#fb9f3a"
            ],
            [
             0.8888888888888888,
             "#fdca26"
            ],
            [
             1.0,
             "#f0f921"
            ]
           ],
           "sequentialminus": [
            [
             0.0,
             "#0d0887"
            ],
            [
             0.1111111111111111,
             "#46039f"
            ],
            [
             0.2222222222222222,
             "#7201a8"
            ],
            [
             0.3333333333333333,
             "#9c179e"
            ],
            [
             0.4444444444444444,
             "#bd3786"
            ],
            [
             0.5555555555555556,
             "#d8576b"
            ],
            [
             0.6666666666666666,
             "#ed7953"
            ],
            [
             0.7777777777777778,
             "#fb9f3a"
            ],
            [
             0.8888888888888888,
             "#fdca26"
            ],
            [
             1.0,
             "#f0f921"
            ]
           ]
          },
          "colorway": [
           "#636efa",
           "#EF553B",
           "#00cc96",
           "#ab63fa",
           "#FFA15A",
           "#19d3f3",
           "#FF6692",
           "#B6E880",
           "#FF97FF",
           "#FECB52"
          ],
          "font": {
           "color": "#2a3f5f"
          },
          "geo": {
           "bgcolor": "white",
           "lakecolor": "white",
           "landcolor": "#E5ECF6",
           "showlakes": true,
           "showland": true,
           "subunitcolor": "white"
          },
          "hoverlabel": {
           "align": "left"
          },
          "hovermode": "closest",
          "mapbox": {
           "style": "light"
          },
          "paper_bgcolor": "white",
          "plot_bgcolor": "#E5ECF6",
          "polar": {
           "angularaxis": {
            "gridcolor": "white",
            "linecolor": "white",
            "ticks": ""
           },
           "bgcolor": "#E5ECF6",
           "radialaxis": {
            "gridcolor": "white",
            "linecolor": "white",
            "ticks": ""
           }
          },
          "scene": {
           "xaxis": {
            "backgroundcolor": "#E5ECF6",
            "gridcolor": "white",
            "gridwidth": 2,
            "linecolor": "white",
            "showbackground": true,
            "ticks": "",
            "zerolinecolor": "white"
           },
           "yaxis": {
            "backgroundcolor": "#E5ECF6",
            "gridcolor": "white",
            "gridwidth": 2,
            "linecolor": "white",
            "showbackground": true,
            "ticks": "",
            "zerolinecolor": "white"
           },
           "zaxis": {
            "backgroundcolor": "#E5ECF6",
            "gridcolor": "white",
            "gridwidth": 2,
            "linecolor": "white",
            "showbackground": true,
            "ticks": "",
            "zerolinecolor": "white"
           }
          },
          "shapedefaults": {
           "line": {
            "color": "#2a3f5f"
           }
          },
          "ternary": {
           "aaxis": {
            "gridcolor": "white",
            "linecolor": "white",
            "ticks": ""
           },
           "baxis": {
            "gridcolor": "white",
            "linecolor": "white",
            "ticks": ""
           },
           "bgcolor": "#E5ECF6",
           "caxis": {
            "gridcolor": "white",
            "linecolor": "white",
            "ticks": ""
           }
          },
          "title": {
           "x": 0.05
          },
          "xaxis": {
           "automargin": true,
           "gridcolor": "white",
           "linecolor": "white",
           "ticks": "",
           "title": {
            "standoff": 15
           },
           "zerolinecolor": "white",
           "zerolinewidth": 2
          },
          "yaxis": {
           "automargin": true,
           "gridcolor": "white",
           "linecolor": "white",
           "ticks": "",
           "title": {
            "standoff": 15
           },
           "zerolinecolor": "white",
           "zerolinewidth": 2
          }
         }
        },
        "title": {
         "text": "Nike Male, Female, and Child Product Statistics"
        }
       }
      },
      "text/html": [
       "<div>                            <div id=\"1d2a168a-dee7-43c8-a8a2-82812ad11c30\" class=\"plotly-graph-div\" style=\"height:525px; width:100%;\"></div>            <script type=\"text/javascript\">                require([\"plotly\"], function(Plotly) {                    window.PLOTLYENV=window.PLOTLYENV || {};                                    if (document.getElementById(\"1d2a168a-dee7-43c8-a8a2-82812ad11c30\")) {                    Plotly.newPlot(                        \"1d2a168a-dee7-43c8-a8a2-82812ad11c30\",                        [{\"domain\":{\"x\":[0.0,1.0],\"y\":[0.0,1.0]},\"hovertemplate\":\"label=%{label}<br>value=%{value}<extra></extra>\",\"labels\":[\"Men\",\"Women\",\"Kid\"],\"legendgroup\":\"\",\"name\":\"\",\"showlegend\":true,\"values\":[49,20,21],\"type\":\"pie\",\"textinfo\":\"percent+label\",\"textposition\":\"inside\"}],                        {\"template\":{\"data\":{\"histogram2dcontour\":[{\"type\":\"histogram2dcontour\",\"colorbar\":{\"outlinewidth\":0,\"ticks\":\"\"},\"colorscale\":[[0.0,\"#0d0887\"],[0.1111111111111111,\"#46039f\"],[0.2222222222222222,\"#7201a8\"],[0.3333333333333333,\"#9c179e\"],[0.4444444444444444,\"#bd3786\"],[0.5555555555555556,\"#d8576b\"],[0.6666666666666666,\"#ed7953\"],[0.7777777777777778,\"#fb9f3a\"],[0.8888888888888888,\"#fdca26\"],[1.0,\"#f0f921\"]]}],\"choropleth\":[{\"type\":\"choropleth\",\"colorbar\":{\"outlinewidth\":0,\"ticks\":\"\"}}],\"histogram2d\":[{\"type\":\"histogram2d\",\"colorbar\":{\"outlinewidth\":0,\"ticks\":\"\"},\"colorscale\":[[0.0,\"#0d0887\"],[0.1111111111111111,\"#46039f\"],[0.2222222222222222,\"#7201a8\"],[0.3333333333333333,\"#9c179e\"],[0.4444444444444444,\"#bd3786\"],[0.5555555555555556,\"#d8576b\"],[0.6666666666666666,\"#ed7953\"],[0.7777777777777778,\"#fb9f3a\"],[0.8888888888888888,\"#fdca26\"],[1.0,\"#f0f921\"]]}],\"heatmap\":[{\"type\":\"heatmap\",\"colorbar\":{\"outlinewidth\":0,\"ticks\":\"\"},\"colorscale\":[[0.0,\"#0d0887\"],[0.1111111111111111,\"#46039f\"],[0.2222222222222222,\"#7201a8\"],[0.3333333333333333,\"#9c179e\"],[0.4444444444444444,\"#bd3786\"],[0.5555555555555556,\"#d8576b\"],[0.6666666666666666,\"#ed7953\"],[0.7777777777777778,\"#fb9f3a\"],[0.8888888888888888,\"#fdca26\"],[1.0,\"#f0f921\"]]}],\"heatmapgl\":[{\"type\":\"heatmapgl\",\"colorbar\":{\"outlinewidth\":0,\"ticks\":\"\"},\"colorscale\":[[0.0,\"#0d0887\"],[0.1111111111111111,\"#46039f\"],[0.2222222222222222,\"#7201a8\"],[0.3333333333333333,\"#9c179e\"],[0.4444444444444444,\"#bd3786\"],[0.5555555555555556,\"#d8576b\"],[0.6666666666666666,\"#ed7953\"],[0.7777777777777778,\"#fb9f3a\"],[0.8888888888888888,\"#fdca26\"],[1.0,\"#f0f921\"]]}],\"contourcarpet\":[{\"type\":\"contourcarpet\",\"colorbar\":{\"outlinewidth\":0,\"ticks\":\"\"}}],\"contour\":[{\"type\":\"contour\",\"colorbar\":{\"outlinewidth\":0,\"ticks\":\"\"},\"colorscale\":[[0.0,\"#0d0887\"],[0.1111111111111111,\"#46039f\"],[0.2222222222222222,\"#7201a8\"],[0.3333333333333333,\"#9c179e\"],[0.4444444444444444,\"#bd3786\"],[0.5555555555555556,\"#d8576b\"],[0.6666666666666666,\"#ed7953\"],[0.7777777777777778,\"#fb9f3a\"],[0.8888888888888888,\"#fdca26\"],[1.0,\"#f0f921\"]]}],\"surface\":[{\"type\":\"surface\",\"colorbar\":{\"outlinewidth\":0,\"ticks\":\"\"},\"colorscale\":[[0.0,\"#0d0887\"],[0.1111111111111111,\"#46039f\"],[0.2222222222222222,\"#7201a8\"],[0.3333333333333333,\"#9c179e\"],[0.4444444444444444,\"#bd3786\"],[0.5555555555555556,\"#d8576b\"],[0.6666666666666666,\"#ed7953\"],[0.7777777777777778,\"#fb9f3a\"],[0.8888888888888888,\"#fdca26\"],[1.0,\"#f0f921\"]]}],\"mesh3d\":[{\"type\":\"mesh3d\",\"colorbar\":{\"outlinewidth\":0,\"ticks\":\"\"}}],\"scatter\":[{\"fillpattern\":{\"fillmode\":\"overlay\",\"size\":10,\"solidity\":0.2},\"type\":\"scatter\"}],\"parcoords\":[{\"type\":\"parcoords\",\"line\":{\"colorbar\":{\"outlinewidth\":0,\"ticks\":\"\"}}}],\"scatterpolargl\":[{\"type\":\"scatterpolargl\",\"marker\":{\"colorbar\":{\"outlinewidth\":0,\"ticks\":\"\"}}}],\"bar\":[{\"error_x\":{\"color\":\"#2a3f5f\"},\"error_y\":{\"color\":\"#2a3f5f\"},\"marker\":{\"line\":{\"color\":\"#E5ECF6\",\"width\":0.5},\"pattern\":{\"fillmode\":\"overlay\",\"size\":10,\"solidity\":0.2}},\"type\":\"bar\"}],\"scattergeo\":[{\"type\":\"scattergeo\",\"marker\":{\"colorbar\":{\"outlinewidth\":0,\"ticks\":\"\"}}}],\"scatterpolar\":[{\"type\":\"scatterpolar\",\"marker\":{\"colorbar\":{\"outlinewidth\":0,\"ticks\":\"\"}}}],\"histogram\":[{\"marker\":{\"pattern\":{\"fillmode\":\"overlay\",\"size\":10,\"solidity\":0.2}},\"type\":\"histogram\"}],\"scattergl\":[{\"type\":\"scattergl\",\"marker\":{\"colorbar\":{\"outlinewidth\":0,\"ticks\":\"\"}}}],\"scatter3d\":[{\"type\":\"scatter3d\",\"line\":{\"colorbar\":{\"outlinewidth\":0,\"ticks\":\"\"}},\"marker\":{\"colorbar\":{\"outlinewidth\":0,\"ticks\":\"\"}}}],\"scattermapbox\":[{\"type\":\"scattermapbox\",\"marker\":{\"colorbar\":{\"outlinewidth\":0,\"ticks\":\"\"}}}],\"scatterternary\":[{\"type\":\"scatterternary\",\"marker\":{\"colorbar\":{\"outlinewidth\":0,\"ticks\":\"\"}}}],\"scattercarpet\":[{\"type\":\"scattercarpet\",\"marker\":{\"colorbar\":{\"outlinewidth\":0,\"ticks\":\"\"}}}],\"carpet\":[{\"aaxis\":{\"endlinecolor\":\"#2a3f5f\",\"gridcolor\":\"white\",\"linecolor\":\"white\",\"minorgridcolor\":\"white\",\"startlinecolor\":\"#2a3f5f\"},\"baxis\":{\"endlinecolor\":\"#2a3f5f\",\"gridcolor\":\"white\",\"linecolor\":\"white\",\"minorgridcolor\":\"white\",\"startlinecolor\":\"#2a3f5f\"},\"type\":\"carpet\"}],\"table\":[{\"cells\":{\"fill\":{\"color\":\"#EBF0F8\"},\"line\":{\"color\":\"white\"}},\"header\":{\"fill\":{\"color\":\"#C8D4E3\"},\"line\":{\"color\":\"white\"}},\"type\":\"table\"}],\"barpolar\":[{\"marker\":{\"line\":{\"color\":\"#E5ECF6\",\"width\":0.5},\"pattern\":{\"fillmode\":\"overlay\",\"size\":10,\"solidity\":0.2}},\"type\":\"barpolar\"}],\"pie\":[{\"automargin\":true,\"type\":\"pie\"}]},\"layout\":{\"autotypenumbers\":\"strict\",\"colorway\":[\"#636efa\",\"#EF553B\",\"#00cc96\",\"#ab63fa\",\"#FFA15A\",\"#19d3f3\",\"#FF6692\",\"#B6E880\",\"#FF97FF\",\"#FECB52\"],\"font\":{\"color\":\"#2a3f5f\"},\"hovermode\":\"closest\",\"hoverlabel\":{\"align\":\"left\"},\"paper_bgcolor\":\"white\",\"plot_bgcolor\":\"#E5ECF6\",\"polar\":{\"bgcolor\":\"#E5ECF6\",\"angularaxis\":{\"gridcolor\":\"white\",\"linecolor\":\"white\",\"ticks\":\"\"},\"radialaxis\":{\"gridcolor\":\"white\",\"linecolor\":\"white\",\"ticks\":\"\"}},\"ternary\":{\"bgcolor\":\"#E5ECF6\",\"aaxis\":{\"gridcolor\":\"white\",\"linecolor\":\"white\",\"ticks\":\"\"},\"baxis\":{\"gridcolor\":\"white\",\"linecolor\":\"white\",\"ticks\":\"\"},\"caxis\":{\"gridcolor\":\"white\",\"linecolor\":\"white\",\"ticks\":\"\"}},\"coloraxis\":{\"colorbar\":{\"outlinewidth\":0,\"ticks\":\"\"}},\"colorscale\":{\"sequential\":[[0.0,\"#0d0887\"],[0.1111111111111111,\"#46039f\"],[0.2222222222222222,\"#7201a8\"],[0.3333333333333333,\"#9c179e\"],[0.4444444444444444,\"#bd3786\"],[0.5555555555555556,\"#d8576b\"],[0.6666666666666666,\"#ed7953\"],[0.7777777777777778,\"#fb9f3a\"],[0.8888888888888888,\"#fdca26\"],[1.0,\"#f0f921\"]],\"sequentialminus\":[[0.0,\"#0d0887\"],[0.1111111111111111,\"#46039f\"],[0.2222222222222222,\"#7201a8\"],[0.3333333333333333,\"#9c179e\"],[0.4444444444444444,\"#bd3786\"],[0.5555555555555556,\"#d8576b\"],[0.6666666666666666,\"#ed7953\"],[0.7777777777777778,\"#fb9f3a\"],[0.8888888888888888,\"#fdca26\"],[1.0,\"#f0f921\"]],\"diverging\":[[0,\"#8e0152\"],[0.1,\"#c51b7d\"],[0.2,\"#de77ae\"],[0.3,\"#f1b6da\"],[0.4,\"#fde0ef\"],[0.5,\"#f7f7f7\"],[0.6,\"#e6f5d0\"],[0.7,\"#b8e186\"],[0.8,\"#7fbc41\"],[0.9,\"#4d9221\"],[1,\"#276419\"]]},\"xaxis\":{\"gridcolor\":\"white\",\"linecolor\":\"white\",\"ticks\":\"\",\"title\":{\"standoff\":15},\"zerolinecolor\":\"white\",\"automargin\":true,\"zerolinewidth\":2},\"yaxis\":{\"gridcolor\":\"white\",\"linecolor\":\"white\",\"ticks\":\"\",\"title\":{\"standoff\":15},\"zerolinecolor\":\"white\",\"automargin\":true,\"zerolinewidth\":2},\"scene\":{\"xaxis\":{\"backgroundcolor\":\"#E5ECF6\",\"gridcolor\":\"white\",\"linecolor\":\"white\",\"showbackground\":true,\"ticks\":\"\",\"zerolinecolor\":\"white\",\"gridwidth\":2},\"yaxis\":{\"backgroundcolor\":\"#E5ECF6\",\"gridcolor\":\"white\",\"linecolor\":\"white\",\"showbackground\":true,\"ticks\":\"\",\"zerolinecolor\":\"white\",\"gridwidth\":2},\"zaxis\":{\"backgroundcolor\":\"#E5ECF6\",\"gridcolor\":\"white\",\"linecolor\":\"white\",\"showbackground\":true,\"ticks\":\"\",\"zerolinecolor\":\"white\",\"gridwidth\":2}},\"shapedefaults\":{\"line\":{\"color\":\"#2a3f5f\"}},\"annotationdefaults\":{\"arrowcolor\":\"#2a3f5f\",\"arrowhead\":0,\"arrowwidth\":1},\"geo\":{\"bgcolor\":\"white\",\"landcolor\":\"#E5ECF6\",\"subunitcolor\":\"white\",\"showland\":true,\"showlakes\":true,\"lakecolor\":\"white\"},\"title\":{\"x\":0.05},\"mapbox\":{\"style\":\"light\"}}},\"legend\":{\"tracegroupgap\":0},\"title\":{\"text\":\"Nike Male, Female, and Child Product Statistics\"},\"piecolorway\":[\"rgb(103,0,31)\",\"rgb(178,24,43)\",\"rgb(214,96,77)\",\"rgb(244,165,130)\",\"rgb(253,219,199)\",\"rgb(247,247,247)\",\"rgb(209,229,240)\",\"rgb(146,197,222)\",\"rgb(67,147,195)\",\"rgb(33,102,172)\",\"rgb(5,48,97)\"]},                        {\"responsive\": true}                    ).then(function(){\n",
       "                            \n",
       "var gd = document.getElementById('1d2a168a-dee7-43c8-a8a2-82812ad11c30');\n",
       "var x = new MutationObserver(function (mutations, observer) {{\n",
       "        var display = window.getComputedStyle(gd).display;\n",
       "        if (!display || display === 'none') {{\n",
       "            console.log([gd, 'removed!']);\n",
       "            Plotly.purge(gd);\n",
       "            observer.disconnect();\n",
       "        }}\n",
       "}});\n",
       "\n",
       "// Listen for the removal of the full notebook cells\n",
       "var notebookContainer = gd.closest('#notebook-container');\n",
       "if (notebookContainer) {{\n",
       "    x.observe(notebookContainer, {childList: true});\n",
       "}}\n",
       "\n",
       "// Listen for the clearing of the current output cell\n",
       "var outputEl = gd.closest('.output');\n",
       "if (outputEl) {{\n",
       "    x.observe(outputEl, {childList: true});\n",
       "}}\n",
       "\n",
       "                        })                };                });            </script>        </div>"
      ]
     },
     "metadata": {},
     "output_type": "display_data"
    }
   ],
   "source": [
    "fig = px.pie(\n",
    "             values=nike_total_counts,\n",
    "             names=['Men','Women','Kid'],\n",
    "             color_discrete_sequence=px.colors.sequential.RdBu,\n",
    "             title= 'Nike Male, Female, and Child Product Statistics')\n",
    "fig.update_traces(textposition='inside', textinfo='percent+label')\n",
    "fig.show()"
   ]
  },
  {
   "cell_type": "markdown",
   "id": "0e1d7802",
   "metadata": {
    "papermill": {
     "duration": 0.016865,
     "end_time": "2022-09-27T08:35:46.676179",
     "exception": false,
     "start_time": "2022-09-27T08:35:46.659314",
     "status": "completed"
    },
    "tags": []
   },
   "source": [
    "# NIKE Price Barchart"
   ]
  },
  {
   "cell_type": "code",
   "execution_count": 11,
   "id": "aeac7764",
   "metadata": {
    "execution": {
     "iopub.execute_input": "2022-09-27T08:35:46.713164Z",
     "iopub.status.busy": "2022-09-27T08:35:46.712106Z",
     "iopub.status.idle": "2022-09-27T08:35:46.770936Z",
     "shell.execute_reply": "2022-09-27T08:35:46.769832Z"
    },
    "papermill": {
     "duration": 0.080524,
     "end_time": "2022-09-27T08:35:46.773843",
     "exception": false,
     "start_time": "2022-09-27T08:35:46.693319",
     "status": "completed"
    },
    "tags": []
   },
   "outputs": [
    {
     "data": {
      "application/vnd.plotly.v1+json": {
       "config": {
        "plotlyServerURL": "https://plot.ly"
       },
       "data": [
        {
         "alignmentgroup": "True",
         "hovertemplate": "name=%{x}<br>price=%{y}<extra></extra>",
         "legendgroup": "",
         "marker": {
          "color": "#636efa",
          "pattern": {
           "shape": ""
          }
         },
         "name": "",
         "offsetgroup": "",
         "orientation": "v",
         "showlegend": false,
         "textposition": "auto",
         "type": "bar",
         "x": [
          "Nike Dri-FIT Team (MLB Minnesota Twins)",
          "Club América",
          "Nike Sportswear Swoosh",
          "Nike Dri-FIT One Luxe",
          "Paris Saint-Germain Repel Academy AWF",
          "NFL Miami Dolphins (Mike Gesicki)",
          "Kristaps Porziņģis Knicks Icon Edition",
          "Nike College (Oregon)",
          "Nike Sportswear",
          "Nike Therma Crucial Catch (NFL Miami Dolphins)",
          "Nike Sportswear Tech Fleece",
          "Paris Saint-Germain Strike",
          "Croatia 2022/23 Stadium Away",
          "Nike Therma Lockup (NFL Kansas City Chiefs)",
          "Nike Dri-FIT Primetime Logo (MLB San Francisco Giants)",
          "Nike City Connect Wordmark (MLB Kansas City Royals)",
          "Nike College Therma (Michigan State)",
          "Portugal 2022/23 Stadium Home",
          "Nike College Legacy91 (UNC)",
          "Nike Rewind Playback Helmet (NFL Tennessee Titans)",
          "Denver Nuggets Nike x Filip Pagowski",
          "Hurley Palmdale",
          "NFL Minnesota Vikings Nike Vapor Untouchable (Randy Moss)",
          "Air Jordan 1 Zoom CMFT",
          "Nike Air Pegasus 83 Premium",
          "Nike College (Alabama)",
          "Nike",
          "Nike Fury",
          "Nike Myriad",
          "Nike Dri-FIT Crucial Catch (NFL Buffalo Bills)",
          "Nike Air Force 1 LV8 Utility",
          "Chelsea FC Strike",
          "MLB Boston Red Sox",
          "MLB Arizona Diamondbacks City Connect",
          "Nike College Max 90 (Gonzaga)",
          "Nike Dri-FIT",
          "Nike Therma Crucial Catch (NFL Atlanta Falcons)",
          "Zion 2",
          "Jordan",
          "Nike Dri-FIT Sideline Velocity Lockup (NFL Buffalo Bills)",
          "Jordan",
          "Nike Air Max 90 SE",
          "Nike Dri-FIT Athletic Arch Jersey (NFL Pittsburgh Steelers)",
          "Sylvia Fowles Lynx Explorer Edition",
          "Nike Air",
          "Paris-Saint Germain 2021/22 Stadium Third",
          "Nike Dri-FIT City Connect Striped (MLB San Francisco Giants)",
          "Nike Team (NFL Buffalo Bills)",
          "Nike Pro",
          "Nike SFB Gen 2 8”",
          "Nike Air Force 1 '07 LV8",
          "Nike",
          "Nike Heritage86 (MLB Yankees)",
          "Nike Essential",
          "Nike",
          "Heat Heritage86",
          "Nike 8-Pound ",
          "Club América",
          "Nike Sportswear",
          "Nike College (Georgia)",
          "Charlotte Hornets",
          "Nike College (Tennessee)",
          "Nike Court Naomi Osaka Collection",
          "Nike College Dri-FIT Coach (Duke)",
          "Nike Overview (MLB Philadelphia Phillies)",
          "Nike",
          "Nike Dri-FIT Performance Select",
          "Air Jordan 1 Low SE",
          "Air Jordan XXXVI Low Luka PF",
          "Nike",
          "Nike Offline Pack",
          "Nike Dri-FIT Sideline Velocity Lockup (NFL Green Bay Packers)",
          "Philadelphia 76ers",
          "Nike Sportswear",
          "Team 31",
          "Nike Dri-FIT (NFL San Francisco 49ers)",
          "Nike Therma City Connect (MLB Boston Red Sox)",
          "Nike Brasilia",
          "Chelsea FC Repel Academy AWF",
          "MLB Boston Red Sox (Andrew Benintendi)",
          "Nike Dri-FIT",
          "Jordan France",
          "Nike Sportswear",
          "Nike Dri-FIT Stretch (NFL Chicago Bears)",
          "Nike Sportswear Club",
          "Nike Dri-FIT (NFL Los Angeles Chargers)",
          "Nike Dri-FIT",
          "Air Jordan Legacy 312 Low",
          "Nike Sportswear",
          "Nike Dri-FIT Player",
          "Nike Dri-FIT Swoosh",
          "Nike Dri-FIT Infograph (NFL Buffalo Bills)",
          "U.S. Academy Pro",
          "Nike Air Deschutz+ SE",
          "Nike Dri-FIT",
          "Sacramento Kings Icon Edition",
          "MLB Houston Astros",
          "Nike ACG AW84",
          "Nike College Heritage86 (Texas)",
          "New York Knicks",
          "Paris Saint-Germain 2022/23 Stadium Home",
          "Nike College Dri-FIT (Michigan State)",
          "Nike Dri-FIT Crucial Catch (NFL Tampa Bay Buccaneers)",
          "Nike Zoned Support",
          "Nike",
          "Nike Dri-FIT Vapor",
          "Nike Sportswear",
          "Air Jordan XXXV Low DS PF",
          "Nike College Dri-FIT (UCLA)",
          "Jordan",
          "NFL Los Angeles Rams Nike Vapor Untouchable (Matthew Stafford)",
          "Nike Team First (MLB Houston Astros)"
         ],
         "xaxis": "x",
         "y": [
          40.0,
          90.0,
          140.0,
          22.97,
          70.0,
          130.0,
          104.99,
          18.97,
          28.97,
          85.0,
          45.97,
          45.0,
          95.0,
          95.0,
          45.0,
          30.0,
          40.97,
          52.0,
          21.97,
          55.0,
          21.97,
          40.0,
          160.0,
          150.0,
          89.97,
          18.97,
          18.0,
          13.97,
          69.97,
          85.0,
          76.97,
          90.0,
          115.0,
          135.0,
          26.97,
          36.0,
          85.0,
          119.97,
          33.97,
          40.0,
          34.97,
          119.97,
          100.0,
          100.0,
          34.97,
          75.0,
          65.0,
          35.0,
          24.97,
          140.0,
          130.0,
          36.97,
          21.97,
          12.0,
          15.97,
          30.0,
          26.97,
          78.97,
          38.97,
          35.0,
          35.0,
          24.97,
          30.97,
          45.0,
          110.0,
          12.97,
          58.0,
          95.0,
          175.0,
          9.97,
          92.97,
          40.0,
          48.0,
          53.97,
          35.0,
          65.0,
          80.0,
          50.0,
          75.0,
          135.0,
          15.97,
          60.0,
          31.97,
          45.0,
          63.97,
          40.0,
          28.0,
          85.97,
          34.97,
          76.97,
          30.0,
          40.0,
          30.0,
          85.0,
          36.97,
          80.0,
          115.0,
          28.0,
          22.97,
          28.0,
          90.0,
          37.97,
          40.0,
          45.0,
          10.97,
          55.97,
          32.97,
          165.0,
          50.0,
          75.0,
          160.0,
          35.0
         ],
         "yaxis": "y"
        }
       ],
       "layout": {
        "barmode": "relative",
        "height": 700,
        "legend": {
         "tracegroupgap": 0
        },
        "margin": {
         "t": 60
        },
        "template": {
         "data": {
          "bar": [
           {
            "error_x": {
             "color": "#2a3f5f"
            },
            "error_y": {
             "color": "#2a3f5f"
            },
            "marker": {
             "line": {
              "color": "#E5ECF6",
              "width": 0.5
             },
             "pattern": {
              "fillmode": "overlay",
              "size": 10,
              "solidity": 0.2
             }
            },
            "type": "bar"
           }
          ],
          "barpolar": [
           {
            "marker": {
             "line": {
              "color": "#E5ECF6",
              "width": 0.5
             },
             "pattern": {
              "fillmode": "overlay",
              "size": 10,
              "solidity": 0.2
             }
            },
            "type": "barpolar"
           }
          ],
          "carpet": [
           {
            "aaxis": {
             "endlinecolor": "#2a3f5f",
             "gridcolor": "white",
             "linecolor": "white",
             "minorgridcolor": "white",
             "startlinecolor": "#2a3f5f"
            },
            "baxis": {
             "endlinecolor": "#2a3f5f",
             "gridcolor": "white",
             "linecolor": "white",
             "minorgridcolor": "white",
             "startlinecolor": "#2a3f5f"
            },
            "type": "carpet"
           }
          ],
          "choropleth": [
           {
            "colorbar": {
             "outlinewidth": 0,
             "ticks": ""
            },
            "type": "choropleth"
           }
          ],
          "contour": [
           {
            "colorbar": {
             "outlinewidth": 0,
             "ticks": ""
            },
            "colorscale": [
             [
              0.0,
              "#0d0887"
             ],
             [
              0.1111111111111111,
              "#46039f"
             ],
             [
              0.2222222222222222,
              "#7201a8"
             ],
             [
              0.3333333333333333,
              "#9c179e"
             ],
             [
              0.4444444444444444,
              "#bd3786"
             ],
             [
              0.5555555555555556,
              "#d8576b"
             ],
             [
              0.6666666666666666,
              "#ed7953"
             ],
             [
              0.7777777777777778,
              "#fb9f3a"
             ],
             [
              0.8888888888888888,
              "#fdca26"
             ],
             [
              1.0,
              "#f0f921"
             ]
            ],
            "type": "contour"
           }
          ],
          "contourcarpet": [
           {
            "colorbar": {
             "outlinewidth": 0,
             "ticks": ""
            },
            "type": "contourcarpet"
           }
          ],
          "heatmap": [
           {
            "colorbar": {
             "outlinewidth": 0,
             "ticks": ""
            },
            "colorscale": [
             [
              0.0,
              "#0d0887"
             ],
             [
              0.1111111111111111,
              "#46039f"
             ],
             [
              0.2222222222222222,
              "#7201a8"
             ],
             [
              0.3333333333333333,
              "#9c179e"
             ],
             [
              0.4444444444444444,
              "#bd3786"
             ],
             [
              0.5555555555555556,
              "#d8576b"
             ],
             [
              0.6666666666666666,
              "#ed7953"
             ],
             [
              0.7777777777777778,
              "#fb9f3a"
             ],
             [
              0.8888888888888888,
              "#fdca26"
             ],
             [
              1.0,
              "#f0f921"
             ]
            ],
            "type": "heatmap"
           }
          ],
          "heatmapgl": [
           {
            "colorbar": {
             "outlinewidth": 0,
             "ticks": ""
            },
            "colorscale": [
             [
              0.0,
              "#0d0887"
             ],
             [
              0.1111111111111111,
              "#46039f"
             ],
             [
              0.2222222222222222,
              "#7201a8"
             ],
             [
              0.3333333333333333,
              "#9c179e"
             ],
             [
              0.4444444444444444,
              "#bd3786"
             ],
             [
              0.5555555555555556,
              "#d8576b"
             ],
             [
              0.6666666666666666,
              "#ed7953"
             ],
             [
              0.7777777777777778,
              "#fb9f3a"
             ],
             [
              0.8888888888888888,
              "#fdca26"
             ],
             [
              1.0,
              "#f0f921"
             ]
            ],
            "type": "heatmapgl"
           }
          ],
          "histogram": [
           {
            "marker": {
             "pattern": {
              "fillmode": "overlay",
              "size": 10,
              "solidity": 0.2
             }
            },
            "type": "histogram"
           }
          ],
          "histogram2d": [
           {
            "colorbar": {
             "outlinewidth": 0,
             "ticks": ""
            },
            "colorscale": [
             [
              0.0,
              "#0d0887"
             ],
             [
              0.1111111111111111,
              "#46039f"
             ],
             [
              0.2222222222222222,
              "#7201a8"
             ],
             [
              0.3333333333333333,
              "#9c179e"
             ],
             [
              0.4444444444444444,
              "#bd3786"
             ],
             [
              0.5555555555555556,
              "#d8576b"
             ],
             [
              0.6666666666666666,
              "#ed7953"
             ],
             [
              0.7777777777777778,
              "#fb9f3a"
             ],
             [
              0.8888888888888888,
              "#fdca26"
             ],
             [
              1.0,
              "#f0f921"
             ]
            ],
            "type": "histogram2d"
           }
          ],
          "histogram2dcontour": [
           {
            "colorbar": {
             "outlinewidth": 0,
             "ticks": ""
            },
            "colorscale": [
             [
              0.0,
              "#0d0887"
             ],
             [
              0.1111111111111111,
              "#46039f"
             ],
             [
              0.2222222222222222,
              "#7201a8"
             ],
             [
              0.3333333333333333,
              "#9c179e"
             ],
             [
              0.4444444444444444,
              "#bd3786"
             ],
             [
              0.5555555555555556,
              "#d8576b"
             ],
             [
              0.6666666666666666,
              "#ed7953"
             ],
             [
              0.7777777777777778,
              "#fb9f3a"
             ],
             [
              0.8888888888888888,
              "#fdca26"
             ],
             [
              1.0,
              "#f0f921"
             ]
            ],
            "type": "histogram2dcontour"
           }
          ],
          "mesh3d": [
           {
            "colorbar": {
             "outlinewidth": 0,
             "ticks": ""
            },
            "type": "mesh3d"
           }
          ],
          "parcoords": [
           {
            "line": {
             "colorbar": {
              "outlinewidth": 0,
              "ticks": ""
             }
            },
            "type": "parcoords"
           }
          ],
          "pie": [
           {
            "automargin": true,
            "type": "pie"
           }
          ],
          "scatter": [
           {
            "fillpattern": {
             "fillmode": "overlay",
             "size": 10,
             "solidity": 0.2
            },
            "type": "scatter"
           }
          ],
          "scatter3d": [
           {
            "line": {
             "colorbar": {
              "outlinewidth": 0,
              "ticks": ""
             }
            },
            "marker": {
             "colorbar": {
              "outlinewidth": 0,
              "ticks": ""
             }
            },
            "type": "scatter3d"
           }
          ],
          "scattercarpet": [
           {
            "marker": {
             "colorbar": {
              "outlinewidth": 0,
              "ticks": ""
             }
            },
            "type": "scattercarpet"
           }
          ],
          "scattergeo": [
           {
            "marker": {
             "colorbar": {
              "outlinewidth": 0,
              "ticks": ""
             }
            },
            "type": "scattergeo"
           }
          ],
          "scattergl": [
           {
            "marker": {
             "colorbar": {
              "outlinewidth": 0,
              "ticks": ""
             }
            },
            "type": "scattergl"
           }
          ],
          "scattermapbox": [
           {
            "marker": {
             "colorbar": {
              "outlinewidth": 0,
              "ticks": ""
             }
            },
            "type": "scattermapbox"
           }
          ],
          "scatterpolar": [
           {
            "marker": {
             "colorbar": {
              "outlinewidth": 0,
              "ticks": ""
             }
            },
            "type": "scatterpolar"
           }
          ],
          "scatterpolargl": [
           {
            "marker": {
             "colorbar": {
              "outlinewidth": 0,
              "ticks": ""
             }
            },
            "type": "scatterpolargl"
           }
          ],
          "scatterternary": [
           {
            "marker": {
             "colorbar": {
              "outlinewidth": 0,
              "ticks": ""
             }
            },
            "type": "scatterternary"
           }
          ],
          "surface": [
           {
            "colorbar": {
             "outlinewidth": 0,
             "ticks": ""
            },
            "colorscale": [
             [
              0.0,
              "#0d0887"
             ],
             [
              0.1111111111111111,
              "#46039f"
             ],
             [
              0.2222222222222222,
              "#7201a8"
             ],
             [
              0.3333333333333333,
              "#9c179e"
             ],
             [
              0.4444444444444444,
              "#bd3786"
             ],
             [
              0.5555555555555556,
              "#d8576b"
             ],
             [
              0.6666666666666666,
              "#ed7953"
             ],
             [
              0.7777777777777778,
              "#fb9f3a"
             ],
             [
              0.8888888888888888,
              "#fdca26"
             ],
             [
              1.0,
              "#f0f921"
             ]
            ],
            "type": "surface"
           }
          ],
          "table": [
           {
            "cells": {
             "fill": {
              "color": "#EBF0F8"
             },
             "line": {
              "color": "white"
             }
            },
            "header": {
             "fill": {
              "color": "#C8D4E3"
             },
             "line": {
              "color": "white"
             }
            },
            "type": "table"
           }
          ]
         },
         "layout": {
          "annotationdefaults": {
           "arrowcolor": "#2a3f5f",
           "arrowhead": 0,
           "arrowwidth": 1
          },
          "autotypenumbers": "strict",
          "coloraxis": {
           "colorbar": {
            "outlinewidth": 0,
            "ticks": ""
           }
          },
          "colorscale": {
           "diverging": [
            [
             0,
             "#8e0152"
            ],
            [
             0.1,
             "#c51b7d"
            ],
            [
             0.2,
             "#de77ae"
            ],
            [
             0.3,
             "#f1b6da"
            ],
            [
             0.4,
             "#fde0ef"
            ],
            [
             0.5,
             "#f7f7f7"
            ],
            [
             0.6,
             "#e6f5d0"
            ],
            [
             0.7,
             "#b8e186"
            ],
            [
             0.8,
             "#7fbc41"
            ],
            [
             0.9,
             "#4d9221"
            ],
            [
             1,
             "#276419"
            ]
           ],
           "sequential": [
            [
             0.0,
             "#0d0887"
            ],
            [
             0.1111111111111111,
             "#46039f"
            ],
            [
             0.2222222222222222,
             "#7201a8"
            ],
            [
             0.3333333333333333,
             "#9c179e"
            ],
            [
             0.4444444444444444,
             "#bd3786"
            ],
            [
             0.5555555555555556,
             "#d8576b"
            ],
            [
             0.6666666666666666,
             "#ed7953"
            ],
            [
             0.7777777777777778,
             "#fb9f3a"
            ],
            [
             0.8888888888888888,
             "#fdca26"
            ],
            [
             1.0,
             "#f0f921"
            ]
           ],
           "sequentialminus": [
            [
             0.0,
             "#0d0887"
            ],
            [
             0.1111111111111111,
             "#46039f"
            ],
            [
             0.2222222222222222,
             "#7201a8"
            ],
            [
             0.3333333333333333,
             "#9c179e"
            ],
            [
             0.4444444444444444,
             "#bd3786"
            ],
            [
             0.5555555555555556,
             "#d8576b"
            ],
            [
             0.6666666666666666,
             "#ed7953"
            ],
            [
             0.7777777777777778,
             "#fb9f3a"
            ],
            [
             0.8888888888888888,
             "#fdca26"
            ],
            [
             1.0,
             "#f0f921"
            ]
           ]
          },
          "colorway": [
           "#636efa",
           "#EF553B",
           "#00cc96",
           "#ab63fa",
           "#FFA15A",
           "#19d3f3",
           "#FF6692",
           "#B6E880",
           "#FF97FF",
           "#FECB52"
          ],
          "font": {
           "color": "#2a3f5f"
          },
          "geo": {
           "bgcolor": "white",
           "lakecolor": "white",
           "landcolor": "#E5ECF6",
           "showlakes": true,
           "showland": true,
           "subunitcolor": "white"
          },
          "hoverlabel": {
           "align": "left"
          },
          "hovermode": "closest",
          "mapbox": {
           "style": "light"
          },
          "paper_bgcolor": "white",
          "plot_bgcolor": "#E5ECF6",
          "polar": {
           "angularaxis": {
            "gridcolor": "white",
            "linecolor": "white",
            "ticks": ""
           },
           "bgcolor": "#E5ECF6",
           "radialaxis": {
            "gridcolor": "white",
            "linecolor": "white",
            "ticks": ""
           }
          },
          "scene": {
           "xaxis": {
            "backgroundcolor": "#E5ECF6",
            "gridcolor": "white",
            "gridwidth": 2,
            "linecolor": "white",
            "showbackground": true,
            "ticks": "",
            "zerolinecolor": "white"
           },
           "yaxis": {
            "backgroundcolor": "#E5ECF6",
            "gridcolor": "white",
            "gridwidth": 2,
            "linecolor": "white",
            "showbackground": true,
            "ticks": "",
            "zerolinecolor": "white"
           },
           "zaxis": {
            "backgroundcolor": "#E5ECF6",
            "gridcolor": "white",
            "gridwidth": 2,
            "linecolor": "white",
            "showbackground": true,
            "ticks": "",
            "zerolinecolor": "white"
           }
          },
          "shapedefaults": {
           "line": {
            "color": "#2a3f5f"
           }
          },
          "ternary": {
           "aaxis": {
            "gridcolor": "white",
            "linecolor": "white",
            "ticks": ""
           },
           "baxis": {
            "gridcolor": "white",
            "linecolor": "white",
            "ticks": ""
           },
           "bgcolor": "#E5ECF6",
           "caxis": {
            "gridcolor": "white",
            "linecolor": "white",
            "ticks": ""
           }
          },
          "title": {
           "x": 0.05
          },
          "xaxis": {
           "automargin": true,
           "gridcolor": "white",
           "linecolor": "white",
           "ticks": "",
           "title": {
            "standoff": 15
           },
           "zerolinecolor": "white",
           "zerolinewidth": 2
          },
          "yaxis": {
           "automargin": true,
           "gridcolor": "white",
           "linecolor": "white",
           "ticks": "",
           "title": {
            "standoff": 15
           },
           "zerolinecolor": "white",
           "zerolinewidth": 2
          }
         }
        },
        "xaxis": {
         "anchor": "y",
         "domain": [
          0.0,
          1.0
         ],
         "title": {
          "text": "name"
         }
        },
        "yaxis": {
         "anchor": "x",
         "domain": [
          0.0,
          1.0
         ],
         "title": {
          "text": "price"
         }
        }
       }
      },
      "text/html": [
       "<div>                            <div id=\"6a61ab59-b649-4463-b676-2d2576fd43ef\" class=\"plotly-graph-div\" style=\"height:700px; width:100%;\"></div>            <script type=\"text/javascript\">                require([\"plotly\"], function(Plotly) {                    window.PLOTLYENV=window.PLOTLYENV || {};                                    if (document.getElementById(\"6a61ab59-b649-4463-b676-2d2576fd43ef\")) {                    Plotly.newPlot(                        \"6a61ab59-b649-4463-b676-2d2576fd43ef\",                        [{\"alignmentgroup\":\"True\",\"hovertemplate\":\"name=%{x}<br>price=%{y}<extra></extra>\",\"legendgroup\":\"\",\"marker\":{\"color\":\"#636efa\",\"pattern\":{\"shape\":\"\"}},\"name\":\"\",\"offsetgroup\":\"\",\"orientation\":\"v\",\"showlegend\":false,\"textposition\":\"auto\",\"x\":[\"Nike Dri-FIT Team (MLB Minnesota Twins)\",\"Club América\",\"Nike Sportswear Swoosh\",\"Nike Dri-FIT One Luxe\",\"Paris Saint-Germain Repel Academy AWF\",\"NFL Miami Dolphins (Mike Gesicki)\",\"Kristaps Porziņģis Knicks Icon Edition\",\"Nike College (Oregon)\",\"Nike Sportswear\",\"Nike Therma Crucial Catch (NFL Miami Dolphins)\",\"Nike Sportswear Tech Fleece\",\"Paris Saint-Germain Strike\",\"Croatia 2022/23 Stadium Away\",\"Nike Therma Lockup (NFL Kansas City Chiefs)\",\"Nike Dri-FIT Primetime Logo (MLB San Francisco Giants)\",\"Nike City Connect Wordmark (MLB Kansas City Royals)\",\"Nike College Therma (Michigan State)\",\"Portugal 2022/23 Stadium Home\",\"Nike College Legacy91 (UNC)\",\"Nike Rewind Playback Helmet (NFL Tennessee Titans)\",\"Denver Nuggets Nike x Filip Pagowski\",\"Hurley Palmdale\",\"NFL Minnesota Vikings Nike Vapor Untouchable (Randy Moss)\",\"Air Jordan 1 Zoom CMFT\",\"Nike Air Pegasus 83 Premium\",\"Nike College (Alabama)\",\"Nike\",\"Nike Fury\",\"Nike Myriad\",\"Nike Dri-FIT Crucial Catch (NFL Buffalo Bills)\",\"Nike Air Force 1 LV8 Utility\",\"Chelsea FC Strike\",\"MLB Boston Red Sox\",\"MLB Arizona Diamondbacks City Connect\",\"Nike College Max 90 (Gonzaga)\",\"Nike Dri-FIT\",\"Nike Therma Crucial Catch (NFL Atlanta Falcons)\",\"Zion 2\",\"Jordan\",\"Nike Dri-FIT Sideline Velocity Lockup (NFL Buffalo Bills)\",\"Jordan\",\"Nike Air Max 90 SE\",\"Nike Dri-FIT Athletic Arch Jersey (NFL Pittsburgh Steelers)\",\"Sylvia Fowles Lynx Explorer Edition\",\"Nike Air\",\"Paris-Saint Germain 2021/22 Stadium Third\",\"Nike Dri-FIT City Connect Striped (MLB San Francisco Giants)\",\"Nike Team (NFL Buffalo Bills)\",\"Nike Pro\",\"Nike SFB Gen 2 8”\",\"Nike Air Force 1 '07 LV8\",\"Nike\",\"Nike Heritage86 (MLB Yankees)\",\"Nike Essential\",\"Nike\",\"Heat Heritage86\",\"Nike 8-Pound \",\"Club América\",\"Nike Sportswear\",\"Nike College (Georgia)\",\"Charlotte Hornets\",\"Nike College (Tennessee)\",\"Nike Court Naomi Osaka Collection\",\"Nike College Dri-FIT Coach (Duke)\",\"Nike Overview (MLB Philadelphia Phillies)\",\"Nike\",\"Nike Dri-FIT Performance Select\",\"Air Jordan 1 Low SE\",\"Air Jordan XXXVI Low Luka PF\",\"Nike\",\"Nike Offline Pack\",\"Nike Dri-FIT Sideline Velocity Lockup (NFL Green Bay Packers)\",\"Philadelphia 76ers\",\"Nike Sportswear\",\"Team 31\",\"Nike Dri-FIT (NFL San Francisco 49ers)\",\"Nike Therma City Connect (MLB Boston Red Sox)\",\"Nike Brasilia\",\"Chelsea FC Repel Academy AWF\",\"MLB Boston Red Sox (Andrew Benintendi)\",\"Nike Dri-FIT\",\"Jordan France\",\"Nike Sportswear\",\"Nike Dri-FIT Stretch (NFL Chicago Bears)\",\"Nike Sportswear Club\",\"Nike Dri-FIT (NFL Los Angeles Chargers)\",\"Nike Dri-FIT\",\"Air Jordan Legacy 312 Low\",\"Nike Sportswear\",\"Nike Dri-FIT Player\",\"Nike Dri-FIT Swoosh\",\"Nike Dri-FIT Infograph (NFL Buffalo Bills)\",\"U.S. Academy Pro\",\"Nike Air Deschutz+ SE\",\"Nike Dri-FIT\",\"Sacramento Kings Icon Edition\",\"MLB Houston Astros\",\"Nike ACG AW84\",\"Nike College Heritage86 (Texas)\",\"New York Knicks\",\"Paris Saint-Germain 2022/23 Stadium Home\",\"Nike College Dri-FIT (Michigan State)\",\"Nike Dri-FIT Crucial Catch (NFL Tampa Bay Buccaneers)\",\"Nike Zoned Support\",\"Nike\",\"Nike Dri-FIT Vapor\",\"Nike Sportswear\",\"Air Jordan XXXV Low DS PF\",\"Nike College Dri-FIT (UCLA)\",\"Jordan\",\"NFL Los Angeles Rams Nike Vapor Untouchable (Matthew Stafford)\",\"Nike Team First (MLB Houston Astros)\"],\"xaxis\":\"x\",\"y\":[40.0,90.0,140.0,22.97,70.0,130.0,104.99,18.97,28.97,85.0,45.97,45.0,95.0,95.0,45.0,30.0,40.97,52.0,21.97,55.0,21.97,40.0,160.0,150.0,89.97,18.97,18.0,13.97,69.97,85.0,76.97,90.0,115.0,135.0,26.97,36.0,85.0,119.97,33.97,40.0,34.97,119.97,100.0,100.0,34.97,75.0,65.0,35.0,24.97,140.0,130.0,36.97,21.97,12.0,15.97,30.0,26.97,78.97,38.97,35.0,35.0,24.97,30.97,45.0,110.0,12.97,58.0,95.0,175.0,9.97,92.97,40.0,48.0,53.97,35.0,65.0,80.0,50.0,75.0,135.0,15.97,60.0,31.97,45.0,63.97,40.0,28.0,85.97,34.97,76.97,30.0,40.0,30.0,85.0,36.97,80.0,115.0,28.0,22.97,28.0,90.0,37.97,40.0,45.0,10.97,55.97,32.97,165.0,50.0,75.0,160.0,35.0],\"yaxis\":\"y\",\"type\":\"bar\"}],                        {\"template\":{\"data\":{\"histogram2dcontour\":[{\"type\":\"histogram2dcontour\",\"colorbar\":{\"outlinewidth\":0,\"ticks\":\"\"},\"colorscale\":[[0.0,\"#0d0887\"],[0.1111111111111111,\"#46039f\"],[0.2222222222222222,\"#7201a8\"],[0.3333333333333333,\"#9c179e\"],[0.4444444444444444,\"#bd3786\"],[0.5555555555555556,\"#d8576b\"],[0.6666666666666666,\"#ed7953\"],[0.7777777777777778,\"#fb9f3a\"],[0.8888888888888888,\"#fdca26\"],[1.0,\"#f0f921\"]]}],\"choropleth\":[{\"type\":\"choropleth\",\"colorbar\":{\"outlinewidth\":0,\"ticks\":\"\"}}],\"histogram2d\":[{\"type\":\"histogram2d\",\"colorbar\":{\"outlinewidth\":0,\"ticks\":\"\"},\"colorscale\":[[0.0,\"#0d0887\"],[0.1111111111111111,\"#46039f\"],[0.2222222222222222,\"#7201a8\"],[0.3333333333333333,\"#9c179e\"],[0.4444444444444444,\"#bd3786\"],[0.5555555555555556,\"#d8576b\"],[0.6666666666666666,\"#ed7953\"],[0.7777777777777778,\"#fb9f3a\"],[0.8888888888888888,\"#fdca26\"],[1.0,\"#f0f921\"]]}],\"heatmap\":[{\"type\":\"heatmap\",\"colorbar\":{\"outlinewidth\":0,\"ticks\":\"\"},\"colorscale\":[[0.0,\"#0d0887\"],[0.1111111111111111,\"#46039f\"],[0.2222222222222222,\"#7201a8\"],[0.3333333333333333,\"#9c179e\"],[0.4444444444444444,\"#bd3786\"],[0.5555555555555556,\"#d8576b\"],[0.6666666666666666,\"#ed7953\"],[0.7777777777777778,\"#fb9f3a\"],[0.8888888888888888,\"#fdca26\"],[1.0,\"#f0f921\"]]}],\"heatmapgl\":[{\"type\":\"heatmapgl\",\"colorbar\":{\"outlinewidth\":0,\"ticks\":\"\"},\"colorscale\":[[0.0,\"#0d0887\"],[0.1111111111111111,\"#46039f\"],[0.2222222222222222,\"#7201a8\"],[0.3333333333333333,\"#9c179e\"],[0.4444444444444444,\"#bd3786\"],[0.5555555555555556,\"#d8576b\"],[0.6666666666666666,\"#ed7953\"],[0.7777777777777778,\"#fb9f3a\"],[0.8888888888888888,\"#fdca26\"],[1.0,\"#f0f921\"]]}],\"contourcarpet\":[{\"type\":\"contourcarpet\",\"colorbar\":{\"outlinewidth\":0,\"ticks\":\"\"}}],\"contour\":[{\"type\":\"contour\",\"colorbar\":{\"outlinewidth\":0,\"ticks\":\"\"},\"colorscale\":[[0.0,\"#0d0887\"],[0.1111111111111111,\"#46039f\"],[0.2222222222222222,\"#7201a8\"],[0.3333333333333333,\"#9c179e\"],[0.4444444444444444,\"#bd3786\"],[0.5555555555555556,\"#d8576b\"],[0.6666666666666666,\"#ed7953\"],[0.7777777777777778,\"#fb9f3a\"],[0.8888888888888888,\"#fdca26\"],[1.0,\"#f0f921\"]]}],\"surface\":[{\"type\":\"surface\",\"colorbar\":{\"outlinewidth\":0,\"ticks\":\"\"},\"colorscale\":[[0.0,\"#0d0887\"],[0.1111111111111111,\"#46039f\"],[0.2222222222222222,\"#7201a8\"],[0.3333333333333333,\"#9c179e\"],[0.4444444444444444,\"#bd3786\"],[0.5555555555555556,\"#d8576b\"],[0.6666666666666666,\"#ed7953\"],[0.7777777777777778,\"#fb9f3a\"],[0.8888888888888888,\"#fdca26\"],[1.0,\"#f0f921\"]]}],\"mesh3d\":[{\"type\":\"mesh3d\",\"colorbar\":{\"outlinewidth\":0,\"ticks\":\"\"}}],\"scatter\":[{\"fillpattern\":{\"fillmode\":\"overlay\",\"size\":10,\"solidity\":0.2},\"type\":\"scatter\"}],\"parcoords\":[{\"type\":\"parcoords\",\"line\":{\"colorbar\":{\"outlinewidth\":0,\"ticks\":\"\"}}}],\"scatterpolargl\":[{\"type\":\"scatterpolargl\",\"marker\":{\"colorbar\":{\"outlinewidth\":0,\"ticks\":\"\"}}}],\"bar\":[{\"error_x\":{\"color\":\"#2a3f5f\"},\"error_y\":{\"color\":\"#2a3f5f\"},\"marker\":{\"line\":{\"color\":\"#E5ECF6\",\"width\":0.5},\"pattern\":{\"fillmode\":\"overlay\",\"size\":10,\"solidity\":0.2}},\"type\":\"bar\"}],\"scattergeo\":[{\"type\":\"scattergeo\",\"marker\":{\"colorbar\":{\"outlinewidth\":0,\"ticks\":\"\"}}}],\"scatterpolar\":[{\"type\":\"scatterpolar\",\"marker\":{\"colorbar\":{\"outlinewidth\":0,\"ticks\":\"\"}}}],\"histogram\":[{\"marker\":{\"pattern\":{\"fillmode\":\"overlay\",\"size\":10,\"solidity\":0.2}},\"type\":\"histogram\"}],\"scattergl\":[{\"type\":\"scattergl\",\"marker\":{\"colorbar\":{\"outlinewidth\":0,\"ticks\":\"\"}}}],\"scatter3d\":[{\"type\":\"scatter3d\",\"line\":{\"colorbar\":{\"outlinewidth\":0,\"ticks\":\"\"}},\"marker\":{\"colorbar\":{\"outlinewidth\":0,\"ticks\":\"\"}}}],\"scattermapbox\":[{\"type\":\"scattermapbox\",\"marker\":{\"colorbar\":{\"outlinewidth\":0,\"ticks\":\"\"}}}],\"scatterternary\":[{\"type\":\"scatterternary\",\"marker\":{\"colorbar\":{\"outlinewidth\":0,\"ticks\":\"\"}}}],\"scattercarpet\":[{\"type\":\"scattercarpet\",\"marker\":{\"colorbar\":{\"outlinewidth\":0,\"ticks\":\"\"}}}],\"carpet\":[{\"aaxis\":{\"endlinecolor\":\"#2a3f5f\",\"gridcolor\":\"white\",\"linecolor\":\"white\",\"minorgridcolor\":\"white\",\"startlinecolor\":\"#2a3f5f\"},\"baxis\":{\"endlinecolor\":\"#2a3f5f\",\"gridcolor\":\"white\",\"linecolor\":\"white\",\"minorgridcolor\":\"white\",\"startlinecolor\":\"#2a3f5f\"},\"type\":\"carpet\"}],\"table\":[{\"cells\":{\"fill\":{\"color\":\"#EBF0F8\"},\"line\":{\"color\":\"white\"}},\"header\":{\"fill\":{\"color\":\"#C8D4E3\"},\"line\":{\"color\":\"white\"}},\"type\":\"table\"}],\"barpolar\":[{\"marker\":{\"line\":{\"color\":\"#E5ECF6\",\"width\":0.5},\"pattern\":{\"fillmode\":\"overlay\",\"size\":10,\"solidity\":0.2}},\"type\":\"barpolar\"}],\"pie\":[{\"automargin\":true,\"type\":\"pie\"}]},\"layout\":{\"autotypenumbers\":\"strict\",\"colorway\":[\"#636efa\",\"#EF553B\",\"#00cc96\",\"#ab63fa\",\"#FFA15A\",\"#19d3f3\",\"#FF6692\",\"#B6E880\",\"#FF97FF\",\"#FECB52\"],\"font\":{\"color\":\"#2a3f5f\"},\"hovermode\":\"closest\",\"hoverlabel\":{\"align\":\"left\"},\"paper_bgcolor\":\"white\",\"plot_bgcolor\":\"#E5ECF6\",\"polar\":{\"bgcolor\":\"#E5ECF6\",\"angularaxis\":{\"gridcolor\":\"white\",\"linecolor\":\"white\",\"ticks\":\"\"},\"radialaxis\":{\"gridcolor\":\"white\",\"linecolor\":\"white\",\"ticks\":\"\"}},\"ternary\":{\"bgcolor\":\"#E5ECF6\",\"aaxis\":{\"gridcolor\":\"white\",\"linecolor\":\"white\",\"ticks\":\"\"},\"baxis\":{\"gridcolor\":\"white\",\"linecolor\":\"white\",\"ticks\":\"\"},\"caxis\":{\"gridcolor\":\"white\",\"linecolor\":\"white\",\"ticks\":\"\"}},\"coloraxis\":{\"colorbar\":{\"outlinewidth\":0,\"ticks\":\"\"}},\"colorscale\":{\"sequential\":[[0.0,\"#0d0887\"],[0.1111111111111111,\"#46039f\"],[0.2222222222222222,\"#7201a8\"],[0.3333333333333333,\"#9c179e\"],[0.4444444444444444,\"#bd3786\"],[0.5555555555555556,\"#d8576b\"],[0.6666666666666666,\"#ed7953\"],[0.7777777777777778,\"#fb9f3a\"],[0.8888888888888888,\"#fdca26\"],[1.0,\"#f0f921\"]],\"sequentialminus\":[[0.0,\"#0d0887\"],[0.1111111111111111,\"#46039f\"],[0.2222222222222222,\"#7201a8\"],[0.3333333333333333,\"#9c179e\"],[0.4444444444444444,\"#bd3786\"],[0.5555555555555556,\"#d8576b\"],[0.6666666666666666,\"#ed7953\"],[0.7777777777777778,\"#fb9f3a\"],[0.8888888888888888,\"#fdca26\"],[1.0,\"#f0f921\"]],\"diverging\":[[0,\"#8e0152\"],[0.1,\"#c51b7d\"],[0.2,\"#de77ae\"],[0.3,\"#f1b6da\"],[0.4,\"#fde0ef\"],[0.5,\"#f7f7f7\"],[0.6,\"#e6f5d0\"],[0.7,\"#b8e186\"],[0.8,\"#7fbc41\"],[0.9,\"#4d9221\"],[1,\"#276419\"]]},\"xaxis\":{\"gridcolor\":\"white\",\"linecolor\":\"white\",\"ticks\":\"\",\"title\":{\"standoff\":15},\"zerolinecolor\":\"white\",\"automargin\":true,\"zerolinewidth\":2},\"yaxis\":{\"gridcolor\":\"white\",\"linecolor\":\"white\",\"ticks\":\"\",\"title\":{\"standoff\":15},\"zerolinecolor\":\"white\",\"automargin\":true,\"zerolinewidth\":2},\"scene\":{\"xaxis\":{\"backgroundcolor\":\"#E5ECF6\",\"gridcolor\":\"white\",\"linecolor\":\"white\",\"showbackground\":true,\"ticks\":\"\",\"zerolinecolor\":\"white\",\"gridwidth\":2},\"yaxis\":{\"backgroundcolor\":\"#E5ECF6\",\"gridcolor\":\"white\",\"linecolor\":\"white\",\"showbackground\":true,\"ticks\":\"\",\"zerolinecolor\":\"white\",\"gridwidth\":2},\"zaxis\":{\"backgroundcolor\":\"#E5ECF6\",\"gridcolor\":\"white\",\"linecolor\":\"white\",\"showbackground\":true,\"ticks\":\"\",\"zerolinecolor\":\"white\",\"gridwidth\":2}},\"shapedefaults\":{\"line\":{\"color\":\"#2a3f5f\"}},\"annotationdefaults\":{\"arrowcolor\":\"#2a3f5f\",\"arrowhead\":0,\"arrowwidth\":1},\"geo\":{\"bgcolor\":\"white\",\"landcolor\":\"#E5ECF6\",\"subunitcolor\":\"white\",\"showland\":true,\"showlakes\":true,\"lakecolor\":\"white\"},\"title\":{\"x\":0.05},\"mapbox\":{\"style\":\"light\"}}},\"xaxis\":{\"anchor\":\"y\",\"domain\":[0.0,1.0],\"title\":{\"text\":\"name\"}},\"yaxis\":{\"anchor\":\"x\",\"domain\":[0.0,1.0],\"title\":{\"text\":\"price\"}},\"legend\":{\"tracegroupgap\":0},\"margin\":{\"t\":60},\"barmode\":\"relative\",\"height\":700},                        {\"responsive\": true}                    ).then(function(){\n",
       "                            \n",
       "var gd = document.getElementById('6a61ab59-b649-4463-b676-2d2576fd43ef');\n",
       "var x = new MutationObserver(function (mutations, observer) {{\n",
       "        var display = window.getComputedStyle(gd).display;\n",
       "        if (!display || display === 'none') {{\n",
       "            console.log([gd, 'removed!']);\n",
       "            Plotly.purge(gd);\n",
       "            observer.disconnect();\n",
       "        }}\n",
       "}});\n",
       "\n",
       "// Listen for the removal of the full notebook cells\n",
       "var notebookContainer = gd.closest('#notebook-container');\n",
       "if (notebookContainer) {{\n",
       "    x.observe(notebookContainer, {childList: true});\n",
       "}}\n",
       "\n",
       "// Listen for the clearing of the current output cell\n",
       "var outputEl = gd.closest('.output');\n",
       "if (outputEl) {{\n",
       "    x.observe(outputEl, {childList: true});\n",
       "}}\n",
       "\n",
       "                        })                };                });            </script>        </div>"
      ]
     },
     "metadata": {},
     "output_type": "display_data"
    }
   ],
   "source": [
    "fig = px.bar(data , x=data['name'], y=data['price'],height=700)\n",
    "fig.show()"
   ]
  },
  {
   "cell_type": "markdown",
   "id": "8bde4541",
   "metadata": {
    "papermill": {
     "duration": 0.023145,
     "end_time": "2022-09-27T08:35:46.820363",
     "exception": false,
     "start_time": "2022-09-27T08:35:46.797218",
     "status": "completed"
    },
    "tags": []
   },
   "source": [
    "# Counts Availability Barchart"
   ]
  },
  {
   "cell_type": "code",
   "execution_count": 12,
   "id": "c01e68b0",
   "metadata": {
    "execution": {
     "iopub.execute_input": "2022-09-27T08:35:46.869520Z",
     "iopub.status.busy": "2022-09-27T08:35:46.868832Z",
     "iopub.status.idle": "2022-09-27T08:35:46.874704Z",
     "shell.execute_reply": "2022-09-27T08:35:46.873820Z"
    },
    "papermill": {
     "duration": 0.033367,
     "end_time": "2022-09-27T08:35:46.876963",
     "exception": false,
     "start_time": "2022-09-27T08:35:46.843596",
     "status": "completed"
    },
    "tags": []
   },
   "outputs": [],
   "source": [
    "count_availability = data['availability'].value_counts()"
   ]
  },
  {
   "cell_type": "code",
   "execution_count": 13,
   "id": "c74af67b",
   "metadata": {
    "execution": {
     "iopub.execute_input": "2022-09-27T08:35:46.925769Z",
     "iopub.status.busy": "2022-09-27T08:35:46.925358Z",
     "iopub.status.idle": "2022-09-27T08:35:46.940516Z",
     "shell.execute_reply": "2022-09-27T08:35:46.939408Z"
    },
    "papermill": {
     "duration": 0.042646,
     "end_time": "2022-09-27T08:35:46.943047",
     "exception": false,
     "start_time": "2022-09-27T08:35:46.900401",
     "status": "completed"
    },
    "tags": []
   },
   "outputs": [
    {
     "data": {
      "application/vnd.plotly.v1+json": {
       "config": {
        "plotlyServerURL": "https://plot.ly"
       },
       "data": [
        {
         "text": [
          67.0,
          41.0,
          4.0
         ],
         "textposition": "auto",
         "type": "bar",
         "x": [
          "InStock",
          "OutOfStock"
         ],
         "y": [
          67,
          41
         ]
        }
       ],
       "layout": {
        "template": {
         "data": {
          "bar": [
           {
            "error_x": {
             "color": "#2a3f5f"
            },
            "error_y": {
             "color": "#2a3f5f"
            },
            "marker": {
             "line": {
              "color": "#E5ECF6",
              "width": 0.5
             },
             "pattern": {
              "fillmode": "overlay",
              "size": 10,
              "solidity": 0.2
             }
            },
            "type": "bar"
           }
          ],
          "barpolar": [
           {
            "marker": {
             "line": {
              "color": "#E5ECF6",
              "width": 0.5
             },
             "pattern": {
              "fillmode": "overlay",
              "size": 10,
              "solidity": 0.2
             }
            },
            "type": "barpolar"
           }
          ],
          "carpet": [
           {
            "aaxis": {
             "endlinecolor": "#2a3f5f",
             "gridcolor": "white",
             "linecolor": "white",
             "minorgridcolor": "white",
             "startlinecolor": "#2a3f5f"
            },
            "baxis": {
             "endlinecolor": "#2a3f5f",
             "gridcolor": "white",
             "linecolor": "white",
             "minorgridcolor": "white",
             "startlinecolor": "#2a3f5f"
            },
            "type": "carpet"
           }
          ],
          "choropleth": [
           {
            "colorbar": {
             "outlinewidth": 0,
             "ticks": ""
            },
            "type": "choropleth"
           }
          ],
          "contour": [
           {
            "colorbar": {
             "outlinewidth": 0,
             "ticks": ""
            },
            "colorscale": [
             [
              0.0,
              "#0d0887"
             ],
             [
              0.1111111111111111,
              "#46039f"
             ],
             [
              0.2222222222222222,
              "#7201a8"
             ],
             [
              0.3333333333333333,
              "#9c179e"
             ],
             [
              0.4444444444444444,
              "#bd3786"
             ],
             [
              0.5555555555555556,
              "#d8576b"
             ],
             [
              0.6666666666666666,
              "#ed7953"
             ],
             [
              0.7777777777777778,
              "#fb9f3a"
             ],
             [
              0.8888888888888888,
              "#fdca26"
             ],
             [
              1.0,
              "#f0f921"
             ]
            ],
            "type": "contour"
           }
          ],
          "contourcarpet": [
           {
            "colorbar": {
             "outlinewidth": 0,
             "ticks": ""
            },
            "type": "contourcarpet"
           }
          ],
          "heatmap": [
           {
            "colorbar": {
             "outlinewidth": 0,
             "ticks": ""
            },
            "colorscale": [
             [
              0.0,
              "#0d0887"
             ],
             [
              0.1111111111111111,
              "#46039f"
             ],
             [
              0.2222222222222222,
              "#7201a8"
             ],
             [
              0.3333333333333333,
              "#9c179e"
             ],
             [
              0.4444444444444444,
              "#bd3786"
             ],
             [
              0.5555555555555556,
              "#d8576b"
             ],
             [
              0.6666666666666666,
              "#ed7953"
             ],
             [
              0.7777777777777778,
              "#fb9f3a"
             ],
             [
              0.8888888888888888,
              "#fdca26"
             ],
             [
              1.0,
              "#f0f921"
             ]
            ],
            "type": "heatmap"
           }
          ],
          "heatmapgl": [
           {
            "colorbar": {
             "outlinewidth": 0,
             "ticks": ""
            },
            "colorscale": [
             [
              0.0,
              "#0d0887"
             ],
             [
              0.1111111111111111,
              "#46039f"
             ],
             [
              0.2222222222222222,
              "#7201a8"
             ],
             [
              0.3333333333333333,
              "#9c179e"
             ],
             [
              0.4444444444444444,
              "#bd3786"
             ],
             [
              0.5555555555555556,
              "#d8576b"
             ],
             [
              0.6666666666666666,
              "#ed7953"
             ],
             [
              0.7777777777777778,
              "#fb9f3a"
             ],
             [
              0.8888888888888888,
              "#fdca26"
             ],
             [
              1.0,
              "#f0f921"
             ]
            ],
            "type": "heatmapgl"
           }
          ],
          "histogram": [
           {
            "marker": {
             "pattern": {
              "fillmode": "overlay",
              "size": 10,
              "solidity": 0.2
             }
            },
            "type": "histogram"
           }
          ],
          "histogram2d": [
           {
            "colorbar": {
             "outlinewidth": 0,
             "ticks": ""
            },
            "colorscale": [
             [
              0.0,
              "#0d0887"
             ],
             [
              0.1111111111111111,
              "#46039f"
             ],
             [
              0.2222222222222222,
              "#7201a8"
             ],
             [
              0.3333333333333333,
              "#9c179e"
             ],
             [
              0.4444444444444444,
              "#bd3786"
             ],
             [
              0.5555555555555556,
              "#d8576b"
             ],
             [
              0.6666666666666666,
              "#ed7953"
             ],
             [
              0.7777777777777778,
              "#fb9f3a"
             ],
             [
              0.8888888888888888,
              "#fdca26"
             ],
             [
              1.0,
              "#f0f921"
             ]
            ],
            "type": "histogram2d"
           }
          ],
          "histogram2dcontour": [
           {
            "colorbar": {
             "outlinewidth": 0,
             "ticks": ""
            },
            "colorscale": [
             [
              0.0,
              "#0d0887"
             ],
             [
              0.1111111111111111,
              "#46039f"
             ],
             [
              0.2222222222222222,
              "#7201a8"
             ],
             [
              0.3333333333333333,
              "#9c179e"
             ],
             [
              0.4444444444444444,
              "#bd3786"
             ],
             [
              0.5555555555555556,
              "#d8576b"
             ],
             [
              0.6666666666666666,
              "#ed7953"
             ],
             [
              0.7777777777777778,
              "#fb9f3a"
             ],
             [
              0.8888888888888888,
              "#fdca26"
             ],
             [
              1.0,
              "#f0f921"
             ]
            ],
            "type": "histogram2dcontour"
           }
          ],
          "mesh3d": [
           {
            "colorbar": {
             "outlinewidth": 0,
             "ticks": ""
            },
            "type": "mesh3d"
           }
          ],
          "parcoords": [
           {
            "line": {
             "colorbar": {
              "outlinewidth": 0,
              "ticks": ""
             }
            },
            "type": "parcoords"
           }
          ],
          "pie": [
           {
            "automargin": true,
            "type": "pie"
           }
          ],
          "scatter": [
           {
            "fillpattern": {
             "fillmode": "overlay",
             "size": 10,
             "solidity": 0.2
            },
            "type": "scatter"
           }
          ],
          "scatter3d": [
           {
            "line": {
             "colorbar": {
              "outlinewidth": 0,
              "ticks": ""
             }
            },
            "marker": {
             "colorbar": {
              "outlinewidth": 0,
              "ticks": ""
             }
            },
            "type": "scatter3d"
           }
          ],
          "scattercarpet": [
           {
            "marker": {
             "colorbar": {
              "outlinewidth": 0,
              "ticks": ""
             }
            },
            "type": "scattercarpet"
           }
          ],
          "scattergeo": [
           {
            "marker": {
             "colorbar": {
              "outlinewidth": 0,
              "ticks": ""
             }
            },
            "type": "scattergeo"
           }
          ],
          "scattergl": [
           {
            "marker": {
             "colorbar": {
              "outlinewidth": 0,
              "ticks": ""
             }
            },
            "type": "scattergl"
           }
          ],
          "scattermapbox": [
           {
            "marker": {
             "colorbar": {
              "outlinewidth": 0,
              "ticks": ""
             }
            },
            "type": "scattermapbox"
           }
          ],
          "scatterpolar": [
           {
            "marker": {
             "colorbar": {
              "outlinewidth": 0,
              "ticks": ""
             }
            },
            "type": "scatterpolar"
           }
          ],
          "scatterpolargl": [
           {
            "marker": {
             "colorbar": {
              "outlinewidth": 0,
              "ticks": ""
             }
            },
            "type": "scatterpolargl"
           }
          ],
          "scatterternary": [
           {
            "marker": {
             "colorbar": {
              "outlinewidth": 0,
              "ticks": ""
             }
            },
            "type": "scatterternary"
           }
          ],
          "surface": [
           {
            "colorbar": {
             "outlinewidth": 0,
             "ticks": ""
            },
            "colorscale": [
             [
              0.0,
              "#0d0887"
             ],
             [
              0.1111111111111111,
              "#46039f"
             ],
             [
              0.2222222222222222,
              "#7201a8"
             ],
             [
              0.3333333333333333,
              "#9c179e"
             ],
             [
              0.4444444444444444,
              "#bd3786"
             ],
             [
              0.5555555555555556,
              "#d8576b"
             ],
             [
              0.6666666666666666,
              "#ed7953"
             ],
             [
              0.7777777777777778,
              "#fb9f3a"
             ],
             [
              0.8888888888888888,
              "#fdca26"
             ],
             [
              1.0,
              "#f0f921"
             ]
            ],
            "type": "surface"
           }
          ],
          "table": [
           {
            "cells": {
             "fill": {
              "color": "#EBF0F8"
             },
             "line": {
              "color": "white"
             }
            },
            "header": {
             "fill": {
              "color": "#C8D4E3"
             },
             "line": {
              "color": "white"
             }
            },
            "type": "table"
           }
          ]
         },
         "layout": {
          "annotationdefaults": {
           "arrowcolor": "#2a3f5f",
           "arrowhead": 0,
           "arrowwidth": 1
          },
          "autotypenumbers": "strict",
          "coloraxis": {
           "colorbar": {
            "outlinewidth": 0,
            "ticks": ""
           }
          },
          "colorscale": {
           "diverging": [
            [
             0,
             "#8e0152"
            ],
            [
             0.1,
             "#c51b7d"
            ],
            [
             0.2,
             "#de77ae"
            ],
            [
             0.3,
             "#f1b6da"
            ],
            [
             0.4,
             "#fde0ef"
            ],
            [
             0.5,
             "#f7f7f7"
            ],
            [
             0.6,
             "#e6f5d0"
            ],
            [
             0.7,
             "#b8e186"
            ],
            [
             0.8,
             "#7fbc41"
            ],
            [
             0.9,
             "#4d9221"
            ],
            [
             1,
             "#276419"
            ]
           ],
           "sequential": [
            [
             0.0,
             "#0d0887"
            ],
            [
             0.1111111111111111,
             "#46039f"
            ],
            [
             0.2222222222222222,
             "#7201a8"
            ],
            [
             0.3333333333333333,
             "#9c179e"
            ],
            [
             0.4444444444444444,
             "#bd3786"
            ],
            [
             0.5555555555555556,
             "#d8576b"
            ],
            [
             0.6666666666666666,
             "#ed7953"
            ],
            [
             0.7777777777777778,
             "#fb9f3a"
            ],
            [
             0.8888888888888888,
             "#fdca26"
            ],
            [
             1.0,
             "#f0f921"
            ]
           ],
           "sequentialminus": [
            [
             0.0,
             "#0d0887"
            ],
            [
             0.1111111111111111,
             "#46039f"
            ],
            [
             0.2222222222222222,
             "#7201a8"
            ],
            [
             0.3333333333333333,
             "#9c179e"
            ],
            [
             0.4444444444444444,
             "#bd3786"
            ],
            [
             0.5555555555555556,
             "#d8576b"
            ],
            [
             0.6666666666666666,
             "#ed7953"
            ],
            [
             0.7777777777777778,
             "#fb9f3a"
            ],
            [
             0.8888888888888888,
             "#fdca26"
            ],
            [
             1.0,
             "#f0f921"
            ]
           ]
          },
          "colorway": [
           "#636efa",
           "#EF553B",
           "#00cc96",
           "#ab63fa",
           "#FFA15A",
           "#19d3f3",
           "#FF6692",
           "#B6E880",
           "#FF97FF",
           "#FECB52"
          ],
          "font": {
           "color": "#2a3f5f"
          },
          "geo": {
           "bgcolor": "white",
           "lakecolor": "white",
           "landcolor": "#E5ECF6",
           "showlakes": true,
           "showland": true,
           "subunitcolor": "white"
          },
          "hoverlabel": {
           "align": "left"
          },
          "hovermode": "closest",
          "mapbox": {
           "style": "light"
          },
          "paper_bgcolor": "white",
          "plot_bgcolor": "#E5ECF6",
          "polar": {
           "angularaxis": {
            "gridcolor": "white",
            "linecolor": "white",
            "ticks": ""
           },
           "bgcolor": "#E5ECF6",
           "radialaxis": {
            "gridcolor": "white",
            "linecolor": "white",
            "ticks": ""
           }
          },
          "scene": {
           "xaxis": {
            "backgroundcolor": "#E5ECF6",
            "gridcolor": "white",
            "gridwidth": 2,
            "linecolor": "white",
            "showbackground": true,
            "ticks": "",
            "zerolinecolor": "white"
           },
           "yaxis": {
            "backgroundcolor": "#E5ECF6",
            "gridcolor": "white",
            "gridwidth": 2,
            "linecolor": "white",
            "showbackground": true,
            "ticks": "",
            "zerolinecolor": "white"
           },
           "zaxis": {
            "backgroundcolor": "#E5ECF6",
            "gridcolor": "white",
            "gridwidth": 2,
            "linecolor": "white",
            "showbackground": true,
            "ticks": "",
            "zerolinecolor": "white"
           }
          },
          "shapedefaults": {
           "line": {
            "color": "#2a3f5f"
           }
          },
          "ternary": {
           "aaxis": {
            "gridcolor": "white",
            "linecolor": "white",
            "ticks": ""
           },
           "baxis": {
            "gridcolor": "white",
            "linecolor": "white",
            "ticks": ""
           },
           "bgcolor": "#E5ECF6",
           "caxis": {
            "gridcolor": "white",
            "linecolor": "white",
            "ticks": ""
           }
          },
          "title": {
           "x": 0.05
          },
          "xaxis": {
           "automargin": true,
           "gridcolor": "white",
           "linecolor": "white",
           "ticks": "",
           "title": {
            "standoff": 15
           },
           "zerolinecolor": "white",
           "zerolinewidth": 2
          },
          "yaxis": {
           "automargin": true,
           "gridcolor": "white",
           "linecolor": "white",
           "ticks": "",
           "title": {
            "standoff": 15
           },
           "zerolinecolor": "white",
           "zerolinewidth": 2
          }
         }
        }
       }
      },
      "text/html": [
       "<div>                            <div id=\"27f961bd-464a-445e-8384-e8da2f042d25\" class=\"plotly-graph-div\" style=\"height:525px; width:100%;\"></div>            <script type=\"text/javascript\">                require([\"plotly\"], function(Plotly) {                    window.PLOTLYENV=window.PLOTLYENV || {};                                    if (document.getElementById(\"27f961bd-464a-445e-8384-e8da2f042d25\")) {                    Plotly.newPlot(                        \"27f961bd-464a-445e-8384-e8da2f042d25\",                        [{\"text\":[67.0,41.0,4.0],\"textposition\":\"auto\",\"x\":[\"InStock\",\"OutOfStock\"],\"y\":[67,41],\"type\":\"bar\"}],                        {\"template\":{\"data\":{\"histogram2dcontour\":[{\"type\":\"histogram2dcontour\",\"colorbar\":{\"outlinewidth\":0,\"ticks\":\"\"},\"colorscale\":[[0.0,\"#0d0887\"],[0.1111111111111111,\"#46039f\"],[0.2222222222222222,\"#7201a8\"],[0.3333333333333333,\"#9c179e\"],[0.4444444444444444,\"#bd3786\"],[0.5555555555555556,\"#d8576b\"],[0.6666666666666666,\"#ed7953\"],[0.7777777777777778,\"#fb9f3a\"],[0.8888888888888888,\"#fdca26\"],[1.0,\"#f0f921\"]]}],\"choropleth\":[{\"type\":\"choropleth\",\"colorbar\":{\"outlinewidth\":0,\"ticks\":\"\"}}],\"histogram2d\":[{\"type\":\"histogram2d\",\"colorbar\":{\"outlinewidth\":0,\"ticks\":\"\"},\"colorscale\":[[0.0,\"#0d0887\"],[0.1111111111111111,\"#46039f\"],[0.2222222222222222,\"#7201a8\"],[0.3333333333333333,\"#9c179e\"],[0.4444444444444444,\"#bd3786\"],[0.5555555555555556,\"#d8576b\"],[0.6666666666666666,\"#ed7953\"],[0.7777777777777778,\"#fb9f3a\"],[0.8888888888888888,\"#fdca26\"],[1.0,\"#f0f921\"]]}],\"heatmap\":[{\"type\":\"heatmap\",\"colorbar\":{\"outlinewidth\":0,\"ticks\":\"\"},\"colorscale\":[[0.0,\"#0d0887\"],[0.1111111111111111,\"#46039f\"],[0.2222222222222222,\"#7201a8\"],[0.3333333333333333,\"#9c179e\"],[0.4444444444444444,\"#bd3786\"],[0.5555555555555556,\"#d8576b\"],[0.6666666666666666,\"#ed7953\"],[0.7777777777777778,\"#fb9f3a\"],[0.8888888888888888,\"#fdca26\"],[1.0,\"#f0f921\"]]}],\"heatmapgl\":[{\"type\":\"heatmapgl\",\"colorbar\":{\"outlinewidth\":0,\"ticks\":\"\"},\"colorscale\":[[0.0,\"#0d0887\"],[0.1111111111111111,\"#46039f\"],[0.2222222222222222,\"#7201a8\"],[0.3333333333333333,\"#9c179e\"],[0.4444444444444444,\"#bd3786\"],[0.5555555555555556,\"#d8576b\"],[0.6666666666666666,\"#ed7953\"],[0.7777777777777778,\"#fb9f3a\"],[0.8888888888888888,\"#fdca26\"],[1.0,\"#f0f921\"]]}],\"contourcarpet\":[{\"type\":\"contourcarpet\",\"colorbar\":{\"outlinewidth\":0,\"ticks\":\"\"}}],\"contour\":[{\"type\":\"contour\",\"colorbar\":{\"outlinewidth\":0,\"ticks\":\"\"},\"colorscale\":[[0.0,\"#0d0887\"],[0.1111111111111111,\"#46039f\"],[0.2222222222222222,\"#7201a8\"],[0.3333333333333333,\"#9c179e\"],[0.4444444444444444,\"#bd3786\"],[0.5555555555555556,\"#d8576b\"],[0.6666666666666666,\"#ed7953\"],[0.7777777777777778,\"#fb9f3a\"],[0.8888888888888888,\"#fdca26\"],[1.0,\"#f0f921\"]]}],\"surface\":[{\"type\":\"surface\",\"colorbar\":{\"outlinewidth\":0,\"ticks\":\"\"},\"colorscale\":[[0.0,\"#0d0887\"],[0.1111111111111111,\"#46039f\"],[0.2222222222222222,\"#7201a8\"],[0.3333333333333333,\"#9c179e\"],[0.4444444444444444,\"#bd3786\"],[0.5555555555555556,\"#d8576b\"],[0.6666666666666666,\"#ed7953\"],[0.7777777777777778,\"#fb9f3a\"],[0.8888888888888888,\"#fdca26\"],[1.0,\"#f0f921\"]]}],\"mesh3d\":[{\"type\":\"mesh3d\",\"colorbar\":{\"outlinewidth\":0,\"ticks\":\"\"}}],\"scatter\":[{\"fillpattern\":{\"fillmode\":\"overlay\",\"size\":10,\"solidity\":0.2},\"type\":\"scatter\"}],\"parcoords\":[{\"type\":\"parcoords\",\"line\":{\"colorbar\":{\"outlinewidth\":0,\"ticks\":\"\"}}}],\"scatterpolargl\":[{\"type\":\"scatterpolargl\",\"marker\":{\"colorbar\":{\"outlinewidth\":0,\"ticks\":\"\"}}}],\"bar\":[{\"error_x\":{\"color\":\"#2a3f5f\"},\"error_y\":{\"color\":\"#2a3f5f\"},\"marker\":{\"line\":{\"color\":\"#E5ECF6\",\"width\":0.5},\"pattern\":{\"fillmode\":\"overlay\",\"size\":10,\"solidity\":0.2}},\"type\":\"bar\"}],\"scattergeo\":[{\"type\":\"scattergeo\",\"marker\":{\"colorbar\":{\"outlinewidth\":0,\"ticks\":\"\"}}}],\"scatterpolar\":[{\"type\":\"scatterpolar\",\"marker\":{\"colorbar\":{\"outlinewidth\":0,\"ticks\":\"\"}}}],\"histogram\":[{\"marker\":{\"pattern\":{\"fillmode\":\"overlay\",\"size\":10,\"solidity\":0.2}},\"type\":\"histogram\"}],\"scattergl\":[{\"type\":\"scattergl\",\"marker\":{\"colorbar\":{\"outlinewidth\":0,\"ticks\":\"\"}}}],\"scatter3d\":[{\"type\":\"scatter3d\",\"line\":{\"colorbar\":{\"outlinewidth\":0,\"ticks\":\"\"}},\"marker\":{\"colorbar\":{\"outlinewidth\":0,\"ticks\":\"\"}}}],\"scattermapbox\":[{\"type\":\"scattermapbox\",\"marker\":{\"colorbar\":{\"outlinewidth\":0,\"ticks\":\"\"}}}],\"scatterternary\":[{\"type\":\"scatterternary\",\"marker\":{\"colorbar\":{\"outlinewidth\":0,\"ticks\":\"\"}}}],\"scattercarpet\":[{\"type\":\"scattercarpet\",\"marker\":{\"colorbar\":{\"outlinewidth\":0,\"ticks\":\"\"}}}],\"carpet\":[{\"aaxis\":{\"endlinecolor\":\"#2a3f5f\",\"gridcolor\":\"white\",\"linecolor\":\"white\",\"minorgridcolor\":\"white\",\"startlinecolor\":\"#2a3f5f\"},\"baxis\":{\"endlinecolor\":\"#2a3f5f\",\"gridcolor\":\"white\",\"linecolor\":\"white\",\"minorgridcolor\":\"white\",\"startlinecolor\":\"#2a3f5f\"},\"type\":\"carpet\"}],\"table\":[{\"cells\":{\"fill\":{\"color\":\"#EBF0F8\"},\"line\":{\"color\":\"white\"}},\"header\":{\"fill\":{\"color\":\"#C8D4E3\"},\"line\":{\"color\":\"white\"}},\"type\":\"table\"}],\"barpolar\":[{\"marker\":{\"line\":{\"color\":\"#E5ECF6\",\"width\":0.5},\"pattern\":{\"fillmode\":\"overlay\",\"size\":10,\"solidity\":0.2}},\"type\":\"barpolar\"}],\"pie\":[{\"automargin\":true,\"type\":\"pie\"}]},\"layout\":{\"autotypenumbers\":\"strict\",\"colorway\":[\"#636efa\",\"#EF553B\",\"#00cc96\",\"#ab63fa\",\"#FFA15A\",\"#19d3f3\",\"#FF6692\",\"#B6E880\",\"#FF97FF\",\"#FECB52\"],\"font\":{\"color\":\"#2a3f5f\"},\"hovermode\":\"closest\",\"hoverlabel\":{\"align\":\"left\"},\"paper_bgcolor\":\"white\",\"plot_bgcolor\":\"#E5ECF6\",\"polar\":{\"bgcolor\":\"#E5ECF6\",\"angularaxis\":{\"gridcolor\":\"white\",\"linecolor\":\"white\",\"ticks\":\"\"},\"radialaxis\":{\"gridcolor\":\"white\",\"linecolor\":\"white\",\"ticks\":\"\"}},\"ternary\":{\"bgcolor\":\"#E5ECF6\",\"aaxis\":{\"gridcolor\":\"white\",\"linecolor\":\"white\",\"ticks\":\"\"},\"baxis\":{\"gridcolor\":\"white\",\"linecolor\":\"white\",\"ticks\":\"\"},\"caxis\":{\"gridcolor\":\"white\",\"linecolor\":\"white\",\"ticks\":\"\"}},\"coloraxis\":{\"colorbar\":{\"outlinewidth\":0,\"ticks\":\"\"}},\"colorscale\":{\"sequential\":[[0.0,\"#0d0887\"],[0.1111111111111111,\"#46039f\"],[0.2222222222222222,\"#7201a8\"],[0.3333333333333333,\"#9c179e\"],[0.4444444444444444,\"#bd3786\"],[0.5555555555555556,\"#d8576b\"],[0.6666666666666666,\"#ed7953\"],[0.7777777777777778,\"#fb9f3a\"],[0.8888888888888888,\"#fdca26\"],[1.0,\"#f0f921\"]],\"sequentialminus\":[[0.0,\"#0d0887\"],[0.1111111111111111,\"#46039f\"],[0.2222222222222222,\"#7201a8\"],[0.3333333333333333,\"#9c179e\"],[0.4444444444444444,\"#bd3786\"],[0.5555555555555556,\"#d8576b\"],[0.6666666666666666,\"#ed7953\"],[0.7777777777777778,\"#fb9f3a\"],[0.8888888888888888,\"#fdca26\"],[1.0,\"#f0f921\"]],\"diverging\":[[0,\"#8e0152\"],[0.1,\"#c51b7d\"],[0.2,\"#de77ae\"],[0.3,\"#f1b6da\"],[0.4,\"#fde0ef\"],[0.5,\"#f7f7f7\"],[0.6,\"#e6f5d0\"],[0.7,\"#b8e186\"],[0.8,\"#7fbc41\"],[0.9,\"#4d9221\"],[1,\"#276419\"]]},\"xaxis\":{\"gridcolor\":\"white\",\"linecolor\":\"white\",\"ticks\":\"\",\"title\":{\"standoff\":15},\"zerolinecolor\":\"white\",\"automargin\":true,\"zerolinewidth\":2},\"yaxis\":{\"gridcolor\":\"white\",\"linecolor\":\"white\",\"ticks\":\"\",\"title\":{\"standoff\":15},\"zerolinecolor\":\"white\",\"automargin\":true,\"zerolinewidth\":2},\"scene\":{\"xaxis\":{\"backgroundcolor\":\"#E5ECF6\",\"gridcolor\":\"white\",\"linecolor\":\"white\",\"showbackground\":true,\"ticks\":\"\",\"zerolinecolor\":\"white\",\"gridwidth\":2},\"yaxis\":{\"backgroundcolor\":\"#E5ECF6\",\"gridcolor\":\"white\",\"linecolor\":\"white\",\"showbackground\":true,\"ticks\":\"\",\"zerolinecolor\":\"white\",\"gridwidth\":2},\"zaxis\":{\"backgroundcolor\":\"#E5ECF6\",\"gridcolor\":\"white\",\"linecolor\":\"white\",\"showbackground\":true,\"ticks\":\"\",\"zerolinecolor\":\"white\",\"gridwidth\":2}},\"shapedefaults\":{\"line\":{\"color\":\"#2a3f5f\"}},\"annotationdefaults\":{\"arrowcolor\":\"#2a3f5f\",\"arrowhead\":0,\"arrowwidth\":1},\"geo\":{\"bgcolor\":\"white\",\"landcolor\":\"#E5ECF6\",\"subunitcolor\":\"white\",\"showland\":true,\"showlakes\":true,\"lakecolor\":\"white\"},\"title\":{\"x\":0.05},\"mapbox\":{\"style\":\"light\"}}}},                        {\"responsive\": true}                    ).then(function(){\n",
       "                            \n",
       "var gd = document.getElementById('27f961bd-464a-445e-8384-e8da2f042d25');\n",
       "var x = new MutationObserver(function (mutations, observer) {{\n",
       "        var display = window.getComputedStyle(gd).display;\n",
       "        if (!display || display === 'none') {{\n",
       "            console.log([gd, 'removed!']);\n",
       "            Plotly.purge(gd);\n",
       "            observer.disconnect();\n",
       "        }}\n",
       "}});\n",
       "\n",
       "// Listen for the removal of the full notebook cells\n",
       "var notebookContainer = gd.closest('#notebook-container');\n",
       "if (notebookContainer) {{\n",
       "    x.observe(notebookContainer, {childList: true});\n",
       "}}\n",
       "\n",
       "// Listen for the clearing of the current output cell\n",
       "var outputEl = gd.closest('.output');\n",
       "if (outputEl) {{\n",
       "    x.observe(outputEl, {childList: true});\n",
       "}}\n",
       "\n",
       "                        })                };                });            </script>        </div>"
      ]
     },
     "metadata": {},
     "output_type": "display_data"
    }
   ],
   "source": [
    "import plotly.graph_objects as go\n",
    "\n",
    "fig = go.Figure(data=[go.Bar(\n",
    "            x=data['availability'].unique()[:2], y=count_availability[:2],\n",
    "            text=count_availability,\n",
    "            textposition='auto',\n",
    "        )])\n",
    "\n",
    "fig.show()"
   ]
  },
  {
   "cell_type": "markdown",
   "id": "9eea8f00",
   "metadata": {
    "papermill": {
     "duration": 0.028235,
     "end_time": "2022-09-27T08:35:46.999998",
     "exception": false,
     "start_time": "2022-09-27T08:35:46.971763",
     "status": "completed"
    },
    "tags": []
   },
   "source": [
    "# Review_Count and Avg_Rating Chart"
   ]
  },
  {
   "cell_type": "code",
   "execution_count": 14,
   "id": "d1569ea1",
   "metadata": {
    "execution": {
     "iopub.execute_input": "2022-09-27T08:35:47.058691Z",
     "iopub.status.busy": "2022-09-27T08:35:47.057937Z",
     "iopub.status.idle": "2022-09-27T08:35:47.162742Z",
     "shell.execute_reply": "2022-09-27T08:35:47.161661Z"
    },
    "papermill": {
     "duration": 0.137771,
     "end_time": "2022-09-27T08:35:47.166023",
     "exception": false,
     "start_time": "2022-09-27T08:35:47.028252",
     "status": "completed"
    },
    "tags": []
   },
   "outputs": [
    {
     "data": {
      "application/vnd.plotly.v1+json": {
       "config": {
        "plotlyServerURL": "https://plot.ly"
       },
       "data": [
        {
         "hovertemplate": "<b>%{hovertext}</b><br><br>avg_rating=%{x}<br>price=%{y}<br>review_count=%{marker.color}<extra></extra>",
         "hovertext": [
          "Nike Dri-FIT Team (MLB Minnesota Twins)",
          "Club América",
          "Nike Sportswear Swoosh",
          "Nike Dri-FIT One Luxe",
          "Paris Saint-Germain Repel Academy AWF",
          "NFL Miami Dolphins (Mike Gesicki)",
          "Kristaps Porziņģis Knicks Icon Edition",
          "Nike College (Oregon)",
          "Nike Sportswear",
          "Nike Therma Crucial Catch (NFL Miami Dolphins)",
          "Nike Sportswear Tech Fleece",
          "Paris Saint-Germain Strike",
          "Croatia 2022/23 Stadium Away",
          "Nike Therma Lockup (NFL Kansas City Chiefs)",
          "Nike Dri-FIT Primetime Logo (MLB San Francisco Giants)",
          "Nike City Connect Wordmark (MLB Kansas City Royals)",
          "Nike College Therma (Michigan State)",
          "Portugal 2022/23 Stadium Home",
          "Nike College Legacy91 (UNC)",
          "Nike Rewind Playback Helmet (NFL Tennessee Titans)",
          "Denver Nuggets Nike x Filip Pagowski",
          "Hurley Palmdale",
          "NFL Minnesota Vikings Nike Vapor Untouchable (Randy Moss)",
          "Air Jordan 1 Zoom CMFT",
          "Nike Air Pegasus 83 Premium",
          "Nike College (Alabama)",
          "Nike",
          "Nike Fury",
          "Nike Myriad",
          "Nike Dri-FIT Crucial Catch (NFL Buffalo Bills)",
          "Nike Air Force 1 LV8 Utility",
          "Chelsea FC Strike",
          "MLB Boston Red Sox",
          "MLB Arizona Diamondbacks City Connect",
          "Nike College Max 90 (Gonzaga)",
          "Nike Dri-FIT",
          "Nike Therma Crucial Catch (NFL Atlanta Falcons)",
          "Zion 2",
          "Jordan",
          "Nike Dri-FIT Sideline Velocity Lockup (NFL Buffalo Bills)",
          "Jordan",
          "Nike Air Max 90 SE",
          "Nike Dri-FIT Athletic Arch Jersey (NFL Pittsburgh Steelers)",
          "Sylvia Fowles Lynx Explorer Edition",
          "Nike Air",
          "Paris-Saint Germain 2021/22 Stadium Third",
          "Nike Dri-FIT City Connect Striped (MLB San Francisco Giants)",
          "Nike Team (NFL Buffalo Bills)",
          "Nike Pro",
          "Nike SFB Gen 2 8”",
          "Nike Air Force 1 '07 LV8",
          "Nike",
          "Nike Heritage86 (MLB Yankees)",
          "Nike Essential",
          "Nike",
          "Heat Heritage86",
          "Nike 8-Pound ",
          "Club América",
          "Nike Sportswear",
          "Nike College (Georgia)",
          "Charlotte Hornets",
          "Nike College (Tennessee)",
          "Nike Court Naomi Osaka Collection",
          "Nike College Dri-FIT Coach (Duke)",
          "Nike Overview (MLB Philadelphia Phillies)",
          "Nike",
          "Nike Dri-FIT Performance Select",
          "Air Jordan 1 Low SE",
          "Air Jordan XXXVI Low Luka PF",
          "Nike",
          "Nike Offline Pack",
          "Nike Dri-FIT Sideline Velocity Lockup (NFL Green Bay Packers)",
          "Philadelphia 76ers",
          "Nike Sportswear",
          "Team 31",
          "Nike Dri-FIT (NFL San Francisco 49ers)",
          "Nike Therma City Connect (MLB Boston Red Sox)",
          "Nike Brasilia",
          "Chelsea FC Repel Academy AWF",
          "MLB Boston Red Sox (Andrew Benintendi)",
          "Nike Dri-FIT",
          "Jordan France",
          "Nike Sportswear",
          "Nike Dri-FIT Stretch (NFL Chicago Bears)",
          "Nike Sportswear Club",
          "Nike Dri-FIT (NFL Los Angeles Chargers)",
          "Nike Dri-FIT",
          "Air Jordan Legacy 312 Low",
          "Nike Sportswear",
          "Nike Dri-FIT Player",
          "Nike Dri-FIT Swoosh",
          "Nike Dri-FIT Infograph (NFL Buffalo Bills)",
          "U.S. Academy Pro",
          "Nike Air Deschutz+ SE",
          "Nike Dri-FIT",
          "Sacramento Kings Icon Edition",
          "MLB Houston Astros",
          "Nike ACG AW84",
          "Nike College Heritage86 (Texas)",
          "New York Knicks",
          "Paris Saint-Germain 2022/23 Stadium Home",
          "Nike College Dri-FIT (Michigan State)",
          "Nike Dri-FIT Crucial Catch (NFL Tampa Bay Buccaneers)",
          "Nike Zoned Support",
          "Nike",
          "Nike Dri-FIT Vapor",
          "Nike Sportswear",
          "Air Jordan XXXV Low DS PF",
          "Nike College Dri-FIT (UCLA)",
          "Jordan",
          "NFL Los Angeles Rams Nike Vapor Untouchable (Matthew Stafford)",
          "Nike Team First (MLB Houston Astros)"
         ],
         "legendgroup": "",
         "marker": {
          "color": [
           0.0,
           1.0,
           11.0,
           0.0,
           0.0,
           0.0,
           3.0,
           0.0,
           1.0,
           0.0,
           0.0,
           0.0,
           0.0,
           0.0,
           0.0,
           0.0,
           0.0,
           0.0,
           0.0,
           0.0,
           1.0,
           0.0,
           0.0,
           120.0,
           0.0,
           0.0,
           0.0,
           0.0,
           1.0,
           0.0,
           0.0,
           0.0,
           0.0,
           0.0,
           0.0,
           1.0,
           0.0,
           3.0,
           0.0,
           0.0,
           0.0,
           31.0,
           0.0,
           0.0,
           0.0,
           0.0,
           0.0,
           0.0,
           152.0,
           28.0,
           0.0,
           1.0,
           0.0,
           316.0,
           0.0,
           0.0,
           1.0,
           0.0,
           0.0,
           0.0,
           0.0,
           0.0,
           0.0,
           0.0,
           0.0,
           0.0,
           0.0,
           0.0,
           0.0,
           0.0,
           5.0,
           0.0,
           0.0,
           0.0,
           0.0,
           0.0,
           0.0,
           0.0,
           0.0,
           0.0,
           0.0,
           0.0,
           0.0,
           0.0,
           0.0,
           0.0,
           0.0,
           5.0,
           0.0,
           0.0,
           0.0,
           0.0,
           0.0,
           0.0,
           6.0,
           0.0,
           5.0,
           1.0,
           0.0,
           0.0,
           0.0,
           0.0,
           0.0,
           11.0,
           15.0,
           0.0,
           3.0,
           0.0,
           0.0,
           0.0,
           0.0,
           0.0
          ],
          "coloraxis": "coloraxis",
          "size": [
           0.0,
           1.0,
           11.0,
           0.0,
           0.0,
           0.0,
           3.0,
           0.0,
           1.0,
           0.0,
           0.0,
           0.0,
           0.0,
           0.0,
           0.0,
           0.0,
           0.0,
           0.0,
           0.0,
           0.0,
           1.0,
           0.0,
           0.0,
           120.0,
           0.0,
           0.0,
           0.0,
           0.0,
           1.0,
           0.0,
           0.0,
           0.0,
           0.0,
           0.0,
           0.0,
           1.0,
           0.0,
           3.0,
           0.0,
           0.0,
           0.0,
           31.0,
           0.0,
           0.0,
           0.0,
           0.0,
           0.0,
           0.0,
           152.0,
           28.0,
           0.0,
           1.0,
           0.0,
           316.0,
           0.0,
           0.0,
           1.0,
           0.0,
           0.0,
           0.0,
           0.0,
           0.0,
           0.0,
           0.0,
           0.0,
           0.0,
           0.0,
           0.0,
           0.0,
           0.0,
           5.0,
           0.0,
           0.0,
           0.0,
           0.0,
           0.0,
           0.0,
           0.0,
           0.0,
           0.0,
           0.0,
           0.0,
           0.0,
           0.0,
           0.0,
           0.0,
           0.0,
           5.0,
           0.0,
           0.0,
           0.0,
           0.0,
           0.0,
           0.0,
           6.0,
           0.0,
           5.0,
           1.0,
           0.0,
           0.0,
           0.0,
           0.0,
           0.0,
           11.0,
           15.0,
           0.0,
           3.0,
           0.0,
           0.0,
           0.0,
           0.0,
           0.0
          ],
          "sizemode": "area",
          "sizeref": 0.0316,
          "symbol": "circle"
         },
         "mode": "markers",
         "name": "",
         "orientation": "v",
         "showlegend": false,
         "type": "scatter",
         "x": [
          0.0,
          5.0,
          4.9,
          0.0,
          0.0,
          0.0,
          5.0,
          0.0,
          5.0,
          0.0,
          0.0,
          0.0,
          0.0,
          0.0,
          0.0,
          0.0,
          0.0,
          0.0,
          0.0,
          0.0,
          5.0,
          0.0,
          0.0,
          4.8,
          0.0,
          0.0,
          0.0,
          0.0,
          5.0,
          0.0,
          0.0,
          0.0,
          0.0,
          0.0,
          0.0,
          5.0,
          0.0,
          4.7,
          0.0,
          0.0,
          0.0,
          4.8,
          0.0,
          0.0,
          0.0,
          0.0,
          0.0,
          0.0,
          4.3,
          3.8,
          0.0,
          5.0,
          0.0,
          4.7,
          0.0,
          0.0,
          5.0,
          0.0,
          0.0,
          0.0,
          0.0,
          0.0,
          0.0,
          0.0,
          0.0,
          0.0,
          0.0,
          0.0,
          0.0,
          0.0,
          4.8,
          0.0,
          0.0,
          0.0,
          0.0,
          0.0,
          0.0,
          0.0,
          0.0,
          0.0,
          0.0,
          0.0,
          0.0,
          0.0,
          0.0,
          0.0,
          0.0,
          4.8,
          0.0,
          0.0,
          0.0,
          0.0,
          0.0,
          0.0,
          4.7,
          0.0,
          4.8,
          5.0,
          0.0,
          0.0,
          0.0,
          0.0,
          0.0,
          4.8,
          3.9,
          0.0,
          5.0,
          0.0,
          0.0,
          0.0,
          0.0,
          0.0
         ],
         "xaxis": "x",
         "y": [
          40.0,
          90.0,
          140.0,
          22.97,
          70.0,
          130.0,
          104.99,
          18.97,
          28.97,
          85.0,
          45.97,
          45.0,
          95.0,
          95.0,
          45.0,
          30.0,
          40.97,
          52.0,
          21.97,
          55.0,
          21.97,
          40.0,
          160.0,
          150.0,
          89.97,
          18.97,
          18.0,
          13.97,
          69.97,
          85.0,
          76.97,
          90.0,
          115.0,
          135.0,
          26.97,
          36.0,
          85.0,
          119.97,
          33.97,
          40.0,
          34.97,
          119.97,
          100.0,
          100.0,
          34.97,
          75.0,
          65.0,
          35.0,
          24.97,
          140.0,
          130.0,
          36.97,
          21.97,
          12.0,
          15.97,
          30.0,
          26.97,
          78.97,
          38.97,
          35.0,
          35.0,
          24.97,
          30.97,
          45.0,
          110.0,
          12.97,
          58.0,
          95.0,
          175.0,
          9.97,
          92.97,
          40.0,
          48.0,
          53.97,
          35.0,
          65.0,
          80.0,
          50.0,
          75.0,
          135.0,
          15.97,
          60.0,
          31.97,
          45.0,
          63.97,
          40.0,
          28.0,
          85.97,
          34.97,
          76.97,
          30.0,
          40.0,
          30.0,
          85.0,
          36.97,
          80.0,
          115.0,
          28.0,
          22.97,
          28.0,
          90.0,
          37.97,
          40.0,
          45.0,
          10.97,
          55.97,
          32.97,
          165.0,
          50.0,
          75.0,
          160.0,
          35.0
         ],
         "yaxis": "y"
        }
       ],
       "layout": {
        "coloraxis": {
         "colorbar": {
          "title": {
           "text": "review_count"
          }
         },
         "colorscale": [
          [
           0.0,
           "#0d0887"
          ],
          [
           0.1111111111111111,
           "#46039f"
          ],
          [
           0.2222222222222222,
           "#7201a8"
          ],
          [
           0.3333333333333333,
           "#9c179e"
          ],
          [
           0.4444444444444444,
           "#bd3786"
          ],
          [
           0.5555555555555556,
           "#d8576b"
          ],
          [
           0.6666666666666666,
           "#ed7953"
          ],
          [
           0.7777777777777778,
           "#fb9f3a"
          ],
          [
           0.8888888888888888,
           "#fdca26"
          ],
          [
           1.0,
           "#f0f921"
          ]
         ]
        },
        "legend": {
         "itemsizing": "constant",
         "tracegroupgap": 0
        },
        "margin": {
         "t": 60
        },
        "template": {
         "data": {
          "bar": [
           {
            "error_x": {
             "color": "#2a3f5f"
            },
            "error_y": {
             "color": "#2a3f5f"
            },
            "marker": {
             "line": {
              "color": "#E5ECF6",
              "width": 0.5
             },
             "pattern": {
              "fillmode": "overlay",
              "size": 10,
              "solidity": 0.2
             }
            },
            "type": "bar"
           }
          ],
          "barpolar": [
           {
            "marker": {
             "line": {
              "color": "#E5ECF6",
              "width": 0.5
             },
             "pattern": {
              "fillmode": "overlay",
              "size": 10,
              "solidity": 0.2
             }
            },
            "type": "barpolar"
           }
          ],
          "carpet": [
           {
            "aaxis": {
             "endlinecolor": "#2a3f5f",
             "gridcolor": "white",
             "linecolor": "white",
             "minorgridcolor": "white",
             "startlinecolor": "#2a3f5f"
            },
            "baxis": {
             "endlinecolor": "#2a3f5f",
             "gridcolor": "white",
             "linecolor": "white",
             "minorgridcolor": "white",
             "startlinecolor": "#2a3f5f"
            },
            "type": "carpet"
           }
          ],
          "choropleth": [
           {
            "colorbar": {
             "outlinewidth": 0,
             "ticks": ""
            },
            "type": "choropleth"
           }
          ],
          "contour": [
           {
            "colorbar": {
             "outlinewidth": 0,
             "ticks": ""
            },
            "colorscale": [
             [
              0.0,
              "#0d0887"
             ],
             [
              0.1111111111111111,
              "#46039f"
             ],
             [
              0.2222222222222222,
              "#7201a8"
             ],
             [
              0.3333333333333333,
              "#9c179e"
             ],
             [
              0.4444444444444444,
              "#bd3786"
             ],
             [
              0.5555555555555556,
              "#d8576b"
             ],
             [
              0.6666666666666666,
              "#ed7953"
             ],
             [
              0.7777777777777778,
              "#fb9f3a"
             ],
             [
              0.8888888888888888,
              "#fdca26"
             ],
             [
              1.0,
              "#f0f921"
             ]
            ],
            "type": "contour"
           }
          ],
          "contourcarpet": [
           {
            "colorbar": {
             "outlinewidth": 0,
             "ticks": ""
            },
            "type": "contourcarpet"
           }
          ],
          "heatmap": [
           {
            "colorbar": {
             "outlinewidth": 0,
             "ticks": ""
            },
            "colorscale": [
             [
              0.0,
              "#0d0887"
             ],
             [
              0.1111111111111111,
              "#46039f"
             ],
             [
              0.2222222222222222,
              "#7201a8"
             ],
             [
              0.3333333333333333,
              "#9c179e"
             ],
             [
              0.4444444444444444,
              "#bd3786"
             ],
             [
              0.5555555555555556,
              "#d8576b"
             ],
             [
              0.6666666666666666,
              "#ed7953"
             ],
             [
              0.7777777777777778,
              "#fb9f3a"
             ],
             [
              0.8888888888888888,
              "#fdca26"
             ],
             [
              1.0,
              "#f0f921"
             ]
            ],
            "type": "heatmap"
           }
          ],
          "heatmapgl": [
           {
            "colorbar": {
             "outlinewidth": 0,
             "ticks": ""
            },
            "colorscale": [
             [
              0.0,
              "#0d0887"
             ],
             [
              0.1111111111111111,
              "#46039f"
             ],
             [
              0.2222222222222222,
              "#7201a8"
             ],
             [
              0.3333333333333333,
              "#9c179e"
             ],
             [
              0.4444444444444444,
              "#bd3786"
             ],
             [
              0.5555555555555556,
              "#d8576b"
             ],
             [
              0.6666666666666666,
              "#ed7953"
             ],
             [
              0.7777777777777778,
              "#fb9f3a"
             ],
             [
              0.8888888888888888,
              "#fdca26"
             ],
             [
              1.0,
              "#f0f921"
             ]
            ],
            "type": "heatmapgl"
           }
          ],
          "histogram": [
           {
            "marker": {
             "pattern": {
              "fillmode": "overlay",
              "size": 10,
              "solidity": 0.2
             }
            },
            "type": "histogram"
           }
          ],
          "histogram2d": [
           {
            "colorbar": {
             "outlinewidth": 0,
             "ticks": ""
            },
            "colorscale": [
             [
              0.0,
              "#0d0887"
             ],
             [
              0.1111111111111111,
              "#46039f"
             ],
             [
              0.2222222222222222,
              "#7201a8"
             ],
             [
              0.3333333333333333,
              "#9c179e"
             ],
             [
              0.4444444444444444,
              "#bd3786"
             ],
             [
              0.5555555555555556,
              "#d8576b"
             ],
             [
              0.6666666666666666,
              "#ed7953"
             ],
             [
              0.7777777777777778,
              "#fb9f3a"
             ],
             [
              0.8888888888888888,
              "#fdca26"
             ],
             [
              1.0,
              "#f0f921"
             ]
            ],
            "type": "histogram2d"
           }
          ],
          "histogram2dcontour": [
           {
            "colorbar": {
             "outlinewidth": 0,
             "ticks": ""
            },
            "colorscale": [
             [
              0.0,
              "#0d0887"
             ],
             [
              0.1111111111111111,
              "#46039f"
             ],
             [
              0.2222222222222222,
              "#7201a8"
             ],
             [
              0.3333333333333333,
              "#9c179e"
             ],
             [
              0.4444444444444444,
              "#bd3786"
             ],
             [
              0.5555555555555556,
              "#d8576b"
             ],
             [
              0.6666666666666666,
              "#ed7953"
             ],
             [
              0.7777777777777778,
              "#fb9f3a"
             ],
             [
              0.8888888888888888,
              "#fdca26"
             ],
             [
              1.0,
              "#f0f921"
             ]
            ],
            "type": "histogram2dcontour"
           }
          ],
          "mesh3d": [
           {
            "colorbar": {
             "outlinewidth": 0,
             "ticks": ""
            },
            "type": "mesh3d"
           }
          ],
          "parcoords": [
           {
            "line": {
             "colorbar": {
              "outlinewidth": 0,
              "ticks": ""
             }
            },
            "type": "parcoords"
           }
          ],
          "pie": [
           {
            "automargin": true,
            "type": "pie"
           }
          ],
          "scatter": [
           {
            "fillpattern": {
             "fillmode": "overlay",
             "size": 10,
             "solidity": 0.2
            },
            "type": "scatter"
           }
          ],
          "scatter3d": [
           {
            "line": {
             "colorbar": {
              "outlinewidth": 0,
              "ticks": ""
             }
            },
            "marker": {
             "colorbar": {
              "outlinewidth": 0,
              "ticks": ""
             }
            },
            "type": "scatter3d"
           }
          ],
          "scattercarpet": [
           {
            "marker": {
             "colorbar": {
              "outlinewidth": 0,
              "ticks": ""
             }
            },
            "type": "scattercarpet"
           }
          ],
          "scattergeo": [
           {
            "marker": {
             "colorbar": {
              "outlinewidth": 0,
              "ticks": ""
             }
            },
            "type": "scattergeo"
           }
          ],
          "scattergl": [
           {
            "marker": {
             "colorbar": {
              "outlinewidth": 0,
              "ticks": ""
             }
            },
            "type": "scattergl"
           }
          ],
          "scattermapbox": [
           {
            "marker": {
             "colorbar": {
              "outlinewidth": 0,
              "ticks": ""
             }
            },
            "type": "scattermapbox"
           }
          ],
          "scatterpolar": [
           {
            "marker": {
             "colorbar": {
              "outlinewidth": 0,
              "ticks": ""
             }
            },
            "type": "scatterpolar"
           }
          ],
          "scatterpolargl": [
           {
            "marker": {
             "colorbar": {
              "outlinewidth": 0,
              "ticks": ""
             }
            },
            "type": "scatterpolargl"
           }
          ],
          "scatterternary": [
           {
            "marker": {
             "colorbar": {
              "outlinewidth": 0,
              "ticks": ""
             }
            },
            "type": "scatterternary"
           }
          ],
          "surface": [
           {
            "colorbar": {
             "outlinewidth": 0,
             "ticks": ""
            },
            "colorscale": [
             [
              0.0,
              "#0d0887"
             ],
             [
              0.1111111111111111,
              "#46039f"
             ],
             [
              0.2222222222222222,
              "#7201a8"
             ],
             [
              0.3333333333333333,
              "#9c179e"
             ],
             [
              0.4444444444444444,
              "#bd3786"
             ],
             [
              0.5555555555555556,
              "#d8576b"
             ],
             [
              0.6666666666666666,
              "#ed7953"
             ],
             [
              0.7777777777777778,
              "#fb9f3a"
             ],
             [
              0.8888888888888888,
              "#fdca26"
             ],
             [
              1.0,
              "#f0f921"
             ]
            ],
            "type": "surface"
           }
          ],
          "table": [
           {
            "cells": {
             "fill": {
              "color": "#EBF0F8"
             },
             "line": {
              "color": "white"
             }
            },
            "header": {
             "fill": {
              "color": "#C8D4E3"
             },
             "line": {
              "color": "white"
             }
            },
            "type": "table"
           }
          ]
         },
         "layout": {
          "annotationdefaults": {
           "arrowcolor": "#2a3f5f",
           "arrowhead": 0,
           "arrowwidth": 1
          },
          "autotypenumbers": "strict",
          "coloraxis": {
           "colorbar": {
            "outlinewidth": 0,
            "ticks": ""
           }
          },
          "colorscale": {
           "diverging": [
            [
             0,
             "#8e0152"
            ],
            [
             0.1,
             "#c51b7d"
            ],
            [
             0.2,
             "#de77ae"
            ],
            [
             0.3,
             "#f1b6da"
            ],
            [
             0.4,
             "#fde0ef"
            ],
            [
             0.5,
             "#f7f7f7"
            ],
            [
             0.6,
             "#e6f5d0"
            ],
            [
             0.7,
             "#b8e186"
            ],
            [
             0.8,
             "#7fbc41"
            ],
            [
             0.9,
             "#4d9221"
            ],
            [
             1,
             "#276419"
            ]
           ],
           "sequential": [
            [
             0.0,
             "#0d0887"
            ],
            [
             0.1111111111111111,
             "#46039f"
            ],
            [
             0.2222222222222222,
             "#7201a8"
            ],
            [
             0.3333333333333333,
             "#9c179e"
            ],
            [
             0.4444444444444444,
             "#bd3786"
            ],
            [
             0.5555555555555556,
             "#d8576b"
            ],
            [
             0.6666666666666666,
             "#ed7953"
            ],
            [
             0.7777777777777778,
             "#fb9f3a"
            ],
            [
             0.8888888888888888,
             "#fdca26"
            ],
            [
             1.0,
             "#f0f921"
            ]
           ],
           "sequentialminus": [
            [
             0.0,
             "#0d0887"
            ],
            [
             0.1111111111111111,
             "#46039f"
            ],
            [
             0.2222222222222222,
             "#7201a8"
            ],
            [
             0.3333333333333333,
             "#9c179e"
            ],
            [
             0.4444444444444444,
             "#bd3786"
            ],
            [
             0.5555555555555556,
             "#d8576b"
            ],
            [
             0.6666666666666666,
             "#ed7953"
            ],
            [
             0.7777777777777778,
             "#fb9f3a"
            ],
            [
             0.8888888888888888,
             "#fdca26"
            ],
            [
             1.0,
             "#f0f921"
            ]
           ]
          },
          "colorway": [
           "#636efa",
           "#EF553B",
           "#00cc96",
           "#ab63fa",
           "#FFA15A",
           "#19d3f3",
           "#FF6692",
           "#B6E880",
           "#FF97FF",
           "#FECB52"
          ],
          "font": {
           "color": "#2a3f5f"
          },
          "geo": {
           "bgcolor": "white",
           "lakecolor": "white",
           "landcolor": "#E5ECF6",
           "showlakes": true,
           "showland": true,
           "subunitcolor": "white"
          },
          "hoverlabel": {
           "align": "left"
          },
          "hovermode": "closest",
          "mapbox": {
           "style": "light"
          },
          "paper_bgcolor": "white",
          "plot_bgcolor": "#E5ECF6",
          "polar": {
           "angularaxis": {
            "gridcolor": "white",
            "linecolor": "white",
            "ticks": ""
           },
           "bgcolor": "#E5ECF6",
           "radialaxis": {
            "gridcolor": "white",
            "linecolor": "white",
            "ticks": ""
           }
          },
          "scene": {
           "xaxis": {
            "backgroundcolor": "#E5ECF6",
            "gridcolor": "white",
            "gridwidth": 2,
            "linecolor": "white",
            "showbackground": true,
            "ticks": "",
            "zerolinecolor": "white"
           },
           "yaxis": {
            "backgroundcolor": "#E5ECF6",
            "gridcolor": "white",
            "gridwidth": 2,
            "linecolor": "white",
            "showbackground": true,
            "ticks": "",
            "zerolinecolor": "white"
           },
           "zaxis": {
            "backgroundcolor": "#E5ECF6",
            "gridcolor": "white",
            "gridwidth": 2,
            "linecolor": "white",
            "showbackground": true,
            "ticks": "",
            "zerolinecolor": "white"
           }
          },
          "shapedefaults": {
           "line": {
            "color": "#2a3f5f"
           }
          },
          "ternary": {
           "aaxis": {
            "gridcolor": "white",
            "linecolor": "white",
            "ticks": ""
           },
           "baxis": {
            "gridcolor": "white",
            "linecolor": "white",
            "ticks": ""
           },
           "bgcolor": "#E5ECF6",
           "caxis": {
            "gridcolor": "white",
            "linecolor": "white",
            "ticks": ""
           }
          },
          "title": {
           "x": 0.05
          },
          "xaxis": {
           "automargin": true,
           "gridcolor": "white",
           "linecolor": "white",
           "ticks": "",
           "title": {
            "standoff": 15
           },
           "zerolinecolor": "white",
           "zerolinewidth": 2
          },
          "yaxis": {
           "automargin": true,
           "gridcolor": "white",
           "linecolor": "white",
           "ticks": "",
           "title": {
            "standoff": 15
           },
           "zerolinecolor": "white",
           "zerolinewidth": 2
          }
         }
        },
        "xaxis": {
         "anchor": "y",
         "domain": [
          0.0,
          1.0
         ],
         "title": {
          "text": "avg_rating"
         },
         "type": "log"
        },
        "yaxis": {
         "anchor": "x",
         "domain": [
          0.0,
          1.0
         ],
         "title": {
          "text": "price"
         }
        }
       }
      },
      "text/html": [
       "<div>                            <div id=\"2bb7fffa-7d12-418e-a1f2-8d46cd77c850\" class=\"plotly-graph-div\" style=\"height:525px; width:100%;\"></div>            <script type=\"text/javascript\">                require([\"plotly\"], function(Plotly) {                    window.PLOTLYENV=window.PLOTLYENV || {};                                    if (document.getElementById(\"2bb7fffa-7d12-418e-a1f2-8d46cd77c850\")) {                    Plotly.newPlot(                        \"2bb7fffa-7d12-418e-a1f2-8d46cd77c850\",                        [{\"hovertemplate\":\"<b>%{hovertext}</b><br><br>avg_rating=%{x}<br>price=%{y}<br>review_count=%{marker.color}<extra></extra>\",\"hovertext\":[\"Nike Dri-FIT Team (MLB Minnesota Twins)\",\"Club América\",\"Nike Sportswear Swoosh\",\"Nike Dri-FIT One Luxe\",\"Paris Saint-Germain Repel Academy AWF\",\"NFL Miami Dolphins (Mike Gesicki)\",\"Kristaps Porziņģis Knicks Icon Edition\",\"Nike College (Oregon)\",\"Nike Sportswear\",\"Nike Therma Crucial Catch (NFL Miami Dolphins)\",\"Nike Sportswear Tech Fleece\",\"Paris Saint-Germain Strike\",\"Croatia 2022/23 Stadium Away\",\"Nike Therma Lockup (NFL Kansas City Chiefs)\",\"Nike Dri-FIT Primetime Logo (MLB San Francisco Giants)\",\"Nike City Connect Wordmark (MLB Kansas City Royals)\",\"Nike College Therma (Michigan State)\",\"Portugal 2022/23 Stadium Home\",\"Nike College Legacy91 (UNC)\",\"Nike Rewind Playback Helmet (NFL Tennessee Titans)\",\"Denver Nuggets Nike x Filip Pagowski\",\"Hurley Palmdale\",\"NFL Minnesota Vikings Nike Vapor Untouchable (Randy Moss)\",\"Air Jordan 1 Zoom CMFT\",\"Nike Air Pegasus 83 Premium\",\"Nike College (Alabama)\",\"Nike\",\"Nike Fury\",\"Nike Myriad\",\"Nike Dri-FIT Crucial Catch (NFL Buffalo Bills)\",\"Nike Air Force 1 LV8 Utility\",\"Chelsea FC Strike\",\"MLB Boston Red Sox\",\"MLB Arizona Diamondbacks City Connect\",\"Nike College Max 90 (Gonzaga)\",\"Nike Dri-FIT\",\"Nike Therma Crucial Catch (NFL Atlanta Falcons)\",\"Zion 2\",\"Jordan\",\"Nike Dri-FIT Sideline Velocity Lockup (NFL Buffalo Bills)\",\"Jordan\",\"Nike Air Max 90 SE\",\"Nike Dri-FIT Athletic Arch Jersey (NFL Pittsburgh Steelers)\",\"Sylvia Fowles Lynx Explorer Edition\",\"Nike Air\",\"Paris-Saint Germain 2021/22 Stadium Third\",\"Nike Dri-FIT City Connect Striped (MLB San Francisco Giants)\",\"Nike Team (NFL Buffalo Bills)\",\"Nike Pro\",\"Nike SFB Gen 2 8”\",\"Nike Air Force 1 '07 LV8\",\"Nike\",\"Nike Heritage86 (MLB Yankees)\",\"Nike Essential\",\"Nike\",\"Heat Heritage86\",\"Nike 8-Pound \",\"Club América\",\"Nike Sportswear\",\"Nike College (Georgia)\",\"Charlotte Hornets\",\"Nike College (Tennessee)\",\"Nike Court Naomi Osaka Collection\",\"Nike College Dri-FIT Coach (Duke)\",\"Nike Overview (MLB Philadelphia Phillies)\",\"Nike\",\"Nike Dri-FIT Performance Select\",\"Air Jordan 1 Low SE\",\"Air Jordan XXXVI Low Luka PF\",\"Nike\",\"Nike Offline Pack\",\"Nike Dri-FIT Sideline Velocity Lockup (NFL Green Bay Packers)\",\"Philadelphia 76ers\",\"Nike Sportswear\",\"Team 31\",\"Nike Dri-FIT (NFL San Francisco 49ers)\",\"Nike Therma City Connect (MLB Boston Red Sox)\",\"Nike Brasilia\",\"Chelsea FC Repel Academy AWF\",\"MLB Boston Red Sox (Andrew Benintendi)\",\"Nike Dri-FIT\",\"Jordan France\",\"Nike Sportswear\",\"Nike Dri-FIT Stretch (NFL Chicago Bears)\",\"Nike Sportswear Club\",\"Nike Dri-FIT (NFL Los Angeles Chargers)\",\"Nike Dri-FIT\",\"Air Jordan Legacy 312 Low\",\"Nike Sportswear\",\"Nike Dri-FIT Player\",\"Nike Dri-FIT Swoosh\",\"Nike Dri-FIT Infograph (NFL Buffalo Bills)\",\"U.S. Academy Pro\",\"Nike Air Deschutz+ SE\",\"Nike Dri-FIT\",\"Sacramento Kings Icon Edition\",\"MLB Houston Astros\",\"Nike ACG AW84\",\"Nike College Heritage86 (Texas)\",\"New York Knicks\",\"Paris Saint-Germain 2022/23 Stadium Home\",\"Nike College Dri-FIT (Michigan State)\",\"Nike Dri-FIT Crucial Catch (NFL Tampa Bay Buccaneers)\",\"Nike Zoned Support\",\"Nike\",\"Nike Dri-FIT Vapor\",\"Nike Sportswear\",\"Air Jordan XXXV Low DS PF\",\"Nike College Dri-FIT (UCLA)\",\"Jordan\",\"NFL Los Angeles Rams Nike Vapor Untouchable (Matthew Stafford)\",\"Nike Team First (MLB Houston Astros)\"],\"legendgroup\":\"\",\"marker\":{\"color\":[0.0,1.0,11.0,0.0,0.0,0.0,3.0,0.0,1.0,0.0,0.0,0.0,0.0,0.0,0.0,0.0,0.0,0.0,0.0,0.0,1.0,0.0,0.0,120.0,0.0,0.0,0.0,0.0,1.0,0.0,0.0,0.0,0.0,0.0,0.0,1.0,0.0,3.0,0.0,0.0,0.0,31.0,0.0,0.0,0.0,0.0,0.0,0.0,152.0,28.0,0.0,1.0,0.0,316.0,0.0,0.0,1.0,0.0,0.0,0.0,0.0,0.0,0.0,0.0,0.0,0.0,0.0,0.0,0.0,0.0,5.0,0.0,0.0,0.0,0.0,0.0,0.0,0.0,0.0,0.0,0.0,0.0,0.0,0.0,0.0,0.0,0.0,5.0,0.0,0.0,0.0,0.0,0.0,0.0,6.0,0.0,5.0,1.0,0.0,0.0,0.0,0.0,0.0,11.0,15.0,0.0,3.0,0.0,0.0,0.0,0.0,0.0],\"coloraxis\":\"coloraxis\",\"size\":[0.0,1.0,11.0,0.0,0.0,0.0,3.0,0.0,1.0,0.0,0.0,0.0,0.0,0.0,0.0,0.0,0.0,0.0,0.0,0.0,1.0,0.0,0.0,120.0,0.0,0.0,0.0,0.0,1.0,0.0,0.0,0.0,0.0,0.0,0.0,1.0,0.0,3.0,0.0,0.0,0.0,31.0,0.0,0.0,0.0,0.0,0.0,0.0,152.0,28.0,0.0,1.0,0.0,316.0,0.0,0.0,1.0,0.0,0.0,0.0,0.0,0.0,0.0,0.0,0.0,0.0,0.0,0.0,0.0,0.0,5.0,0.0,0.0,0.0,0.0,0.0,0.0,0.0,0.0,0.0,0.0,0.0,0.0,0.0,0.0,0.0,0.0,5.0,0.0,0.0,0.0,0.0,0.0,0.0,6.0,0.0,5.0,1.0,0.0,0.0,0.0,0.0,0.0,11.0,15.0,0.0,3.0,0.0,0.0,0.0,0.0,0.0],\"sizemode\":\"area\",\"sizeref\":0.0316,\"symbol\":\"circle\"},\"mode\":\"markers\",\"name\":\"\",\"orientation\":\"v\",\"showlegend\":false,\"x\":[0.0,5.0,4.9,0.0,0.0,0.0,5.0,0.0,5.0,0.0,0.0,0.0,0.0,0.0,0.0,0.0,0.0,0.0,0.0,0.0,5.0,0.0,0.0,4.8,0.0,0.0,0.0,0.0,5.0,0.0,0.0,0.0,0.0,0.0,0.0,5.0,0.0,4.7,0.0,0.0,0.0,4.8,0.0,0.0,0.0,0.0,0.0,0.0,4.3,3.8,0.0,5.0,0.0,4.7,0.0,0.0,5.0,0.0,0.0,0.0,0.0,0.0,0.0,0.0,0.0,0.0,0.0,0.0,0.0,0.0,4.8,0.0,0.0,0.0,0.0,0.0,0.0,0.0,0.0,0.0,0.0,0.0,0.0,0.0,0.0,0.0,0.0,4.8,0.0,0.0,0.0,0.0,0.0,0.0,4.7,0.0,4.8,5.0,0.0,0.0,0.0,0.0,0.0,4.8,3.9,0.0,5.0,0.0,0.0,0.0,0.0,0.0],\"xaxis\":\"x\",\"y\":[40.0,90.0,140.0,22.97,70.0,130.0,104.99,18.97,28.97,85.0,45.97,45.0,95.0,95.0,45.0,30.0,40.97,52.0,21.97,55.0,21.97,40.0,160.0,150.0,89.97,18.97,18.0,13.97,69.97,85.0,76.97,90.0,115.0,135.0,26.97,36.0,85.0,119.97,33.97,40.0,34.97,119.97,100.0,100.0,34.97,75.0,65.0,35.0,24.97,140.0,130.0,36.97,21.97,12.0,15.97,30.0,26.97,78.97,38.97,35.0,35.0,24.97,30.97,45.0,110.0,12.97,58.0,95.0,175.0,9.97,92.97,40.0,48.0,53.97,35.0,65.0,80.0,50.0,75.0,135.0,15.97,60.0,31.97,45.0,63.97,40.0,28.0,85.97,34.97,76.97,30.0,40.0,30.0,85.0,36.97,80.0,115.0,28.0,22.97,28.0,90.0,37.97,40.0,45.0,10.97,55.97,32.97,165.0,50.0,75.0,160.0,35.0],\"yaxis\":\"y\",\"type\":\"scatter\"}],                        {\"template\":{\"data\":{\"histogram2dcontour\":[{\"type\":\"histogram2dcontour\",\"colorbar\":{\"outlinewidth\":0,\"ticks\":\"\"},\"colorscale\":[[0.0,\"#0d0887\"],[0.1111111111111111,\"#46039f\"],[0.2222222222222222,\"#7201a8\"],[0.3333333333333333,\"#9c179e\"],[0.4444444444444444,\"#bd3786\"],[0.5555555555555556,\"#d8576b\"],[0.6666666666666666,\"#ed7953\"],[0.7777777777777778,\"#fb9f3a\"],[0.8888888888888888,\"#fdca26\"],[1.0,\"#f0f921\"]]}],\"choropleth\":[{\"type\":\"choropleth\",\"colorbar\":{\"outlinewidth\":0,\"ticks\":\"\"}}],\"histogram2d\":[{\"type\":\"histogram2d\",\"colorbar\":{\"outlinewidth\":0,\"ticks\":\"\"},\"colorscale\":[[0.0,\"#0d0887\"],[0.1111111111111111,\"#46039f\"],[0.2222222222222222,\"#7201a8\"],[0.3333333333333333,\"#9c179e\"],[0.4444444444444444,\"#bd3786\"],[0.5555555555555556,\"#d8576b\"],[0.6666666666666666,\"#ed7953\"],[0.7777777777777778,\"#fb9f3a\"],[0.8888888888888888,\"#fdca26\"],[1.0,\"#f0f921\"]]}],\"heatmap\":[{\"type\":\"heatmap\",\"colorbar\":{\"outlinewidth\":0,\"ticks\":\"\"},\"colorscale\":[[0.0,\"#0d0887\"],[0.1111111111111111,\"#46039f\"],[0.2222222222222222,\"#7201a8\"],[0.3333333333333333,\"#9c179e\"],[0.4444444444444444,\"#bd3786\"],[0.5555555555555556,\"#d8576b\"],[0.6666666666666666,\"#ed7953\"],[0.7777777777777778,\"#fb9f3a\"],[0.8888888888888888,\"#fdca26\"],[1.0,\"#f0f921\"]]}],\"heatmapgl\":[{\"type\":\"heatmapgl\",\"colorbar\":{\"outlinewidth\":0,\"ticks\":\"\"},\"colorscale\":[[0.0,\"#0d0887\"],[0.1111111111111111,\"#46039f\"],[0.2222222222222222,\"#7201a8\"],[0.3333333333333333,\"#9c179e\"],[0.4444444444444444,\"#bd3786\"],[0.5555555555555556,\"#d8576b\"],[0.6666666666666666,\"#ed7953\"],[0.7777777777777778,\"#fb9f3a\"],[0.8888888888888888,\"#fdca26\"],[1.0,\"#f0f921\"]]}],\"contourcarpet\":[{\"type\":\"contourcarpet\",\"colorbar\":{\"outlinewidth\":0,\"ticks\":\"\"}}],\"contour\":[{\"type\":\"contour\",\"colorbar\":{\"outlinewidth\":0,\"ticks\":\"\"},\"colorscale\":[[0.0,\"#0d0887\"],[0.1111111111111111,\"#46039f\"],[0.2222222222222222,\"#7201a8\"],[0.3333333333333333,\"#9c179e\"],[0.4444444444444444,\"#bd3786\"],[0.5555555555555556,\"#d8576b\"],[0.6666666666666666,\"#ed7953\"],[0.7777777777777778,\"#fb9f3a\"],[0.8888888888888888,\"#fdca26\"],[1.0,\"#f0f921\"]]}],\"surface\":[{\"type\":\"surface\",\"colorbar\":{\"outlinewidth\":0,\"ticks\":\"\"},\"colorscale\":[[0.0,\"#0d0887\"],[0.1111111111111111,\"#46039f\"],[0.2222222222222222,\"#7201a8\"],[0.3333333333333333,\"#9c179e\"],[0.4444444444444444,\"#bd3786\"],[0.5555555555555556,\"#d8576b\"],[0.6666666666666666,\"#ed7953\"],[0.7777777777777778,\"#fb9f3a\"],[0.8888888888888888,\"#fdca26\"],[1.0,\"#f0f921\"]]}],\"mesh3d\":[{\"type\":\"mesh3d\",\"colorbar\":{\"outlinewidth\":0,\"ticks\":\"\"}}],\"scatter\":[{\"fillpattern\":{\"fillmode\":\"overlay\",\"size\":10,\"solidity\":0.2},\"type\":\"scatter\"}],\"parcoords\":[{\"type\":\"parcoords\",\"line\":{\"colorbar\":{\"outlinewidth\":0,\"ticks\":\"\"}}}],\"scatterpolargl\":[{\"type\":\"scatterpolargl\",\"marker\":{\"colorbar\":{\"outlinewidth\":0,\"ticks\":\"\"}}}],\"bar\":[{\"error_x\":{\"color\":\"#2a3f5f\"},\"error_y\":{\"color\":\"#2a3f5f\"},\"marker\":{\"line\":{\"color\":\"#E5ECF6\",\"width\":0.5},\"pattern\":{\"fillmode\":\"overlay\",\"size\":10,\"solidity\":0.2}},\"type\":\"bar\"}],\"scattergeo\":[{\"type\":\"scattergeo\",\"marker\":{\"colorbar\":{\"outlinewidth\":0,\"ticks\":\"\"}}}],\"scatterpolar\":[{\"type\":\"scatterpolar\",\"marker\":{\"colorbar\":{\"outlinewidth\":0,\"ticks\":\"\"}}}],\"histogram\":[{\"marker\":{\"pattern\":{\"fillmode\":\"overlay\",\"size\":10,\"solidity\":0.2}},\"type\":\"histogram\"}],\"scattergl\":[{\"type\":\"scattergl\",\"marker\":{\"colorbar\":{\"outlinewidth\":0,\"ticks\":\"\"}}}],\"scatter3d\":[{\"type\":\"scatter3d\",\"line\":{\"colorbar\":{\"outlinewidth\":0,\"ticks\":\"\"}},\"marker\":{\"colorbar\":{\"outlinewidth\":0,\"ticks\":\"\"}}}],\"scattermapbox\":[{\"type\":\"scattermapbox\",\"marker\":{\"colorbar\":{\"outlinewidth\":0,\"ticks\":\"\"}}}],\"scatterternary\":[{\"type\":\"scatterternary\",\"marker\":{\"colorbar\":{\"outlinewidth\":0,\"ticks\":\"\"}}}],\"scattercarpet\":[{\"type\":\"scattercarpet\",\"marker\":{\"colorbar\":{\"outlinewidth\":0,\"ticks\":\"\"}}}],\"carpet\":[{\"aaxis\":{\"endlinecolor\":\"#2a3f5f\",\"gridcolor\":\"white\",\"linecolor\":\"white\",\"minorgridcolor\":\"white\",\"startlinecolor\":\"#2a3f5f\"},\"baxis\":{\"endlinecolor\":\"#2a3f5f\",\"gridcolor\":\"white\",\"linecolor\":\"white\",\"minorgridcolor\":\"white\",\"startlinecolor\":\"#2a3f5f\"},\"type\":\"carpet\"}],\"table\":[{\"cells\":{\"fill\":{\"color\":\"#EBF0F8\"},\"line\":{\"color\":\"white\"}},\"header\":{\"fill\":{\"color\":\"#C8D4E3\"},\"line\":{\"color\":\"white\"}},\"type\":\"table\"}],\"barpolar\":[{\"marker\":{\"line\":{\"color\":\"#E5ECF6\",\"width\":0.5},\"pattern\":{\"fillmode\":\"overlay\",\"size\":10,\"solidity\":0.2}},\"type\":\"barpolar\"}],\"pie\":[{\"automargin\":true,\"type\":\"pie\"}]},\"layout\":{\"autotypenumbers\":\"strict\",\"colorway\":[\"#636efa\",\"#EF553B\",\"#00cc96\",\"#ab63fa\",\"#FFA15A\",\"#19d3f3\",\"#FF6692\",\"#B6E880\",\"#FF97FF\",\"#FECB52\"],\"font\":{\"color\":\"#2a3f5f\"},\"hovermode\":\"closest\",\"hoverlabel\":{\"align\":\"left\"},\"paper_bgcolor\":\"white\",\"plot_bgcolor\":\"#E5ECF6\",\"polar\":{\"bgcolor\":\"#E5ECF6\",\"angularaxis\":{\"gridcolor\":\"white\",\"linecolor\":\"white\",\"ticks\":\"\"},\"radialaxis\":{\"gridcolor\":\"white\",\"linecolor\":\"white\",\"ticks\":\"\"}},\"ternary\":{\"bgcolor\":\"#E5ECF6\",\"aaxis\":{\"gridcolor\":\"white\",\"linecolor\":\"white\",\"ticks\":\"\"},\"baxis\":{\"gridcolor\":\"white\",\"linecolor\":\"white\",\"ticks\":\"\"},\"caxis\":{\"gridcolor\":\"white\",\"linecolor\":\"white\",\"ticks\":\"\"}},\"coloraxis\":{\"colorbar\":{\"outlinewidth\":0,\"ticks\":\"\"}},\"colorscale\":{\"sequential\":[[0.0,\"#0d0887\"],[0.1111111111111111,\"#46039f\"],[0.2222222222222222,\"#7201a8\"],[0.3333333333333333,\"#9c179e\"],[0.4444444444444444,\"#bd3786\"],[0.5555555555555556,\"#d8576b\"],[0.6666666666666666,\"#ed7953\"],[0.7777777777777778,\"#fb9f3a\"],[0.8888888888888888,\"#fdca26\"],[1.0,\"#f0f921\"]],\"sequentialminus\":[[0.0,\"#0d0887\"],[0.1111111111111111,\"#46039f\"],[0.2222222222222222,\"#7201a8\"],[0.3333333333333333,\"#9c179e\"],[0.4444444444444444,\"#bd3786\"],[0.5555555555555556,\"#d8576b\"],[0.6666666666666666,\"#ed7953\"],[0.7777777777777778,\"#fb9f3a\"],[0.8888888888888888,\"#fdca26\"],[1.0,\"#f0f921\"]],\"diverging\":[[0,\"#8e0152\"],[0.1,\"#c51b7d\"],[0.2,\"#de77ae\"],[0.3,\"#f1b6da\"],[0.4,\"#fde0ef\"],[0.5,\"#f7f7f7\"],[0.6,\"#e6f5d0\"],[0.7,\"#b8e186\"],[0.8,\"#7fbc41\"],[0.9,\"#4d9221\"],[1,\"#276419\"]]},\"xaxis\":{\"gridcolor\":\"white\",\"linecolor\":\"white\",\"ticks\":\"\",\"title\":{\"standoff\":15},\"zerolinecolor\":\"white\",\"automargin\":true,\"zerolinewidth\":2},\"yaxis\":{\"gridcolor\":\"white\",\"linecolor\":\"white\",\"ticks\":\"\",\"title\":{\"standoff\":15},\"zerolinecolor\":\"white\",\"automargin\":true,\"zerolinewidth\":2},\"scene\":{\"xaxis\":{\"backgroundcolor\":\"#E5ECF6\",\"gridcolor\":\"white\",\"linecolor\":\"white\",\"showbackground\":true,\"ticks\":\"\",\"zerolinecolor\":\"white\",\"gridwidth\":2},\"yaxis\":{\"backgroundcolor\":\"#E5ECF6\",\"gridcolor\":\"white\",\"linecolor\":\"white\",\"showbackground\":true,\"ticks\":\"\",\"zerolinecolor\":\"white\",\"gridwidth\":2},\"zaxis\":{\"backgroundcolor\":\"#E5ECF6\",\"gridcolor\":\"white\",\"linecolor\":\"white\",\"showbackground\":true,\"ticks\":\"\",\"zerolinecolor\":\"white\",\"gridwidth\":2}},\"shapedefaults\":{\"line\":{\"color\":\"#2a3f5f\"}},\"annotationdefaults\":{\"arrowcolor\":\"#2a3f5f\",\"arrowhead\":0,\"arrowwidth\":1},\"geo\":{\"bgcolor\":\"white\",\"landcolor\":\"#E5ECF6\",\"subunitcolor\":\"white\",\"showland\":true,\"showlakes\":true,\"lakecolor\":\"white\"},\"title\":{\"x\":0.05},\"mapbox\":{\"style\":\"light\"}}},\"xaxis\":{\"anchor\":\"y\",\"domain\":[0.0,1.0],\"title\":{\"text\":\"avg_rating\"},\"type\":\"log\"},\"yaxis\":{\"anchor\":\"x\",\"domain\":[0.0,1.0],\"title\":{\"text\":\"price\"}},\"coloraxis\":{\"colorbar\":{\"title\":{\"text\":\"review_count\"}},\"colorscale\":[[0.0,\"#0d0887\"],[0.1111111111111111,\"#46039f\"],[0.2222222222222222,\"#7201a8\"],[0.3333333333333333,\"#9c179e\"],[0.4444444444444444,\"#bd3786\"],[0.5555555555555556,\"#d8576b\"],[0.6666666666666666,\"#ed7953\"],[0.7777777777777778,\"#fb9f3a\"],[0.8888888888888888,\"#fdca26\"],[1.0,\"#f0f921\"]]},\"legend\":{\"tracegroupgap\":0,\"itemsizing\":\"constant\"},\"margin\":{\"t\":60}},                        {\"responsive\": true}                    ).then(function(){\n",
       "                            \n",
       "var gd = document.getElementById('2bb7fffa-7d12-418e-a1f2-8d46cd77c850');\n",
       "var x = new MutationObserver(function (mutations, observer) {{\n",
       "        var display = window.getComputedStyle(gd).display;\n",
       "        if (!display || display === 'none') {{\n",
       "            console.log([gd, 'removed!']);\n",
       "            Plotly.purge(gd);\n",
       "            observer.disconnect();\n",
       "        }}\n",
       "}});\n",
       "\n",
       "// Listen for the removal of the full notebook cells\n",
       "var notebookContainer = gd.closest('#notebook-container');\n",
       "if (notebookContainer) {{\n",
       "    x.observe(notebookContainer, {childList: true});\n",
       "}}\n",
       "\n",
       "// Listen for the clearing of the current output cell\n",
       "var outputEl = gd.closest('.output');\n",
       "if (outputEl) {{\n",
       "    x.observe(outputEl, {childList: true});\n",
       "}}\n",
       "\n",
       "                        })                };                });            </script>        </div>"
      ]
     },
     "metadata": {},
     "output_type": "display_data"
    }
   ],
   "source": [
    "fig = px.scatter(data ,x=\"avg_rating\", y=\"price\", size=\"review_count\", color=\"review_count\",\n",
    "           hover_name=\"name\",log_x=True, size_max=100)\n",
    "fig.show()"
   ]
  },
  {
   "cell_type": "code",
   "execution_count": 15,
   "id": "eb3488d5",
   "metadata": {
    "execution": {
     "iopub.execute_input": "2022-09-27T08:35:47.240025Z",
     "iopub.status.busy": "2022-09-27T08:35:47.239595Z",
     "iopub.status.idle": "2022-09-27T08:35:47.381555Z",
     "shell.execute_reply": "2022-09-27T08:35:47.380390Z"
    },
    "papermill": {
     "duration": 0.18401,
     "end_time": "2022-09-27T08:35:47.385521",
     "exception": false,
     "start_time": "2022-09-27T08:35:47.201511",
     "status": "completed"
    },
    "tags": []
   },
   "outputs": [
    {
     "data": {
      "application/vnd.plotly.v1+json": {
       "config": {
        "plotlyServerURL": "https://plot.ly"
       },
       "data": [
        {
         "branchvalues": "total",
         "domain": {
          "x": [
           0.0,
           1.0
          ],
          "y": [
           0.0,
           1.0
          ]
         },
         "hovertemplate": "labels=%{label}<br>review_count=%{value}<br>parent=%{parent}<br>id=%{id}<extra></extra>",
         "ids": [
          "NIKE/InStock/Air Jordan 1 Low SE",
          "NIKE/InStock/Air Jordan 1 Zoom CMFT",
          "NIKE/OutOfStock/Air Jordan Legacy 312 Low",
          "NIKE/InStock/Air Jordan XXXV Low DS PF",
          "NIKE/InStock/Air Jordan XXXVI Low Luka PF",
          "NIKE/InStock/Charlotte Hornets",
          "NIKE/InStock/Chelsea FC Repel Academy AWF",
          "NIKE/InStock/Chelsea FC Strike",
          "NIKE/InStock/Club América",
          "NIKE/OutOfStock/Club América",
          "NIKE/0/Croatia 2022/23 Stadium Away",
          "NIKE/OutOfStock/Denver Nuggets Nike x Filip Pagowski",
          "NIKE/OutOfStock/Heat Heritage86",
          "NIKE/OutOfStock/Hurley Palmdale",
          "NIKE/InStock/Jordan",
          "NIKE/OutOfStock/Jordan",
          "NIKE/OutOfStock/Jordan France",
          "NIKE/OutOfStock/Kristaps Porziņģis Knicks Icon Edition",
          "NIKE/OutOfStock/MLB Arizona Diamondbacks City Connect",
          "NIKE/OutOfStock/MLB Boston Red Sox",
          "NIKE/OutOfStock/MLB Boston Red Sox (Andrew Benintendi)",
          "NIKE/InStock/MLB Houston Astros",
          "NIKE/InStock/NFL Los Angeles Rams Nike Vapor Untouchable (Matthew Stafford)",
          "NIKE/InStock/NFL Miami Dolphins (Mike Gesicki)",
          "NIKE/InStock/NFL Minnesota Vikings Nike Vapor Untouchable (Randy Moss)",
          "NIKE/OutOfStock/New York Knicks",
          "NIKE/InStock/Nike",
          "NIKE/OutOfStock/Nike",
          "NIKE/OutOfStock/Nike 8-Pound ",
          "NIKE/OutOfStock/Nike ACG AW84",
          "NIKE/InStock/Nike Air",
          "NIKE/InStock/Nike Air Deschutz+ SE",
          "NIKE/InStock/Nike Air Force 1 '07 LV8",
          "NIKE/InStock/Nike Air Force 1 LV8 Utility",
          "NIKE/InStock/Nike Air Max 90 SE",
          "NIKE/InStock/Nike Air Pegasus 83 Premium",
          "NIKE/InStock/Nike Brasilia",
          "NIKE/InStock/Nike City Connect Wordmark (MLB Kansas City Royals)",
          "NIKE/InStock/Nike College (Alabama)",
          "NIKE/InStock/Nike College (Georgia)",
          "NIKE/InStock/Nike College (Oregon)",
          "NIKE/InStock/Nike College (Tennessee)",
          "NIKE/InStock/Nike College Dri-FIT (Michigan State)",
          "NIKE/InStock/Nike College Dri-FIT (UCLA)",
          "NIKE/OutOfStock/Nike College Dri-FIT Coach (Duke)",
          "NIKE/OutOfStock/Nike College Heritage86 (Texas)",
          "NIKE/OutOfStock/Nike College Legacy91 (UNC)",
          "NIKE/InStock/Nike College Max 90 (Gonzaga)",
          "NIKE/OutOfStock/Nike College Therma (Michigan State)",
          "NIKE/InStock/Nike Court Naomi Osaka Collection",
          "NIKE/InStock/Nike Dri-FIT",
          "NIKE/OutOfStock/Nike Dri-FIT",
          "NIKE/InStock/Nike Dri-FIT (NFL Los Angeles Chargers)",
          "NIKE/InStock/Nike Dri-FIT (NFL San Francisco 49ers)",
          "NIKE/InStock/Nike Dri-FIT Athletic Arch Jersey (NFL Pittsburgh Steelers)",
          "NIKE/InStock/Nike Dri-FIT City Connect Striped (MLB San Francisco Giants)",
          "NIKE/0/Nike Dri-FIT Crucial Catch (NFL Buffalo Bills)",
          "NIKE/InStock/Nike Dri-FIT Crucial Catch (NFL Tampa Bay Buccaneers)",
          "NIKE/OutOfStock/Nike Dri-FIT Infograph (NFL Buffalo Bills)",
          "NIKE/OutOfStock/Nike Dri-FIT One Luxe",
          "NIKE/InStock/Nike Dri-FIT Performance Select",
          "NIKE/OutOfStock/Nike Dri-FIT Player",
          "NIKE/OutOfStock/Nike Dri-FIT Primetime Logo (MLB San Francisco Giants)",
          "NIKE/InStock/Nike Dri-FIT Sideline Velocity Lockup (NFL Buffalo Bills)",
          "NIKE/OutOfStock/Nike Dri-FIT Sideline Velocity Lockup (NFL Green Bay Packers)",
          "NIKE/InStock/Nike Dri-FIT Stretch (NFL Chicago Bears)",
          "NIKE/OutOfStock/Nike Dri-FIT Swoosh",
          "NIKE/InStock/Nike Dri-FIT Team (MLB Minnesota Twins)",
          "NIKE/InStock/Nike Dri-FIT Vapor",
          "NIKE/InStock/Nike Essential",
          "NIKE/InStock/Nike Fury",
          "NIKE/OutOfStock/Nike Heritage86 (MLB Yankees)",
          "NIKE/OutOfStock/Nike Myriad",
          "NIKE/InStock/Nike Offline Pack",
          "NIKE/InStock/Nike Overview (MLB Philadelphia Phillies)",
          "NIKE/OutOfStock/Nike Pro",
          "NIKE/InStock/Nike Rewind Playback Helmet (NFL Tennessee Titans)",
          "NIKE/InStock/Nike SFB Gen 2 8”",
          "NIKE/InStock/Nike Sportswear",
          "NIKE/OutOfStock/Nike Sportswear",
          "NIKE/InStock/Nike Sportswear Club",
          "NIKE/OutOfStock/Nike Sportswear Swoosh",
          "NIKE/OutOfStock/Nike Sportswear Tech Fleece",
          "NIKE/InStock/Nike Team (NFL Buffalo Bills)",
          "NIKE/OutOfStock/Nike Team First (MLB Houston Astros)",
          "NIKE/InStock/Nike Therma City Connect (MLB Boston Red Sox)",
          "NIKE/InStock/Nike Therma Crucial Catch (NFL Atlanta Falcons)",
          "NIKE/InStock/Nike Therma Crucial Catch (NFL Miami Dolphins)",
          "NIKE/InStock/Nike Therma Lockup (NFL Kansas City Chiefs)",
          "NIKE/InStock/Nike Zoned Support",
          "NIKE/InStock/Paris Saint-Germain 2022/23 Stadium Home",
          "NIKE/InStock/Paris Saint-Germain Repel Academy AWF",
          "NIKE/InStock/Paris Saint-Germain Strike",
          "NIKE/OutOfStock/Paris-Saint Germain 2021/22 Stadium Third",
          "NIKE/InStock/Philadelphia 76ers",
          "NIKE/0/Portugal 2022/23 Stadium Home",
          "NIKE/InStock/Sacramento Kings Icon Edition",
          "NIKE/InStock/Sylvia Fowles Lynx Explorer Edition",
          "NIKE/InStock/Team 31",
          "NIKE/0/U.S. Academy Pro",
          "NIKE/InStock/Zion 2",
          "NIKE/0",
          "NIKE/InStock",
          "NIKE/OutOfStock",
          "NIKE"
         ],
         "labels": [
          "Air Jordan 1 Low SE",
          "Air Jordan 1 Zoom CMFT",
          "Air Jordan Legacy 312 Low",
          "Air Jordan XXXV Low DS PF",
          "Air Jordan XXXVI Low Luka PF",
          "Charlotte Hornets",
          "Chelsea FC Repel Academy AWF",
          "Chelsea FC Strike",
          "Club América",
          "Club América",
          "Croatia 2022/23 Stadium Away",
          "Denver Nuggets Nike x Filip Pagowski",
          "Heat Heritage86",
          "Hurley Palmdale",
          "Jordan",
          "Jordan",
          "Jordan France",
          "Kristaps Porziņģis Knicks Icon Edition",
          "MLB Arizona Diamondbacks City Connect",
          "MLB Boston Red Sox",
          "MLB Boston Red Sox (Andrew Benintendi)",
          "MLB Houston Astros",
          "NFL Los Angeles Rams Nike Vapor Untouchable (Matthew Stafford)",
          "NFL Miami Dolphins (Mike Gesicki)",
          "NFL Minnesota Vikings Nike Vapor Untouchable (Randy Moss)",
          "New York Knicks",
          "Nike",
          "Nike",
          "Nike 8-Pound ",
          "Nike ACG AW84",
          "Nike Air",
          "Nike Air Deschutz+ SE",
          "Nike Air Force 1 '07 LV8",
          "Nike Air Force 1 LV8 Utility",
          "Nike Air Max 90 SE",
          "Nike Air Pegasus 83 Premium",
          "Nike Brasilia",
          "Nike City Connect Wordmark (MLB Kansas City Royals)",
          "Nike College (Alabama)",
          "Nike College (Georgia)",
          "Nike College (Oregon)",
          "Nike College (Tennessee)",
          "Nike College Dri-FIT (Michigan State)",
          "Nike College Dri-FIT (UCLA)",
          "Nike College Dri-FIT Coach (Duke)",
          "Nike College Heritage86 (Texas)",
          "Nike College Legacy91 (UNC)",
          "Nike College Max 90 (Gonzaga)",
          "Nike College Therma (Michigan State)",
          "Nike Court Naomi Osaka Collection",
          "Nike Dri-FIT",
          "Nike Dri-FIT",
          "Nike Dri-FIT (NFL Los Angeles Chargers)",
          "Nike Dri-FIT (NFL San Francisco 49ers)",
          "Nike Dri-FIT Athletic Arch Jersey (NFL Pittsburgh Steelers)",
          "Nike Dri-FIT City Connect Striped (MLB San Francisco Giants)",
          "Nike Dri-FIT Crucial Catch (NFL Buffalo Bills)",
          "Nike Dri-FIT Crucial Catch (NFL Tampa Bay Buccaneers)",
          "Nike Dri-FIT Infograph (NFL Buffalo Bills)",
          "Nike Dri-FIT One Luxe",
          "Nike Dri-FIT Performance Select",
          "Nike Dri-FIT Player",
          "Nike Dri-FIT Primetime Logo (MLB San Francisco Giants)",
          "Nike Dri-FIT Sideline Velocity Lockup (NFL Buffalo Bills)",
          "Nike Dri-FIT Sideline Velocity Lockup (NFL Green Bay Packers)",
          "Nike Dri-FIT Stretch (NFL Chicago Bears)",
          "Nike Dri-FIT Swoosh",
          "Nike Dri-FIT Team (MLB Minnesota Twins)",
          "Nike Dri-FIT Vapor",
          "Nike Essential",
          "Nike Fury",
          "Nike Heritage86 (MLB Yankees)",
          "Nike Myriad",
          "Nike Offline Pack",
          "Nike Overview (MLB Philadelphia Phillies)",
          "Nike Pro",
          "Nike Rewind Playback Helmet (NFL Tennessee Titans)",
          "Nike SFB Gen 2 8”",
          "Nike Sportswear",
          "Nike Sportswear",
          "Nike Sportswear Club",
          "Nike Sportswear Swoosh",
          "Nike Sportswear Tech Fleece",
          "Nike Team (NFL Buffalo Bills)",
          "Nike Team First (MLB Houston Astros)",
          "Nike Therma City Connect (MLB Boston Red Sox)",
          "Nike Therma Crucial Catch (NFL Atlanta Falcons)",
          "Nike Therma Crucial Catch (NFL Miami Dolphins)",
          "Nike Therma Lockup (NFL Kansas City Chiefs)",
          "Nike Zoned Support",
          "Paris Saint-Germain 2022/23 Stadium Home",
          "Paris Saint-Germain Repel Academy AWF",
          "Paris Saint-Germain Strike",
          "Paris-Saint Germain 2021/22 Stadium Third",
          "Philadelphia 76ers",
          "Portugal 2022/23 Stadium Home",
          "Sacramento Kings Icon Edition",
          "Sylvia Fowles Lynx Explorer Edition",
          "Team 31",
          "U.S. Academy Pro",
          "Zion 2",
          "0",
          "InStock",
          "OutOfStock",
          "NIKE"
         ],
         "name": "",
         "parents": [
          "NIKE/InStock",
          "NIKE/InStock",
          "NIKE/OutOfStock",
          "NIKE/InStock",
          "NIKE/InStock",
          "NIKE/InStock",
          "NIKE/InStock",
          "NIKE/InStock",
          "NIKE/InStock",
          "NIKE/OutOfStock",
          "NIKE/0",
          "NIKE/OutOfStock",
          "NIKE/OutOfStock",
          "NIKE/OutOfStock",
          "NIKE/InStock",
          "NIKE/OutOfStock",
          "NIKE/OutOfStock",
          "NIKE/OutOfStock",
          "NIKE/OutOfStock",
          "NIKE/OutOfStock",
          "NIKE/OutOfStock",
          "NIKE/InStock",
          "NIKE/InStock",
          "NIKE/InStock",
          "NIKE/InStock",
          "NIKE/OutOfStock",
          "NIKE/InStock",
          "NIKE/OutOfStock",
          "NIKE/OutOfStock",
          "NIKE/OutOfStock",
          "NIKE/InStock",
          "NIKE/InStock",
          "NIKE/InStock",
          "NIKE/InStock",
          "NIKE/InStock",
          "NIKE/InStock",
          "NIKE/InStock",
          "NIKE/InStock",
          "NIKE/InStock",
          "NIKE/InStock",
          "NIKE/InStock",
          "NIKE/InStock",
          "NIKE/InStock",
          "NIKE/InStock",
          "NIKE/OutOfStock",
          "NIKE/OutOfStock",
          "NIKE/OutOfStock",
          "NIKE/InStock",
          "NIKE/OutOfStock",
          "NIKE/InStock",
          "NIKE/InStock",
          "NIKE/OutOfStock",
          "NIKE/InStock",
          "NIKE/InStock",
          "NIKE/InStock",
          "NIKE/InStock",
          "NIKE/0",
          "NIKE/InStock",
          "NIKE/OutOfStock",
          "NIKE/OutOfStock",
          "NIKE/InStock",
          "NIKE/OutOfStock",
          "NIKE/OutOfStock",
          "NIKE/InStock",
          "NIKE/OutOfStock",
          "NIKE/InStock",
          "NIKE/OutOfStock",
          "NIKE/InStock",
          "NIKE/InStock",
          "NIKE/InStock",
          "NIKE/InStock",
          "NIKE/OutOfStock",
          "NIKE/OutOfStock",
          "NIKE/InStock",
          "NIKE/InStock",
          "NIKE/OutOfStock",
          "NIKE/InStock",
          "NIKE/InStock",
          "NIKE/InStock",
          "NIKE/OutOfStock",
          "NIKE/InStock",
          "NIKE/OutOfStock",
          "NIKE/OutOfStock",
          "NIKE/InStock",
          "NIKE/OutOfStock",
          "NIKE/InStock",
          "NIKE/InStock",
          "NIKE/InStock",
          "NIKE/InStock",
          "NIKE/InStock",
          "NIKE/InStock",
          "NIKE/InStock",
          "NIKE/InStock",
          "NIKE/OutOfStock",
          "NIKE/InStock",
          "NIKE/0",
          "NIKE/InStock",
          "NIKE/InStock",
          "NIKE/InStock",
          "NIKE/0",
          "NIKE/InStock",
          "NIKE",
          "NIKE",
          "NIKE",
          ""
         ],
         "type": "treemap",
         "values": [
          0.0,
          120.0,
          5.0,
          0.0,
          0.0,
          0.0,
          0.0,
          0.0,
          1.0,
          0.0,
          0.0,
          1.0,
          0.0,
          0.0,
          0.0,
          0.0,
          0.0,
          3.0,
          0.0,
          0.0,
          0.0,
          5.0,
          0.0,
          0.0,
          0.0,
          0.0,
          15.0,
          1.0,
          1.0,
          1.0,
          0.0,
          0.0,
          0.0,
          0.0,
          31.0,
          0.0,
          0.0,
          0.0,
          0.0,
          0.0,
          0.0,
          0.0,
          0.0,
          0.0,
          0.0,
          0.0,
          0.0,
          0.0,
          0.0,
          0.0,
          0.0,
          7.0,
          0.0,
          0.0,
          0.0,
          0.0,
          0.0,
          0.0,
          0.0,
          0.0,
          0.0,
          0.0,
          0.0,
          0.0,
          0.0,
          0.0,
          0.0,
          0.0,
          0.0,
          316.0,
          0.0,
          0.0,
          1.0,
          5.0,
          0.0,
          152.0,
          0.0,
          28.0,
          1.0,
          3.0,
          0.0,
          11.0,
          0.0,
          0.0,
          0.0,
          0.0,
          0.0,
          0.0,
          0.0,
          11.0,
          0.0,
          0.0,
          0.0,
          0.0,
          0.0,
          0.0,
          0.0,
          0.0,
          0.0,
          0.0,
          3.0,
          0.0,
          536.0,
          186.0,
          722.0
         ]
        }
       ],
       "layout": {
        "legend": {
         "tracegroupgap": 0
        },
        "margin": {
         "t": 60
        },
        "template": {
         "data": {
          "bar": [
           {
            "error_x": {
             "color": "#2a3f5f"
            },
            "error_y": {
             "color": "#2a3f5f"
            },
            "marker": {
             "line": {
              "color": "#E5ECF6",
              "width": 0.5
             },
             "pattern": {
              "fillmode": "overlay",
              "size": 10,
              "solidity": 0.2
             }
            },
            "type": "bar"
           }
          ],
          "barpolar": [
           {
            "marker": {
             "line": {
              "color": "#E5ECF6",
              "width": 0.5
             },
             "pattern": {
              "fillmode": "overlay",
              "size": 10,
              "solidity": 0.2
             }
            },
            "type": "barpolar"
           }
          ],
          "carpet": [
           {
            "aaxis": {
             "endlinecolor": "#2a3f5f",
             "gridcolor": "white",
             "linecolor": "white",
             "minorgridcolor": "white",
             "startlinecolor": "#2a3f5f"
            },
            "baxis": {
             "endlinecolor": "#2a3f5f",
             "gridcolor": "white",
             "linecolor": "white",
             "minorgridcolor": "white",
             "startlinecolor": "#2a3f5f"
            },
            "type": "carpet"
           }
          ],
          "choropleth": [
           {
            "colorbar": {
             "outlinewidth": 0,
             "ticks": ""
            },
            "type": "choropleth"
           }
          ],
          "contour": [
           {
            "colorbar": {
             "outlinewidth": 0,
             "ticks": ""
            },
            "colorscale": [
             [
              0.0,
              "#0d0887"
             ],
             [
              0.1111111111111111,
              "#46039f"
             ],
             [
              0.2222222222222222,
              "#7201a8"
             ],
             [
              0.3333333333333333,
              "#9c179e"
             ],
             [
              0.4444444444444444,
              "#bd3786"
             ],
             [
              0.5555555555555556,
              "#d8576b"
             ],
             [
              0.6666666666666666,
              "#ed7953"
             ],
             [
              0.7777777777777778,
              "#fb9f3a"
             ],
             [
              0.8888888888888888,
              "#fdca26"
             ],
             [
              1.0,
              "#f0f921"
             ]
            ],
            "type": "contour"
           }
          ],
          "contourcarpet": [
           {
            "colorbar": {
             "outlinewidth": 0,
             "ticks": ""
            },
            "type": "contourcarpet"
           }
          ],
          "heatmap": [
           {
            "colorbar": {
             "outlinewidth": 0,
             "ticks": ""
            },
            "colorscale": [
             [
              0.0,
              "#0d0887"
             ],
             [
              0.1111111111111111,
              "#46039f"
             ],
             [
              0.2222222222222222,
              "#7201a8"
             ],
             [
              0.3333333333333333,
              "#9c179e"
             ],
             [
              0.4444444444444444,
              "#bd3786"
             ],
             [
              0.5555555555555556,
              "#d8576b"
             ],
             [
              0.6666666666666666,
              "#ed7953"
             ],
             [
              0.7777777777777778,
              "#fb9f3a"
             ],
             [
              0.8888888888888888,
              "#fdca26"
             ],
             [
              1.0,
              "#f0f921"
             ]
            ],
            "type": "heatmap"
           }
          ],
          "heatmapgl": [
           {
            "colorbar": {
             "outlinewidth": 0,
             "ticks": ""
            },
            "colorscale": [
             [
              0.0,
              "#0d0887"
             ],
             [
              0.1111111111111111,
              "#46039f"
             ],
             [
              0.2222222222222222,
              "#7201a8"
             ],
             [
              0.3333333333333333,
              "#9c179e"
             ],
             [
              0.4444444444444444,
              "#bd3786"
             ],
             [
              0.5555555555555556,
              "#d8576b"
             ],
             [
              0.6666666666666666,
              "#ed7953"
             ],
             [
              0.7777777777777778,
              "#fb9f3a"
             ],
             [
              0.8888888888888888,
              "#fdca26"
             ],
             [
              1.0,
              "#f0f921"
             ]
            ],
            "type": "heatmapgl"
           }
          ],
          "histogram": [
           {
            "marker": {
             "pattern": {
              "fillmode": "overlay",
              "size": 10,
              "solidity": 0.2
             }
            },
            "type": "histogram"
           }
          ],
          "histogram2d": [
           {
            "colorbar": {
             "outlinewidth": 0,
             "ticks": ""
            },
            "colorscale": [
             [
              0.0,
              "#0d0887"
             ],
             [
              0.1111111111111111,
              "#46039f"
             ],
             [
              0.2222222222222222,
              "#7201a8"
             ],
             [
              0.3333333333333333,
              "#9c179e"
             ],
             [
              0.4444444444444444,
              "#bd3786"
             ],
             [
              0.5555555555555556,
              "#d8576b"
             ],
             [
              0.6666666666666666,
              "#ed7953"
             ],
             [
              0.7777777777777778,
              "#fb9f3a"
             ],
             [
              0.8888888888888888,
              "#fdca26"
             ],
             [
              1.0,
              "#f0f921"
             ]
            ],
            "type": "histogram2d"
           }
          ],
          "histogram2dcontour": [
           {
            "colorbar": {
             "outlinewidth": 0,
             "ticks": ""
            },
            "colorscale": [
             [
              0.0,
              "#0d0887"
             ],
             [
              0.1111111111111111,
              "#46039f"
             ],
             [
              0.2222222222222222,
              "#7201a8"
             ],
             [
              0.3333333333333333,
              "#9c179e"
             ],
             [
              0.4444444444444444,
              "#bd3786"
             ],
             [
              0.5555555555555556,
              "#d8576b"
             ],
             [
              0.6666666666666666,
              "#ed7953"
             ],
             [
              0.7777777777777778,
              "#fb9f3a"
             ],
             [
              0.8888888888888888,
              "#fdca26"
             ],
             [
              1.0,
              "#f0f921"
             ]
            ],
            "type": "histogram2dcontour"
           }
          ],
          "mesh3d": [
           {
            "colorbar": {
             "outlinewidth": 0,
             "ticks": ""
            },
            "type": "mesh3d"
           }
          ],
          "parcoords": [
           {
            "line": {
             "colorbar": {
              "outlinewidth": 0,
              "ticks": ""
             }
            },
            "type": "parcoords"
           }
          ],
          "pie": [
           {
            "automargin": true,
            "type": "pie"
           }
          ],
          "scatter": [
           {
            "fillpattern": {
             "fillmode": "overlay",
             "size": 10,
             "solidity": 0.2
            },
            "type": "scatter"
           }
          ],
          "scatter3d": [
           {
            "line": {
             "colorbar": {
              "outlinewidth": 0,
              "ticks": ""
             }
            },
            "marker": {
             "colorbar": {
              "outlinewidth": 0,
              "ticks": ""
             }
            },
            "type": "scatter3d"
           }
          ],
          "scattercarpet": [
           {
            "marker": {
             "colorbar": {
              "outlinewidth": 0,
              "ticks": ""
             }
            },
            "type": "scattercarpet"
           }
          ],
          "scattergeo": [
           {
            "marker": {
             "colorbar": {
              "outlinewidth": 0,
              "ticks": ""
             }
            },
            "type": "scattergeo"
           }
          ],
          "scattergl": [
           {
            "marker": {
             "colorbar": {
              "outlinewidth": 0,
              "ticks": ""
             }
            },
            "type": "scattergl"
           }
          ],
          "scattermapbox": [
           {
            "marker": {
             "colorbar": {
              "outlinewidth": 0,
              "ticks": ""
             }
            },
            "type": "scattermapbox"
           }
          ],
          "scatterpolar": [
           {
            "marker": {
             "colorbar": {
              "outlinewidth": 0,
              "ticks": ""
             }
            },
            "type": "scatterpolar"
           }
          ],
          "scatterpolargl": [
           {
            "marker": {
             "colorbar": {
              "outlinewidth": 0,
              "ticks": ""
             }
            },
            "type": "scatterpolargl"
           }
          ],
          "scatterternary": [
           {
            "marker": {
             "colorbar": {
              "outlinewidth": 0,
              "ticks": ""
             }
            },
            "type": "scatterternary"
           }
          ],
          "surface": [
           {
            "colorbar": {
             "outlinewidth": 0,
             "ticks": ""
            },
            "colorscale": [
             [
              0.0,
              "#0d0887"
             ],
             [
              0.1111111111111111,
              "#46039f"
             ],
             [
              0.2222222222222222,
              "#7201a8"
             ],
             [
              0.3333333333333333,
              "#9c179e"
             ],
             [
              0.4444444444444444,
              "#bd3786"
             ],
             [
              0.5555555555555556,
              "#d8576b"
             ],
             [
              0.6666666666666666,
              "#ed7953"
             ],
             [
              0.7777777777777778,
              "#fb9f3a"
             ],
             [
              0.8888888888888888,
              "#fdca26"
             ],
             [
              1.0,
              "#f0f921"
             ]
            ],
            "type": "surface"
           }
          ],
          "table": [
           {
            "cells": {
             "fill": {
              "color": "#EBF0F8"
             },
             "line": {
              "color": "white"
             }
            },
            "header": {
             "fill": {
              "color": "#C8D4E3"
             },
             "line": {
              "color": "white"
             }
            },
            "type": "table"
           }
          ]
         },
         "layout": {
          "annotationdefaults": {
           "arrowcolor": "#2a3f5f",
           "arrowhead": 0,
           "arrowwidth": 1
          },
          "autotypenumbers": "strict",
          "coloraxis": {
           "colorbar": {
            "outlinewidth": 0,
            "ticks": ""
           }
          },
          "colorscale": {
           "diverging": [
            [
             0,
             "#8e0152"
            ],
            [
             0.1,
             "#c51b7d"
            ],
            [
             0.2,
             "#de77ae"
            ],
            [
             0.3,
             "#f1b6da"
            ],
            [
             0.4,
             "#fde0ef"
            ],
            [
             0.5,
             "#f7f7f7"
            ],
            [
             0.6,
             "#e6f5d0"
            ],
            [
             0.7,
             "#b8e186"
            ],
            [
             0.8,
             "#7fbc41"
            ],
            [
             0.9,
             "#4d9221"
            ],
            [
             1,
             "#276419"
            ]
           ],
           "sequential": [
            [
             0.0,
             "#0d0887"
            ],
            [
             0.1111111111111111,
             "#46039f"
            ],
            [
             0.2222222222222222,
             "#7201a8"
            ],
            [
             0.3333333333333333,
             "#9c179e"
            ],
            [
             0.4444444444444444,
             "#bd3786"
            ],
            [
             0.5555555555555556,
             "#d8576b"
            ],
            [
             0.6666666666666666,
             "#ed7953"
            ],
            [
             0.7777777777777778,
             "#fb9f3a"
            ],
            [
             0.8888888888888888,
             "#fdca26"
            ],
            [
             1.0,
             "#f0f921"
            ]
           ],
           "sequentialminus": [
            [
             0.0,
             "#0d0887"
            ],
            [
             0.1111111111111111,
             "#46039f"
            ],
            [
             0.2222222222222222,
             "#7201a8"
            ],
            [
             0.3333333333333333,
             "#9c179e"
            ],
            [
             0.4444444444444444,
             "#bd3786"
            ],
            [
             0.5555555555555556,
             "#d8576b"
            ],
            [
             0.6666666666666666,
             "#ed7953"
            ],
            [
             0.7777777777777778,
             "#fb9f3a"
            ],
            [
             0.8888888888888888,
             "#fdca26"
            ],
            [
             1.0,
             "#f0f921"
            ]
           ]
          },
          "colorway": [
           "#636efa",
           "#EF553B",
           "#00cc96",
           "#ab63fa",
           "#FFA15A",
           "#19d3f3",
           "#FF6692",
           "#B6E880",
           "#FF97FF",
           "#FECB52"
          ],
          "font": {
           "color": "#2a3f5f"
          },
          "geo": {
           "bgcolor": "white",
           "lakecolor": "white",
           "landcolor": "#E5ECF6",
           "showlakes": true,
           "showland": true,
           "subunitcolor": "white"
          },
          "hoverlabel": {
           "align": "left"
          },
          "hovermode": "closest",
          "mapbox": {
           "style": "light"
          },
          "paper_bgcolor": "white",
          "plot_bgcolor": "#E5ECF6",
          "polar": {
           "angularaxis": {
            "gridcolor": "white",
            "linecolor": "white",
            "ticks": ""
           },
           "bgcolor": "#E5ECF6",
           "radialaxis": {
            "gridcolor": "white",
            "linecolor": "white",
            "ticks": ""
           }
          },
          "scene": {
           "xaxis": {
            "backgroundcolor": "#E5ECF6",
            "gridcolor": "white",
            "gridwidth": 2,
            "linecolor": "white",
            "showbackground": true,
            "ticks": "",
            "zerolinecolor": "white"
           },
           "yaxis": {
            "backgroundcolor": "#E5ECF6",
            "gridcolor": "white",
            "gridwidth": 2,
            "linecolor": "white",
            "showbackground": true,
            "ticks": "",
            "zerolinecolor": "white"
           },
           "zaxis": {
            "backgroundcolor": "#E5ECF6",
            "gridcolor": "white",
            "gridwidth": 2,
            "linecolor": "white",
            "showbackground": true,
            "ticks": "",
            "zerolinecolor": "white"
           }
          },
          "shapedefaults": {
           "line": {
            "color": "#2a3f5f"
           }
          },
          "ternary": {
           "aaxis": {
            "gridcolor": "white",
            "linecolor": "white",
            "ticks": ""
           },
           "baxis": {
            "gridcolor": "white",
            "linecolor": "white",
            "ticks": ""
           },
           "bgcolor": "#E5ECF6",
           "caxis": {
            "gridcolor": "white",
            "linecolor": "white",
            "ticks": ""
           }
          },
          "title": {
           "x": 0.05
          },
          "xaxis": {
           "automargin": true,
           "gridcolor": "white",
           "linecolor": "white",
           "ticks": "",
           "title": {
            "standoff": 15
           },
           "zerolinecolor": "white",
           "zerolinewidth": 2
          },
          "yaxis": {
           "automargin": true,
           "gridcolor": "white",
           "linecolor": "white",
           "ticks": "",
           "title": {
            "standoff": 15
           },
           "zerolinecolor": "white",
           "zerolinewidth": 2
          }
         }
        }
       }
      },
      "text/html": [
       "<div>                            <div id=\"585c8f9f-b84f-4c83-9b90-a004aedead20\" class=\"plotly-graph-div\" style=\"height:525px; width:100%;\"></div>            <script type=\"text/javascript\">                require([\"plotly\"], function(Plotly) {                    window.PLOTLYENV=window.PLOTLYENV || {};                                    if (document.getElementById(\"585c8f9f-b84f-4c83-9b90-a004aedead20\")) {                    Plotly.newPlot(                        \"585c8f9f-b84f-4c83-9b90-a004aedead20\",                        [{\"branchvalues\":\"total\",\"domain\":{\"x\":[0.0,1.0],\"y\":[0.0,1.0]},\"hovertemplate\":\"labels=%{label}<br>review_count=%{value}<br>parent=%{parent}<br>id=%{id}<extra></extra>\",\"ids\":[\"NIKE/InStock/Air Jordan 1 Low SE\",\"NIKE/InStock/Air Jordan 1 Zoom CMFT\",\"NIKE/OutOfStock/Air Jordan Legacy 312 Low\",\"NIKE/InStock/Air Jordan XXXV Low DS PF\",\"NIKE/InStock/Air Jordan XXXVI Low Luka PF\",\"NIKE/InStock/Charlotte Hornets\",\"NIKE/InStock/Chelsea FC Repel Academy AWF\",\"NIKE/InStock/Chelsea FC Strike\",\"NIKE/InStock/Club América\",\"NIKE/OutOfStock/Club América\",\"NIKE/0/Croatia 2022/23 Stadium Away\",\"NIKE/OutOfStock/Denver Nuggets Nike x Filip Pagowski\",\"NIKE/OutOfStock/Heat Heritage86\",\"NIKE/OutOfStock/Hurley Palmdale\",\"NIKE/InStock/Jordan\",\"NIKE/OutOfStock/Jordan\",\"NIKE/OutOfStock/Jordan France\",\"NIKE/OutOfStock/Kristaps Porziņģis Knicks Icon Edition\",\"NIKE/OutOfStock/MLB Arizona Diamondbacks City Connect\",\"NIKE/OutOfStock/MLB Boston Red Sox\",\"NIKE/OutOfStock/MLB Boston Red Sox (Andrew Benintendi)\",\"NIKE/InStock/MLB Houston Astros\",\"NIKE/InStock/NFL Los Angeles Rams Nike Vapor Untouchable (Matthew Stafford)\",\"NIKE/InStock/NFL Miami Dolphins (Mike Gesicki)\",\"NIKE/InStock/NFL Minnesota Vikings Nike Vapor Untouchable (Randy Moss)\",\"NIKE/OutOfStock/New York Knicks\",\"NIKE/InStock/Nike\",\"NIKE/OutOfStock/Nike\",\"NIKE/OutOfStock/Nike 8-Pound \",\"NIKE/OutOfStock/Nike ACG AW84\",\"NIKE/InStock/Nike Air\",\"NIKE/InStock/Nike Air Deschutz+ SE\",\"NIKE/InStock/Nike Air Force 1 '07 LV8\",\"NIKE/InStock/Nike Air Force 1 LV8 Utility\",\"NIKE/InStock/Nike Air Max 90 SE\",\"NIKE/InStock/Nike Air Pegasus 83 Premium\",\"NIKE/InStock/Nike Brasilia\",\"NIKE/InStock/Nike City Connect Wordmark (MLB Kansas City Royals)\",\"NIKE/InStock/Nike College (Alabama)\",\"NIKE/InStock/Nike College (Georgia)\",\"NIKE/InStock/Nike College (Oregon)\",\"NIKE/InStock/Nike College (Tennessee)\",\"NIKE/InStock/Nike College Dri-FIT (Michigan State)\",\"NIKE/InStock/Nike College Dri-FIT (UCLA)\",\"NIKE/OutOfStock/Nike College Dri-FIT Coach (Duke)\",\"NIKE/OutOfStock/Nike College Heritage86 (Texas)\",\"NIKE/OutOfStock/Nike College Legacy91 (UNC)\",\"NIKE/InStock/Nike College Max 90 (Gonzaga)\",\"NIKE/OutOfStock/Nike College Therma (Michigan State)\",\"NIKE/InStock/Nike Court Naomi Osaka Collection\",\"NIKE/InStock/Nike Dri-FIT\",\"NIKE/OutOfStock/Nike Dri-FIT\",\"NIKE/InStock/Nike Dri-FIT (NFL Los Angeles Chargers)\",\"NIKE/InStock/Nike Dri-FIT (NFL San Francisco 49ers)\",\"NIKE/InStock/Nike Dri-FIT Athletic Arch Jersey (NFL Pittsburgh Steelers)\",\"NIKE/InStock/Nike Dri-FIT City Connect Striped (MLB San Francisco Giants)\",\"NIKE/0/Nike Dri-FIT Crucial Catch (NFL Buffalo Bills)\",\"NIKE/InStock/Nike Dri-FIT Crucial Catch (NFL Tampa Bay Buccaneers)\",\"NIKE/OutOfStock/Nike Dri-FIT Infograph (NFL Buffalo Bills)\",\"NIKE/OutOfStock/Nike Dri-FIT One Luxe\",\"NIKE/InStock/Nike Dri-FIT Performance Select\",\"NIKE/OutOfStock/Nike Dri-FIT Player\",\"NIKE/OutOfStock/Nike Dri-FIT Primetime Logo (MLB San Francisco Giants)\",\"NIKE/InStock/Nike Dri-FIT Sideline Velocity Lockup (NFL Buffalo Bills)\",\"NIKE/OutOfStock/Nike Dri-FIT Sideline Velocity Lockup (NFL Green Bay Packers)\",\"NIKE/InStock/Nike Dri-FIT Stretch (NFL Chicago Bears)\",\"NIKE/OutOfStock/Nike Dri-FIT Swoosh\",\"NIKE/InStock/Nike Dri-FIT Team (MLB Minnesota Twins)\",\"NIKE/InStock/Nike Dri-FIT Vapor\",\"NIKE/InStock/Nike Essential\",\"NIKE/InStock/Nike Fury\",\"NIKE/OutOfStock/Nike Heritage86 (MLB Yankees)\",\"NIKE/OutOfStock/Nike Myriad\",\"NIKE/InStock/Nike Offline Pack\",\"NIKE/InStock/Nike Overview (MLB Philadelphia Phillies)\",\"NIKE/OutOfStock/Nike Pro\",\"NIKE/InStock/Nike Rewind Playback Helmet (NFL Tennessee Titans)\",\"NIKE/InStock/Nike SFB Gen 2 8”\",\"NIKE/InStock/Nike Sportswear\",\"NIKE/OutOfStock/Nike Sportswear\",\"NIKE/InStock/Nike Sportswear Club\",\"NIKE/OutOfStock/Nike Sportswear Swoosh\",\"NIKE/OutOfStock/Nike Sportswear Tech Fleece\",\"NIKE/InStock/Nike Team (NFL Buffalo Bills)\",\"NIKE/OutOfStock/Nike Team First (MLB Houston Astros)\",\"NIKE/InStock/Nike Therma City Connect (MLB Boston Red Sox)\",\"NIKE/InStock/Nike Therma Crucial Catch (NFL Atlanta Falcons)\",\"NIKE/InStock/Nike Therma Crucial Catch (NFL Miami Dolphins)\",\"NIKE/InStock/Nike Therma Lockup (NFL Kansas City Chiefs)\",\"NIKE/InStock/Nike Zoned Support\",\"NIKE/InStock/Paris Saint-Germain 2022/23 Stadium Home\",\"NIKE/InStock/Paris Saint-Germain Repel Academy AWF\",\"NIKE/InStock/Paris Saint-Germain Strike\",\"NIKE/OutOfStock/Paris-Saint Germain 2021/22 Stadium Third\",\"NIKE/InStock/Philadelphia 76ers\",\"NIKE/0/Portugal 2022/23 Stadium Home\",\"NIKE/InStock/Sacramento Kings Icon Edition\",\"NIKE/InStock/Sylvia Fowles Lynx Explorer Edition\",\"NIKE/InStock/Team 31\",\"NIKE/0/U.S. Academy Pro\",\"NIKE/InStock/Zion 2\",\"NIKE/0\",\"NIKE/InStock\",\"NIKE/OutOfStock\",\"NIKE\"],\"labels\":[\"Air Jordan 1 Low SE\",\"Air Jordan 1 Zoom CMFT\",\"Air Jordan Legacy 312 Low\",\"Air Jordan XXXV Low DS PF\",\"Air Jordan XXXVI Low Luka PF\",\"Charlotte Hornets\",\"Chelsea FC Repel Academy AWF\",\"Chelsea FC Strike\",\"Club América\",\"Club América\",\"Croatia 2022/23 Stadium Away\",\"Denver Nuggets Nike x Filip Pagowski\",\"Heat Heritage86\",\"Hurley Palmdale\",\"Jordan\",\"Jordan\",\"Jordan France\",\"Kristaps Porziņģis Knicks Icon Edition\",\"MLB Arizona Diamondbacks City Connect\",\"MLB Boston Red Sox\",\"MLB Boston Red Sox (Andrew Benintendi)\",\"MLB Houston Astros\",\"NFL Los Angeles Rams Nike Vapor Untouchable (Matthew Stafford)\",\"NFL Miami Dolphins (Mike Gesicki)\",\"NFL Minnesota Vikings Nike Vapor Untouchable (Randy Moss)\",\"New York Knicks\",\"Nike\",\"Nike\",\"Nike 8-Pound \",\"Nike ACG AW84\",\"Nike Air\",\"Nike Air Deschutz+ SE\",\"Nike Air Force 1 '07 LV8\",\"Nike Air Force 1 LV8 Utility\",\"Nike Air Max 90 SE\",\"Nike Air Pegasus 83 Premium\",\"Nike Brasilia\",\"Nike City Connect Wordmark (MLB Kansas City Royals)\",\"Nike College (Alabama)\",\"Nike College (Georgia)\",\"Nike College (Oregon)\",\"Nike College (Tennessee)\",\"Nike College Dri-FIT (Michigan State)\",\"Nike College Dri-FIT (UCLA)\",\"Nike College Dri-FIT Coach (Duke)\",\"Nike College Heritage86 (Texas)\",\"Nike College Legacy91 (UNC)\",\"Nike College Max 90 (Gonzaga)\",\"Nike College Therma (Michigan State)\",\"Nike Court Naomi Osaka Collection\",\"Nike Dri-FIT\",\"Nike Dri-FIT\",\"Nike Dri-FIT (NFL Los Angeles Chargers)\",\"Nike Dri-FIT (NFL San Francisco 49ers)\",\"Nike Dri-FIT Athletic Arch Jersey (NFL Pittsburgh Steelers)\",\"Nike Dri-FIT City Connect Striped (MLB San Francisco Giants)\",\"Nike Dri-FIT Crucial Catch (NFL Buffalo Bills)\",\"Nike Dri-FIT Crucial Catch (NFL Tampa Bay Buccaneers)\",\"Nike Dri-FIT Infograph (NFL Buffalo Bills)\",\"Nike Dri-FIT One Luxe\",\"Nike Dri-FIT Performance Select\",\"Nike Dri-FIT Player\",\"Nike Dri-FIT Primetime Logo (MLB San Francisco Giants)\",\"Nike Dri-FIT Sideline Velocity Lockup (NFL Buffalo Bills)\",\"Nike Dri-FIT Sideline Velocity Lockup (NFL Green Bay Packers)\",\"Nike Dri-FIT Stretch (NFL Chicago Bears)\",\"Nike Dri-FIT Swoosh\",\"Nike Dri-FIT Team (MLB Minnesota Twins)\",\"Nike Dri-FIT Vapor\",\"Nike Essential\",\"Nike Fury\",\"Nike Heritage86 (MLB Yankees)\",\"Nike Myriad\",\"Nike Offline Pack\",\"Nike Overview (MLB Philadelphia Phillies)\",\"Nike Pro\",\"Nike Rewind Playback Helmet (NFL Tennessee Titans)\",\"Nike SFB Gen 2 8”\",\"Nike Sportswear\",\"Nike Sportswear\",\"Nike Sportswear Club\",\"Nike Sportswear Swoosh\",\"Nike Sportswear Tech Fleece\",\"Nike Team (NFL Buffalo Bills)\",\"Nike Team First (MLB Houston Astros)\",\"Nike Therma City Connect (MLB Boston Red Sox)\",\"Nike Therma Crucial Catch (NFL Atlanta Falcons)\",\"Nike Therma Crucial Catch (NFL Miami Dolphins)\",\"Nike Therma Lockup (NFL Kansas City Chiefs)\",\"Nike Zoned Support\",\"Paris Saint-Germain 2022/23 Stadium Home\",\"Paris Saint-Germain Repel Academy AWF\",\"Paris Saint-Germain Strike\",\"Paris-Saint Germain 2021/22 Stadium Third\",\"Philadelphia 76ers\",\"Portugal 2022/23 Stadium Home\",\"Sacramento Kings Icon Edition\",\"Sylvia Fowles Lynx Explorer Edition\",\"Team 31\",\"U.S. Academy Pro\",\"Zion 2\",\"0\",\"InStock\",\"OutOfStock\",\"NIKE\"],\"name\":\"\",\"parents\":[\"NIKE/InStock\",\"NIKE/InStock\",\"NIKE/OutOfStock\",\"NIKE/InStock\",\"NIKE/InStock\",\"NIKE/InStock\",\"NIKE/InStock\",\"NIKE/InStock\",\"NIKE/InStock\",\"NIKE/OutOfStock\",\"NIKE/0\",\"NIKE/OutOfStock\",\"NIKE/OutOfStock\",\"NIKE/OutOfStock\",\"NIKE/InStock\",\"NIKE/OutOfStock\",\"NIKE/OutOfStock\",\"NIKE/OutOfStock\",\"NIKE/OutOfStock\",\"NIKE/OutOfStock\",\"NIKE/OutOfStock\",\"NIKE/InStock\",\"NIKE/InStock\",\"NIKE/InStock\",\"NIKE/InStock\",\"NIKE/OutOfStock\",\"NIKE/InStock\",\"NIKE/OutOfStock\",\"NIKE/OutOfStock\",\"NIKE/OutOfStock\",\"NIKE/InStock\",\"NIKE/InStock\",\"NIKE/InStock\",\"NIKE/InStock\",\"NIKE/InStock\",\"NIKE/InStock\",\"NIKE/InStock\",\"NIKE/InStock\",\"NIKE/InStock\",\"NIKE/InStock\",\"NIKE/InStock\",\"NIKE/InStock\",\"NIKE/InStock\",\"NIKE/InStock\",\"NIKE/OutOfStock\",\"NIKE/OutOfStock\",\"NIKE/OutOfStock\",\"NIKE/InStock\",\"NIKE/OutOfStock\",\"NIKE/InStock\",\"NIKE/InStock\",\"NIKE/OutOfStock\",\"NIKE/InStock\",\"NIKE/InStock\",\"NIKE/InStock\",\"NIKE/InStock\",\"NIKE/0\",\"NIKE/InStock\",\"NIKE/OutOfStock\",\"NIKE/OutOfStock\",\"NIKE/InStock\",\"NIKE/OutOfStock\",\"NIKE/OutOfStock\",\"NIKE/InStock\",\"NIKE/OutOfStock\",\"NIKE/InStock\",\"NIKE/OutOfStock\",\"NIKE/InStock\",\"NIKE/InStock\",\"NIKE/InStock\",\"NIKE/InStock\",\"NIKE/OutOfStock\",\"NIKE/OutOfStock\",\"NIKE/InStock\",\"NIKE/InStock\",\"NIKE/OutOfStock\",\"NIKE/InStock\",\"NIKE/InStock\",\"NIKE/InStock\",\"NIKE/OutOfStock\",\"NIKE/InStock\",\"NIKE/OutOfStock\",\"NIKE/OutOfStock\",\"NIKE/InStock\",\"NIKE/OutOfStock\",\"NIKE/InStock\",\"NIKE/InStock\",\"NIKE/InStock\",\"NIKE/InStock\",\"NIKE/InStock\",\"NIKE/InStock\",\"NIKE/InStock\",\"NIKE/InStock\",\"NIKE/OutOfStock\",\"NIKE/InStock\",\"NIKE/0\",\"NIKE/InStock\",\"NIKE/InStock\",\"NIKE/InStock\",\"NIKE/0\",\"NIKE/InStock\",\"NIKE\",\"NIKE\",\"NIKE\",\"\"],\"values\":[0.0,120.0,5.0,0.0,0.0,0.0,0.0,0.0,1.0,0.0,0.0,1.0,0.0,0.0,0.0,0.0,0.0,3.0,0.0,0.0,0.0,5.0,0.0,0.0,0.0,0.0,15.0,1.0,1.0,1.0,0.0,0.0,0.0,0.0,31.0,0.0,0.0,0.0,0.0,0.0,0.0,0.0,0.0,0.0,0.0,0.0,0.0,0.0,0.0,0.0,0.0,7.0,0.0,0.0,0.0,0.0,0.0,0.0,0.0,0.0,0.0,0.0,0.0,0.0,0.0,0.0,0.0,0.0,0.0,316.0,0.0,0.0,1.0,5.0,0.0,152.0,0.0,28.0,1.0,3.0,0.0,11.0,0.0,0.0,0.0,0.0,0.0,0.0,0.0,11.0,0.0,0.0,0.0,0.0,0.0,0.0,0.0,0.0,0.0,0.0,3.0,0.0,536.0,186.0,722.0],\"type\":\"treemap\"}],                        {\"template\":{\"data\":{\"histogram2dcontour\":[{\"type\":\"histogram2dcontour\",\"colorbar\":{\"outlinewidth\":0,\"ticks\":\"\"},\"colorscale\":[[0.0,\"#0d0887\"],[0.1111111111111111,\"#46039f\"],[0.2222222222222222,\"#7201a8\"],[0.3333333333333333,\"#9c179e\"],[0.4444444444444444,\"#bd3786\"],[0.5555555555555556,\"#d8576b\"],[0.6666666666666666,\"#ed7953\"],[0.7777777777777778,\"#fb9f3a\"],[0.8888888888888888,\"#fdca26\"],[1.0,\"#f0f921\"]]}],\"choropleth\":[{\"type\":\"choropleth\",\"colorbar\":{\"outlinewidth\":0,\"ticks\":\"\"}}],\"histogram2d\":[{\"type\":\"histogram2d\",\"colorbar\":{\"outlinewidth\":0,\"ticks\":\"\"},\"colorscale\":[[0.0,\"#0d0887\"],[0.1111111111111111,\"#46039f\"],[0.2222222222222222,\"#7201a8\"],[0.3333333333333333,\"#9c179e\"],[0.4444444444444444,\"#bd3786\"],[0.5555555555555556,\"#d8576b\"],[0.6666666666666666,\"#ed7953\"],[0.7777777777777778,\"#fb9f3a\"],[0.8888888888888888,\"#fdca26\"],[1.0,\"#f0f921\"]]}],\"heatmap\":[{\"type\":\"heatmap\",\"colorbar\":{\"outlinewidth\":0,\"ticks\":\"\"},\"colorscale\":[[0.0,\"#0d0887\"],[0.1111111111111111,\"#46039f\"],[0.2222222222222222,\"#7201a8\"],[0.3333333333333333,\"#9c179e\"],[0.4444444444444444,\"#bd3786\"],[0.5555555555555556,\"#d8576b\"],[0.6666666666666666,\"#ed7953\"],[0.7777777777777778,\"#fb9f3a\"],[0.8888888888888888,\"#fdca26\"],[1.0,\"#f0f921\"]]}],\"heatmapgl\":[{\"type\":\"heatmapgl\",\"colorbar\":{\"outlinewidth\":0,\"ticks\":\"\"},\"colorscale\":[[0.0,\"#0d0887\"],[0.1111111111111111,\"#46039f\"],[0.2222222222222222,\"#7201a8\"],[0.3333333333333333,\"#9c179e\"],[0.4444444444444444,\"#bd3786\"],[0.5555555555555556,\"#d8576b\"],[0.6666666666666666,\"#ed7953\"],[0.7777777777777778,\"#fb9f3a\"],[0.8888888888888888,\"#fdca26\"],[1.0,\"#f0f921\"]]}],\"contourcarpet\":[{\"type\":\"contourcarpet\",\"colorbar\":{\"outlinewidth\":0,\"ticks\":\"\"}}],\"contour\":[{\"type\":\"contour\",\"colorbar\":{\"outlinewidth\":0,\"ticks\":\"\"},\"colorscale\":[[0.0,\"#0d0887\"],[0.1111111111111111,\"#46039f\"],[0.2222222222222222,\"#7201a8\"],[0.3333333333333333,\"#9c179e\"],[0.4444444444444444,\"#bd3786\"],[0.5555555555555556,\"#d8576b\"],[0.6666666666666666,\"#ed7953\"],[0.7777777777777778,\"#fb9f3a\"],[0.8888888888888888,\"#fdca26\"],[1.0,\"#f0f921\"]]}],\"surface\":[{\"type\":\"surface\",\"colorbar\":{\"outlinewidth\":0,\"ticks\":\"\"},\"colorscale\":[[0.0,\"#0d0887\"],[0.1111111111111111,\"#46039f\"],[0.2222222222222222,\"#7201a8\"],[0.3333333333333333,\"#9c179e\"],[0.4444444444444444,\"#bd3786\"],[0.5555555555555556,\"#d8576b\"],[0.6666666666666666,\"#ed7953\"],[0.7777777777777778,\"#fb9f3a\"],[0.8888888888888888,\"#fdca26\"],[1.0,\"#f0f921\"]]}],\"mesh3d\":[{\"type\":\"mesh3d\",\"colorbar\":{\"outlinewidth\":0,\"ticks\":\"\"}}],\"scatter\":[{\"fillpattern\":{\"fillmode\":\"overlay\",\"size\":10,\"solidity\":0.2},\"type\":\"scatter\"}],\"parcoords\":[{\"type\":\"parcoords\",\"line\":{\"colorbar\":{\"outlinewidth\":0,\"ticks\":\"\"}}}],\"scatterpolargl\":[{\"type\":\"scatterpolargl\",\"marker\":{\"colorbar\":{\"outlinewidth\":0,\"ticks\":\"\"}}}],\"bar\":[{\"error_x\":{\"color\":\"#2a3f5f\"},\"error_y\":{\"color\":\"#2a3f5f\"},\"marker\":{\"line\":{\"color\":\"#E5ECF6\",\"width\":0.5},\"pattern\":{\"fillmode\":\"overlay\",\"size\":10,\"solidity\":0.2}},\"type\":\"bar\"}],\"scattergeo\":[{\"type\":\"scattergeo\",\"marker\":{\"colorbar\":{\"outlinewidth\":0,\"ticks\":\"\"}}}],\"scatterpolar\":[{\"type\":\"scatterpolar\",\"marker\":{\"colorbar\":{\"outlinewidth\":0,\"ticks\":\"\"}}}],\"histogram\":[{\"marker\":{\"pattern\":{\"fillmode\":\"overlay\",\"size\":10,\"solidity\":0.2}},\"type\":\"histogram\"}],\"scattergl\":[{\"type\":\"scattergl\",\"marker\":{\"colorbar\":{\"outlinewidth\":0,\"ticks\":\"\"}}}],\"scatter3d\":[{\"type\":\"scatter3d\",\"line\":{\"colorbar\":{\"outlinewidth\":0,\"ticks\":\"\"}},\"marker\":{\"colorbar\":{\"outlinewidth\":0,\"ticks\":\"\"}}}],\"scattermapbox\":[{\"type\":\"scattermapbox\",\"marker\":{\"colorbar\":{\"outlinewidth\":0,\"ticks\":\"\"}}}],\"scatterternary\":[{\"type\":\"scatterternary\",\"marker\":{\"colorbar\":{\"outlinewidth\":0,\"ticks\":\"\"}}}],\"scattercarpet\":[{\"type\":\"scattercarpet\",\"marker\":{\"colorbar\":{\"outlinewidth\":0,\"ticks\":\"\"}}}],\"carpet\":[{\"aaxis\":{\"endlinecolor\":\"#2a3f5f\",\"gridcolor\":\"white\",\"linecolor\":\"white\",\"minorgridcolor\":\"white\",\"startlinecolor\":\"#2a3f5f\"},\"baxis\":{\"endlinecolor\":\"#2a3f5f\",\"gridcolor\":\"white\",\"linecolor\":\"white\",\"minorgridcolor\":\"white\",\"startlinecolor\":\"#2a3f5f\"},\"type\":\"carpet\"}],\"table\":[{\"cells\":{\"fill\":{\"color\":\"#EBF0F8\"},\"line\":{\"color\":\"white\"}},\"header\":{\"fill\":{\"color\":\"#C8D4E3\"},\"line\":{\"color\":\"white\"}},\"type\":\"table\"}],\"barpolar\":[{\"marker\":{\"line\":{\"color\":\"#E5ECF6\",\"width\":0.5},\"pattern\":{\"fillmode\":\"overlay\",\"size\":10,\"solidity\":0.2}},\"type\":\"barpolar\"}],\"pie\":[{\"automargin\":true,\"type\":\"pie\"}]},\"layout\":{\"autotypenumbers\":\"strict\",\"colorway\":[\"#636efa\",\"#EF553B\",\"#00cc96\",\"#ab63fa\",\"#FFA15A\",\"#19d3f3\",\"#FF6692\",\"#B6E880\",\"#FF97FF\",\"#FECB52\"],\"font\":{\"color\":\"#2a3f5f\"},\"hovermode\":\"closest\",\"hoverlabel\":{\"align\":\"left\"},\"paper_bgcolor\":\"white\",\"plot_bgcolor\":\"#E5ECF6\",\"polar\":{\"bgcolor\":\"#E5ECF6\",\"angularaxis\":{\"gridcolor\":\"white\",\"linecolor\":\"white\",\"ticks\":\"\"},\"radialaxis\":{\"gridcolor\":\"white\",\"linecolor\":\"white\",\"ticks\":\"\"}},\"ternary\":{\"bgcolor\":\"#E5ECF6\",\"aaxis\":{\"gridcolor\":\"white\",\"linecolor\":\"white\",\"ticks\":\"\"},\"baxis\":{\"gridcolor\":\"white\",\"linecolor\":\"white\",\"ticks\":\"\"},\"caxis\":{\"gridcolor\":\"white\",\"linecolor\":\"white\",\"ticks\":\"\"}},\"coloraxis\":{\"colorbar\":{\"outlinewidth\":0,\"ticks\":\"\"}},\"colorscale\":{\"sequential\":[[0.0,\"#0d0887\"],[0.1111111111111111,\"#46039f\"],[0.2222222222222222,\"#7201a8\"],[0.3333333333333333,\"#9c179e\"],[0.4444444444444444,\"#bd3786\"],[0.5555555555555556,\"#d8576b\"],[0.6666666666666666,\"#ed7953\"],[0.7777777777777778,\"#fb9f3a\"],[0.8888888888888888,\"#fdca26\"],[1.0,\"#f0f921\"]],\"sequentialminus\":[[0.0,\"#0d0887\"],[0.1111111111111111,\"#46039f\"],[0.2222222222222222,\"#7201a8\"],[0.3333333333333333,\"#9c179e\"],[0.4444444444444444,\"#bd3786\"],[0.5555555555555556,\"#d8576b\"],[0.6666666666666666,\"#ed7953\"],[0.7777777777777778,\"#fb9f3a\"],[0.8888888888888888,\"#fdca26\"],[1.0,\"#f0f921\"]],\"diverging\":[[0,\"#8e0152\"],[0.1,\"#c51b7d\"],[0.2,\"#de77ae\"],[0.3,\"#f1b6da\"],[0.4,\"#fde0ef\"],[0.5,\"#f7f7f7\"],[0.6,\"#e6f5d0\"],[0.7,\"#b8e186\"],[0.8,\"#7fbc41\"],[0.9,\"#4d9221\"],[1,\"#276419\"]]},\"xaxis\":{\"gridcolor\":\"white\",\"linecolor\":\"white\",\"ticks\":\"\",\"title\":{\"standoff\":15},\"zerolinecolor\":\"white\",\"automargin\":true,\"zerolinewidth\":2},\"yaxis\":{\"gridcolor\":\"white\",\"linecolor\":\"white\",\"ticks\":\"\",\"title\":{\"standoff\":15},\"zerolinecolor\":\"white\",\"automargin\":true,\"zerolinewidth\":2},\"scene\":{\"xaxis\":{\"backgroundcolor\":\"#E5ECF6\",\"gridcolor\":\"white\",\"linecolor\":\"white\",\"showbackground\":true,\"ticks\":\"\",\"zerolinecolor\":\"white\",\"gridwidth\":2},\"yaxis\":{\"backgroundcolor\":\"#E5ECF6\",\"gridcolor\":\"white\",\"linecolor\":\"white\",\"showbackground\":true,\"ticks\":\"\",\"zerolinecolor\":\"white\",\"gridwidth\":2},\"zaxis\":{\"backgroundcolor\":\"#E5ECF6\",\"gridcolor\":\"white\",\"linecolor\":\"white\",\"showbackground\":true,\"ticks\":\"\",\"zerolinecolor\":\"white\",\"gridwidth\":2}},\"shapedefaults\":{\"line\":{\"color\":\"#2a3f5f\"}},\"annotationdefaults\":{\"arrowcolor\":\"#2a3f5f\",\"arrowhead\":0,\"arrowwidth\":1},\"geo\":{\"bgcolor\":\"white\",\"landcolor\":\"#E5ECF6\",\"subunitcolor\":\"white\",\"showland\":true,\"showlakes\":true,\"lakecolor\":\"white\"},\"title\":{\"x\":0.05},\"mapbox\":{\"style\":\"light\"}}},\"legend\":{\"tracegroupgap\":0},\"margin\":{\"t\":60}},                        {\"responsive\": true}                    ).then(function(){\n",
       "                            \n",
       "var gd = document.getElementById('585c8f9f-b84f-4c83-9b90-a004aedead20');\n",
       "var x = new MutationObserver(function (mutations, observer) {{\n",
       "        var display = window.getComputedStyle(gd).display;\n",
       "        if (!display || display === 'none') {{\n",
       "            console.log([gd, 'removed!']);\n",
       "            Plotly.purge(gd);\n",
       "            observer.disconnect();\n",
       "        }}\n",
       "}});\n",
       "\n",
       "// Listen for the removal of the full notebook cells\n",
       "var notebookContainer = gd.closest('#notebook-container');\n",
       "if (notebookContainer) {{\n",
       "    x.observe(notebookContainer, {childList: true});\n",
       "}}\n",
       "\n",
       "// Listen for the clearing of the current output cell\n",
       "var outputEl = gd.closest('.output');\n",
       "if (outputEl) {{\n",
       "    x.observe(outputEl, {childList: true});\n",
       "}}\n",
       "\n",
       "                        })                };                });            </script>        </div>"
      ]
     },
     "metadata": {},
     "output_type": "display_data"
    }
   ],
   "source": [
    "fig = px.treemap(data, path=[px.Constant('NIKE'), 'availability', 'name'], values='review_count')\n",
    "fig.show()"
   ]
  }
 ],
 "metadata": {
  "kernelspec": {
   "display_name": "Python 3",
   "language": "python",
   "name": "python3"
  },
  "language_info": {
   "codemirror_mode": {
    "name": "ipython",
    "version": 3
   },
   "file_extension": ".py",
   "mimetype": "text/x-python",
   "name": "python",
   "nbconvert_exporter": "python",
   "pygments_lexer": "ipython3",
   "version": "3.7.12"
  },
  "papermill": {
   "default_parameters": {},
   "duration": 15.121616,
   "end_time": "2022-09-27T08:35:48.252259",
   "environment_variables": {},
   "exception": null,
   "input_path": "__notebook__.ipynb",
   "output_path": "__notebook__.ipynb",
   "parameters": {},
   "start_time": "2022-09-27T08:35:33.130643",
   "version": "2.3.4"
  }
 },
 "nbformat": 4,
 "nbformat_minor": 5
}
